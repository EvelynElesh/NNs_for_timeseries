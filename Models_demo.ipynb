{
 "cells": [
  {
   "cell_type": "code",
   "execution_count": 1,
   "id": "bd5e207f-8fb6-4aca-96a0-42a0bc0fa50b",
   "metadata": {},
   "outputs": [],
   "source": [
    "import pandas as pd\n",
    "import numpy as np\n",
    "\n",
    "\n",
    "from numpy import array\n",
    "import matplotlib.pyplot as plt\n",
    "from sklearn.model_selection import train_test_split\n",
    "from sklearn.preprocessing import MinMaxScaler\n",
    "import tensorflow as tf\n",
    "import keras\n",
    "import math\n",
    "%matplotlib inline\n",
    "from keras.models import Sequential\n",
    "from keras.layers import LSTM\n",
    "from keras.layers import Dense\n",
    "from keras.layers import Flatten\n",
    "from keras.layers.convolutional import Conv1D\n",
    "from keras.layers.convolutional import MaxPooling1D\n",
    "from keras.layers import Bidirectional\n",
    "from keras.layers import TimeDistributed\n",
    "from keras.layers import ConvLSTM2D\n",
    "\n",
    "from keras.layers import SimpleRNN, Embedding\n"
   ]
  },
  {
   "cell_type": "markdown",
   "id": "71328d3d-c742-43fc-bdf1-40d7dd5dfe29",
   "metadata": {},
   "source": [
    "## DEMO"
   ]
  },
  {
   "cell_type": "markdown",
   "id": "d25744ea-b8d2-4bbc-b0cf-a42e77d8fc8c",
   "metadata": {
    "tags": []
   },
   "source": [
    "# For univariate time series: vanilla LSTM"
   ]
  },
  {
   "cell_type": "markdown",
   "id": "09fd9b3a-94a2-4ba1-bbeb-6ac09004b84f",
   "metadata": {},
   "source": [
    "A Vanilla LSTM is an LSTM model that has a single hidden layer of LSTM units, and an output layer used to make a prediction. Vanilla LSTM for univariate time series forecasting. We are working with a univariate series, so the number of features is one, for one variable.\n",
    "\n",
    "The number of time steps as input is the number we chose when preparing our dataset as an argument to the split_sequence() function.\n",
    "\n",
    "The shape of the input for each sample is specified in the input_shape argument on the definition of first hidden layer."
   ]
  },
  {
   "cell_type": "markdown",
   "id": "f64e4814-8620-4e13-bcb5-f53f2fdddf11",
   "metadata": {},
   "source": [
    "The split_sequence() function below maps a sequence of past observations as input to an output observation. As such, the sequence of observations must be transformed into multiple examples from which the LSTM can learn. and will split a given univariate sequence into multiple samples where each sample has a specified number of time steps and the output is a single time step."
   ]
  },
  {
   "cell_type": "code",
   "execution_count": 2,
   "id": "a274bd9c-c207-49a1-99c2-f74e85bf237b",
   "metadata": {},
   "outputs": [],
   "source": [
    "# split a univariate sequence into samples\n",
    "def split_sequence(sequence, n_steps):\n",
    "    X, y = list(), list()\n",
    "    for i in range(len(sequence)):\n",
    "        # find the end of this pattern\n",
    "        end_ix = i + n_steps\n",
    "        # check if we are beyond the sequence\n",
    "        if end_ix > len(sequence)-1:\n",
    "            break\n",
    "        # gather input and output parts of the pattern\n",
    "        seq_x, seq_y = sequence[i:end_ix], sequence[end_ix]\n",
    "        X.append(seq_x)\n",
    "        y.append(seq_y)\n",
    "    return array(X), array(y)"
   ]
  },
  {
   "cell_type": "code",
   "execution_count": 3,
   "id": "cdb07692-6cbc-4bca-a459-5415dfb9e175",
   "metadata": {},
   "outputs": [
    {
     "name": "stdout",
     "output_type": "stream",
     "text": [
      "[10 20 30] 40\n",
      "[20 30 40] 50\n",
      "[30 40 50] 60\n",
      "[40 50 60] 70\n",
      "[50 60 70] 80\n",
      "[60 70 80] 90\n"
     ]
    }
   ],
   "source": [
    "# define input sequence\n",
    "raw_seq = [10, 20, 30, 40, 50, 60, 70, 80, 90]\n",
    "# choose a number of time steps\n",
    "n_steps = 3\n",
    "# split into samples\n",
    "X, y = split_sequence(raw_seq, n_steps)\n",
    "# summarize the data\n",
    "for i in range(len(X)):\n",
    "\tprint(X[i], y[i])"
   ]
  },
  {
   "cell_type": "markdown",
   "id": "f21520b2-942d-4a57-81cd-b765a1e371b1",
   "metadata": {},
   "source": [
    "Key in the definition is the shape of the input; that is what the model expects as input for each sample in terms of the number of time steps and the number of features.\n",
    "\n",
    "We are working with a univariate series, so the number of features is one, for one variable.\n",
    "\n",
    "The number of time steps as input is the number we chose when preparing our dataset as an argument to the split_sequence() function.\n",
    "\n",
    "The shape of the input for each sample is specified in the input_shape argument on the definition of first hidden layer.\n",
    "\n",
    "We almost always have multiple samples, therefore, the model will expect the input component of training data to have the dimensions or shape: [samples, timesteps, features]"
   ]
  },
  {
   "cell_type": "code",
   "execution_count": 4,
   "id": "c885dbb9-9ee7-462b-bf52-dee14bd951a2",
   "metadata": {},
   "outputs": [
    {
     "data": {
      "text/plain": [
       "(6, 3)"
      ]
     },
     "execution_count": 4,
     "metadata": {},
     "output_type": "execute_result"
    }
   ],
   "source": [
    "X.shape"
   ]
  },
  {
   "cell_type": "code",
   "execution_count": 5,
   "id": "0cf31f56-3d0e-4d35-a8b5-84ddaec6bd90",
   "metadata": {},
   "outputs": [],
   "source": [
    "# reshape from [samples, timesteps] into [samples, timesteps, features]\n",
    "n_features = 1\n",
    "X = X.reshape((X.shape[0], X.shape[1], n_features))"
   ]
  },
  {
   "cell_type": "code",
   "execution_count": 6,
   "id": "f5d023df-a7d4-4963-a020-b90ab374d15a",
   "metadata": {},
   "outputs": [
    {
     "data": {
      "text/plain": [
       "(6, 3, 1)"
      ]
     },
     "execution_count": 6,
     "metadata": {},
     "output_type": "execute_result"
    }
   ],
   "source": [
    "X.shape"
   ]
  },
  {
   "cell_type": "code",
   "execution_count": 7,
   "id": "36f10c9d-cab0-4add-ab5d-48615d726005",
   "metadata": {},
   "outputs": [
    {
     "data": {
      "text/plain": [
       "array([[[10],\n",
       "        [20],\n",
       "        [30]],\n",
       "\n",
       "       [[20],\n",
       "        [30],\n",
       "        [40]],\n",
       "\n",
       "       [[30],\n",
       "        [40],\n",
       "        [50]],\n",
       "\n",
       "       [[40],\n",
       "        [50],\n",
       "        [60]],\n",
       "\n",
       "       [[50],\n",
       "        [60],\n",
       "        [70]],\n",
       "\n",
       "       [[60],\n",
       "        [70],\n",
       "        [80]]])"
      ]
     },
     "execution_count": 7,
     "metadata": {},
     "output_type": "execute_result"
    }
   ],
   "source": [
    "X"
   ]
  },
  {
   "cell_type": "code",
   "execution_count": 8,
   "id": "c6ee841a-a865-4893-b882-5e31b92d44d7",
   "metadata": {},
   "outputs": [
    {
     "data": {
      "text/plain": [
       "(6, 3, 1)"
      ]
     },
     "execution_count": 8,
     "metadata": {},
     "output_type": "execute_result"
    }
   ],
   "source": [
    "X.shape"
   ]
  },
  {
   "cell_type": "code",
   "execution_count": 9,
   "id": "6522456f-8c15-423d-906f-0f42f6e84aa4",
   "metadata": {},
   "outputs": [],
   "source": [
    "# define model\n",
    "model = Sequential()\n",
    "model.add(LSTM(50, activation='relu', input_shape=(n_steps, n_features)))\n",
    "model.add(Dense(1))\n",
    "model.compile(optimizer='adam', loss='mse')"
   ]
  },
  {
   "cell_type": "code",
   "execution_count": 10,
   "id": "750924f1-2c79-497b-8131-58d9168c281d",
   "metadata": {},
   "outputs": [
    {
     "data": {
      "text/plain": [
       "<keras.callbacks.History at 0x16383de7b50>"
      ]
     },
     "execution_count": 10,
     "metadata": {},
     "output_type": "execute_result"
    }
   ],
   "source": [
    "# fit model\n",
    "model.fit(X, y, epochs=200, verbose=0)"
   ]
  },
  {
   "cell_type": "code",
   "execution_count": 11,
   "id": "9f26bba2-bffb-44e1-8b8e-3eba0a5f4f47",
   "metadata": {},
   "outputs": [
    {
     "name": "stdout",
     "output_type": "stream",
     "text": [
      "[[102.35599]]\n"
     ]
    }
   ],
   "source": [
    "# demonstrate prediction\n",
    "x_input = array([70, 80, 90])\n",
    "x_input = x_input.reshape((1, n_steps, n_features))\n",
    "yhat = model.predict(x_input, verbose=0)\n",
    "print(yhat)"
   ]
  },
  {
   "cell_type": "code",
   "execution_count": 12,
   "id": "b11cf6a5-76f0-44e7-98f7-825500c839fa",
   "metadata": {},
   "outputs": [
    {
     "name": "stdout",
     "output_type": "stream",
     "text": [
      "1/1 [==============================] - 0s 290ms/step - loss: 0.5636\n"
     ]
    },
    {
     "data": {
      "text/plain": [
       "0.5635913014411926"
      ]
     },
     "execution_count": 12,
     "metadata": {},
     "output_type": "execute_result"
    }
   ],
   "source": [
    "model.evaluate(X,y)"
   ]
  },
  {
   "cell_type": "code",
   "execution_count": 13,
   "id": "6c719af2-28d3-4832-959a-54195d69cf28",
   "metadata": {},
   "outputs": [
    {
     "name": "stdout",
     "output_type": "stream",
     "text": [
      "[10 20 30] 40\n",
      "[20 30 40] 50\n",
      "[30 40 50] 60\n",
      "[40 50 60] 70\n",
      "[50 60 70] 80\n",
      "[60 70 80] 90\n"
     ]
    }
   ],
   "source": [
    "#To predict the next multiple steps\n",
    "\n",
    "# define input sequence\n",
    "raw_seq = [10, 20, 30, 40, 50, 60, 70, 80, 90]\n",
    "# choose a number of time steps\n",
    "n_steps = 3\n",
    "# split into samples\n",
    "X, y = split_sequence(raw_seq, n_steps)\n",
    "# summarize the data\n",
    "for i in range(len(X)):\n",
    "\tprint(X[i], y[i])\n"
   ]
  },
  {
   "cell_type": "code",
   "execution_count": 14,
   "id": "db1d6fa4-1356-41b7-98c9-08ee6480703d",
   "metadata": {},
   "outputs": [
    {
     "data": {
      "text/plain": [
       "array([[10, 20, 30],\n",
       "       [20, 30, 40],\n",
       "       [30, 40, 50],\n",
       "       [40, 50, 60],\n",
       "       [50, 60, 70],\n",
       "       [60, 70, 80]])"
      ]
     },
     "execution_count": 14,
     "metadata": {},
     "output_type": "execute_result"
    }
   ],
   "source": [
    "X"
   ]
  },
  {
   "cell_type": "code",
   "execution_count": 15,
   "id": "f3e562c4-6348-49f3-acf9-89d8747114d1",
   "metadata": {},
   "outputs": [
    {
     "data": {
      "text/plain": [
       "array([40, 50, 60, 70, 80, 90])"
      ]
     },
     "execution_count": 15,
     "metadata": {},
     "output_type": "execute_result"
    }
   ],
   "source": [
    "y"
   ]
  },
  {
   "cell_type": "code",
   "execution_count": 16,
   "id": "bea42aef-c0b0-4a3c-ab08-fd9c57e5305e",
   "metadata": {},
   "outputs": [
    {
     "data": {
      "text/plain": [
       "(6, 3)"
      ]
     },
     "execution_count": 16,
     "metadata": {},
     "output_type": "execute_result"
    }
   ],
   "source": [
    "X.shape"
   ]
  },
  {
   "cell_type": "code",
   "execution_count": 17,
   "id": "d5a5eeaa-bb57-487b-bb43-61792393bdcf",
   "metadata": {},
   "outputs": [],
   "source": [
    "# reshape from [samples, timesteps] into [samples, timesteps, features]\n",
    "n_features = 1\n",
    "X = X.reshape((X.shape[0], X.shape[1], n_features))"
   ]
  },
  {
   "cell_type": "code",
   "execution_count": 18,
   "id": "170e1e11-6b40-4f24-a55d-894c1d350548",
   "metadata": {},
   "outputs": [
    {
     "data": {
      "text/plain": [
       "(6, 3, 1)"
      ]
     },
     "execution_count": 18,
     "metadata": {},
     "output_type": "execute_result"
    }
   ],
   "source": [
    "X.shape"
   ]
  },
  {
   "cell_type": "code",
   "execution_count": 19,
   "id": "37f08163-b8a3-47ed-8080-9268d79c83ef",
   "metadata": {},
   "outputs": [],
   "source": [
    "# define model\n",
    "model = Sequential()\n",
    "model.add(LSTM(50, activation='relu', input_shape=(n_steps, n_features)))\n",
    "model.add(Dense(5))\n",
    "model.compile(optimizer='adam', loss='mse')"
   ]
  },
  {
   "cell_type": "code",
   "execution_count": 20,
   "id": "ce69efc5-b1d4-45dc-b897-4748d50446a5",
   "metadata": {},
   "outputs": [
    {
     "data": {
      "text/plain": [
       "<keras.callbacks.History at 0x16387570bb0>"
      ]
     },
     "execution_count": 20,
     "metadata": {},
     "output_type": "execute_result"
    }
   ],
   "source": [
    "# fit model\n",
    "model.fit(X, y, epochs=200, verbose=0)"
   ]
  },
  {
   "cell_type": "code",
   "execution_count": 21,
   "id": "db25ac69-a831-4ff8-a08b-ff45e70f732e",
   "metadata": {},
   "outputs": [
    {
     "name": "stdout",
     "output_type": "stream",
     "text": [
      "[[101.01178  101.9293   101.20247  102.088066 102.12341 ]]\n"
     ]
    }
   ],
   "source": [
    "# demonstrate prediction\n",
    "x_input = array([70, 80, 90])\n",
    "x_input = x_input.reshape((1, n_steps, n_features))\n",
    "yhat = model.predict(x_input, verbose=0)\n",
    "print(yhat)"
   ]
  },
  {
   "cell_type": "code",
   "execution_count": 22,
   "id": "d8a4a3ad-fb68-48ab-9830-17962afc6556",
   "metadata": {},
   "outputs": [
    {
     "name": "stdout",
     "output_type": "stream",
     "text": [
      "1/1 [==============================] - 0s 226ms/step - loss: 1.2803\n"
     ]
    },
    {
     "data": {
      "text/plain": [
       "1.280314326286316"
      ]
     },
     "execution_count": 22,
     "metadata": {},
     "output_type": "execute_result"
    }
   ],
   "source": [
    "model.evaluate(X,y)"
   ]
  },
  {
   "cell_type": "markdown",
   "id": "d15aee86-0442-4950-9bf9-e831146c6c92",
   "metadata": {},
   "source": [
    "\n",
    "__What is a dense layer__? When all the neurons in a layer are connected to every neuron in the previous layer (for example, the input layer), it is called a fully connected or dense layer. Each dense layer layer manages its own weight matix, containing all the connection weights between the neurons and their inputs. It also manages a vector of bias terms(one per neuron). Once it receives some input data, it computes XW+b\n",
    "\n",
    "__On hidden layers__: The neurons in the first hidden layer learns simple patterns from the input, while the second hidden layers then combines the simple patterns from the first hidden layer into more complex patterns and so on. The more layers there are, the more complex the patterns can be. One single layer can model complex functions provided it has enough neurons. However, for complex problems, deep networks have a much higher parameters eficiency than shallow ones which enables them to reach much better performance with the same amount of training data. It helps DNNs converge faster to a good solution and also improves their ability to generalize to new datasets.\n",
    "\n",
    "__On Neurons__: The number of input and output layers is determined by the type of input and output the task requires. In practice, it is efficient to pick a model with more layers and neurons than we need, then use early stopping and other regulization techniques to prevent overfitting. In general, one could get more accuracy by increasing number of layers instead of number of neurons.\n",
    "\n",
    "__On activation functions__: To enable our model output any range of values, we need not include an activation function for the output neuron.\n",
    "\n",
    "__On Sequential APIs__: It is the simplest kind of Keras model for neural networks that are just composed of a single stack of layers connected sequentially.\n",
    "    \n",
    "__How do we then choose the best parameters?__ Use randomized search, Hyperopt(a library for optizing over all sort of complex search space), hyperas, kopt, or Talos (libraries for optimizing hyperparameters for keras models).\n",
    "\n",
    "__The difference between the models__: Both MLP and CNN can be used for Image classification however MLP takes vector as input and CNN takes tensor ( (image_height, image_width, color_channels) as input so CNN can understand relation between nearby pixels of image better. \n",
    "So for complicated images, CNN will perform better than MLP. \n",
    "CNN is designed to work for Images or Videos classification.\n",
    "\n",
    "RNN is designed to work for problems related to sequence like sequence of words in a sentence for NLP or sequence of sounds in speech recognition or processing.\n",
    "\n",
    "So MLP is good for simple image classification,\n",
    "CNN is good for complicated image classification,\n",
    "and RNN is good for sequence processing."
   ]
  },
  {
   "cell_type": "code",
   "execution_count": 23,
   "id": "2c3d3cc4-75c7-4a6b-8378-60d809f281e6",
   "metadata": {},
   "outputs": [
    {
     "data": {
      "text/plain": [
       "'dense_1'"
      ]
     },
     "execution_count": 23,
     "metadata": {},
     "output_type": "execute_result"
    }
   ],
   "source": [
    "hidden1 = model.layers[1]\n",
    "hidden1.name"
   ]
  },
  {
   "cell_type": "code",
   "execution_count": 24,
   "id": "d5c605c7-88f8-469f-a1d7-e37871ee3a72",
   "metadata": {},
   "outputs": [],
   "source": [
    "weights, biases = hidden1.get_weights()"
   ]
  },
  {
   "cell_type": "code",
   "execution_count": 25,
   "id": "142af53e-a4a2-4d1d-b665-190e8cfcf493",
   "metadata": {
    "scrolled": true,
    "tags": []
   },
   "outputs": [
    {
     "data": {
      "text/plain": [
       "array([[-0.12210858, -0.29742852,  0.26207918,  0.30627638,  0.30391854],\n",
       "       [ 0.1287108 ,  0.26392967,  0.18815047,  0.06948057,  0.27923238],\n",
       "       [-0.26874736,  0.3138451 , -0.31340063,  0.08870661, -0.28902826],\n",
       "       [ 0.1281084 , -0.25862014, -0.16048047, -0.09700622, -0.24483573],\n",
       "       [-0.2753052 ,  0.03325362, -0.27788925, -0.28995362, -0.24782759],\n",
       "       [-0.1405639 ,  0.21824008,  0.26279306,  0.18612397,  0.07253155],\n",
       "       [ 0.3958949 ,  0.2164954 ,  0.24604288, -0.22521293, -0.02319966],\n",
       "       [-0.19143459,  0.02659565, -0.03192744, -0.15765344,  0.20976889],\n",
       "       [-0.4508551 , -0.3032045 , -0.21823728,  0.10533374, -0.35982457],\n",
       "       [ 0.14052781,  0.00838554, -0.08938941, -0.11770982,  0.24039158],\n",
       "       [ 0.39723554, -0.15307018, -0.03593358,  0.39509034, -0.17086124],\n",
       "       [ 0.20770687,  0.13897446, -0.28023922,  0.30667633, -0.11341923],\n",
       "       [ 0.30794746,  0.26141995,  0.15366396, -0.15520519, -0.16739066],\n",
       "       [-0.05583104, -0.01172033,  0.2842614 , -0.18305393, -0.29661366],\n",
       "       [-0.12935616, -0.12712571,  0.09328488,  0.22339098, -0.20087613],\n",
       "       [ 0.09840351,  0.02118231,  0.16338539, -0.00650513, -0.18326685],\n",
       "       [ 0.39160177, -0.15455647, -0.00291794,  0.24909471,  0.26164997],\n",
       "       [ 0.30442572,  0.338149  ,  0.23920232,  0.26052618,  0.04655604],\n",
       "       [-0.27689633, -0.12311859, -0.19514629, -0.23502024, -0.31362304],\n",
       "       [ 0.35699132, -0.19532037, -0.10813991,  0.23816678, -0.21595454],\n",
       "       [-0.26502278, -0.05646391, -0.06368778,  0.0635978 ,  0.33424714],\n",
       "       [ 0.08342218, -0.19471622, -0.23280057,  0.13482183,  0.19405317],\n",
       "       [ 0.36285105,  0.34735194, -0.14034168, -0.09630509, -0.10967641],\n",
       "       [ 0.14918426, -0.23779118,  0.2572387 , -0.1761531 ,  0.2687443 ],\n",
       "       [-0.16757531,  0.20450817,  0.30300832, -0.16272889,  0.19632153],\n",
       "       [ 0.00956307,  0.03376058,  0.38288558, -0.1568952 ,  0.22383519],\n",
       "       [ 0.06521091,  0.15526873,  0.09788686, -0.17909901, -0.28716573],\n",
       "       [-0.06731512,  0.14068261, -0.18923758,  0.37180674,  0.31520084],\n",
       "       [-0.27353242,  0.13513586, -0.1587162 ,  0.15678775,  0.08417857],\n",
       "       [-0.05371702,  0.316273  ,  0.35580453,  0.00929536, -0.22497883],\n",
       "       [-0.03515944,  0.05836334,  0.23261574,  0.35833907, -0.1960564 ],\n",
       "       [ 0.06261977,  0.03393829,  0.25025645,  0.09672898, -0.03288915],\n",
       "       [-0.03399432, -0.15718977, -0.17185846, -0.3231634 ,  0.1722421 ],\n",
       "       [ 0.17006123,  0.28753507,  0.01823366,  0.12305748, -0.07442045],\n",
       "       [ 0.09721991,  0.25973675, -0.12545484, -0.08797049,  0.19171615],\n",
       "       [ 0.19606821,  0.18772316,  0.33022648,  0.32907686, -0.0397881 ],\n",
       "       [ 0.34721264,  0.33822268,  0.12421963,  0.37265453, -0.00449886],\n",
       "       [ 0.01192395,  0.3854698 , -0.2848307 ,  0.20015106,  0.04057701],\n",
       "       [-0.02218038,  0.20720476,  0.3173262 ,  0.22805017,  0.2704296 ],\n",
       "       [-0.19753882,  0.20869964,  0.22498637, -0.15899308, -0.07513967],\n",
       "       [-0.09775735, -0.10981247,  0.31707677, -0.05494727,  0.17614193],\n",
       "       [-0.0726345 ,  0.25687486, -0.05695663,  0.1666361 ,  0.04499433],\n",
       "       [-0.25723383,  0.21252358,  0.25232613,  0.17469472, -0.14205253],\n",
       "       [-0.17825884, -0.22777794, -0.10173091,  0.24098498, -0.20514034],\n",
       "       [-0.21405815,  0.07158706,  0.07019648,  0.2082547 ,  0.0516046 ],\n",
       "       [ 0.2243185 ,  0.0697732 , -0.24499542, -0.3040862 , -0.10994548],\n",
       "       [-0.24457924, -0.01307551,  0.37184063,  0.37131092, -0.13570184],\n",
       "       [ 0.15593532,  0.09769088,  0.3690653 ,  0.00501738,  0.00594516],\n",
       "       [ 0.19621606, -0.32488248, -0.00249698, -0.09473112,  0.0323796 ],\n",
       "       [ 0.11815745, -0.06804535, -0.04931101, -0.17709419,  0.1238004 ]],\n",
       "      dtype=float32)"
      ]
     },
     "execution_count": 25,
     "metadata": {},
     "output_type": "execute_result"
    }
   ],
   "source": [
    "weights"
   ]
  },
  {
   "cell_type": "code",
   "execution_count": 26,
   "id": "55ec7209-3475-4bd3-affb-5d7222abdd70",
   "metadata": {},
   "outputs": [
    {
     "data": {
      "text/plain": [
       "(50, 5)"
      ]
     },
     "execution_count": 26,
     "metadata": {},
     "output_type": "execute_result"
    }
   ],
   "source": [
    "weights.shape"
   ]
  },
  {
   "cell_type": "code",
   "execution_count": 27,
   "id": "74e5a7b4-1297-415b-b7ea-f23e35b0fe0b",
   "metadata": {},
   "outputs": [
    {
     "data": {
      "text/plain": [
       "array([0.06376693, 0.05968875, 0.06061279, 0.07234608, 0.08081085],\n",
       "      dtype=float32)"
      ]
     },
     "execution_count": 27,
     "metadata": {},
     "output_type": "execute_result"
    }
   ],
   "source": [
    "biases"
   ]
  },
  {
   "cell_type": "code",
   "execution_count": 28,
   "id": "dfd2f496-5601-4cf9-a416-3983ffc876df",
   "metadata": {},
   "outputs": [
    {
     "data": {
      "text/plain": [
       "(5,)"
      ]
     },
     "execution_count": 28,
     "metadata": {},
     "output_type": "execute_result"
    }
   ],
   "source": [
    "biases.shape"
   ]
  },
  {
   "cell_type": "code",
   "execution_count": 29,
   "id": "3638db1e-0c73-49f5-a124-19f254182142",
   "metadata": {},
   "outputs": [
    {
     "name": "stdout",
     "output_type": "stream",
     "text": [
      "1/1 [==============================] - 0s 20ms/step - loss: 1.2803\n"
     ]
    },
    {
     "data": {
      "text/plain": [
       "1.280314326286316"
      ]
     },
     "execution_count": 29,
     "metadata": {},
     "output_type": "execute_result"
    }
   ],
   "source": [
    "model.evaluate(X,y)"
   ]
  },
  {
   "cell_type": "markdown",
   "id": "b2bb0a4e-b1e2-46f6-aa50-84f1775c2dcd",
   "metadata": {},
   "source": [
    "# To predict multiple steps ahead"
   ]
  },
  {
   "cell_type": "code",
   "execution_count": 3,
   "id": "99449ed1-1f6d-4c6f-8bf7-040a64bd2c30",
   "metadata": {},
   "outputs": [
    {
     "name": "stdout",
     "output_type": "stream",
     "text": [
      "[[243.65732 267.03348]]\n"
     ]
    }
   ],
   "source": [
    "# split a univariate sequence into samples\n",
    "def split_sequence(sequence, n_steps_in, n_steps_out):\n",
    "    X, y = list(), list()\n",
    "    for i in range(len(sequence)):\n",
    "        # find the end of this pattern\n",
    "        end_ix = i + n_steps_in\n",
    "        out_end_ix = end_ix + n_steps_out\n",
    "        # check if we are beyond the sequence\n",
    "        if out_end_ix > len(sequence):\n",
    "            break\n",
    "        # gather input and output parts of the pattern\n",
    "        seq_x, seq_y = sequence[i:end_ix], sequence[end_ix:out_end_ix]\n",
    "        X.append(seq_x)\n",
    "        y.append(seq_y)\n",
    "    return array(X), array(y)\n",
    " \n",
    "# define input sequence\n",
    "raw_seq = [10, 20, 30, 40, 50, 60, 70, 80, 90, 100, 110, 120, 130, 140, 150, 160, 170, 180, 190, 200]\n",
    "\n",
    "\n",
    "# choose a number of time steps\n",
    "n_steps_in, n_steps_out = 3, 2\n",
    "\n",
    "\n",
    "# split into samples\n",
    "X, y = split_sequence(raw_seq, n_steps_in, n_steps_out)\n",
    "\n",
    "\n",
    "# reshape from [samples, timesteps] into [samples, timesteps, features]\n",
    "n_features = 1\n",
    "X = X.reshape((X.shape[0], X.shape[1], n_features))\n",
    "\n",
    "\n",
    "# define model\n",
    "model = Sequential()\n",
    "model.add(LSTM(100, activation='relu', return_sequences=True, input_shape=(n_steps_in, n_features)))\n",
    "model.add(LSTM(100, activation='relu'))\n",
    "model.add(Dense(n_steps_out))\n",
    "model.compile(optimizer='adam', loss='mse')\n",
    "\n",
    "\n",
    "# fit model\n",
    "model.fit(X, y, epochs=50, verbose=0)\n",
    "\n",
    "\n",
    "# demonstrate prediction\n",
    "x_input = array([210, 220, 230])\n",
    "x_input = x_input.reshape((1, n_steps_in, n_features))\n",
    "yhat = model.predict(x_input, verbose=0)\n",
    "\n",
    "\n",
    "print(yhat)"
   ]
  },
  {
   "cell_type": "code",
   "execution_count": 4,
   "id": "11988cab-21bc-43d5-90ae-dd5a7716c789",
   "metadata": {},
   "outputs": [
    {
     "data": {
      "text/plain": [
       "(16, 3, 1)"
      ]
     },
     "execution_count": 4,
     "metadata": {},
     "output_type": "execute_result"
    }
   ],
   "source": [
    "X.shape"
   ]
  },
  {
   "cell_type": "code",
   "execution_count": 5,
   "id": "2bd50dd3-e70a-44b0-8e54-76c36de85b09",
   "metadata": {},
   "outputs": [
    {
     "data": {
      "text/plain": [
       "(16, 3, 1)"
      ]
     },
     "execution_count": 5,
     "metadata": {},
     "output_type": "execute_result"
    }
   ],
   "source": [
    "X.shape"
   ]
  },
  {
   "cell_type": "code",
   "execution_count": 4,
   "id": "9f5accc3-84b0-4c67-b23e-fde03360fce2",
   "metadata": {},
   "outputs": [
    {
     "data": {
      "text/plain": [
       "array([[ 40,  50],\n",
       "       [ 50,  60],\n",
       "       [ 60,  70],\n",
       "       [ 70,  80],\n",
       "       [ 80,  90],\n",
       "       [ 90, 100],\n",
       "       [100, 110],\n",
       "       [110, 120],\n",
       "       [120, 130],\n",
       "       [130, 140],\n",
       "       [140, 150],\n",
       "       [150, 160],\n",
       "       [160, 170],\n",
       "       [170, 180],\n",
       "       [180, 190],\n",
       "       [190, 200]])"
      ]
     },
     "execution_count": 4,
     "metadata": {},
     "output_type": "execute_result"
    }
   ],
   "source": [
    "y"
   ]
  },
  {
   "cell_type": "code",
   "execution_count": 7,
   "id": "422b3ada-f6da-4daf-85d2-82eb3fa05abd",
   "metadata": {},
   "outputs": [
    {
     "data": {
      "text/plain": [
       "(16, 2)"
      ]
     },
     "execution_count": 7,
     "metadata": {},
     "output_type": "execute_result"
    }
   ],
   "source": [
    "y.shape"
   ]
  },
  {
   "cell_type": "markdown",
   "id": "c3870976-7148-49fc-bea8-af9a17b55696",
   "metadata": {},
   "source": [
    "# RNN"
   ]
  },
  {
   "cell_type": "code",
   "execution_count": 36,
   "id": "9cd06029-2d6c-4190-85dc-5f2241d78b00",
   "metadata": {},
   "outputs": [],
   "source": [
    "# define model\n",
    "model = Sequential()\n",
    "model.add(SimpleRNN(50, activation='relu', input_shape=(n_steps, n_features)))\n",
    "model.add(Dense(2))\n",
    "model.compile(optimizer='adam', loss='mse')"
   ]
  },
  {
   "cell_type": "code",
   "execution_count": 37,
   "id": "fb83e2c8-cba8-4065-a06e-a5ddd8274287",
   "metadata": {},
   "outputs": [
    {
     "data": {
      "text/plain": [
       "<keras.callbacks.History at 0x13894060490>"
      ]
     },
     "execution_count": 37,
     "metadata": {},
     "output_type": "execute_result"
    }
   ],
   "source": [
    "# fit model\n",
    "model.fit(X, y, epochs=200, verbose=0)"
   ]
  },
  {
   "cell_type": "code",
   "execution_count": 39,
   "id": "4753f281-01da-4733-aa61-609181ba290e",
   "metadata": {},
   "outputs": [
    {
     "name": "stdout",
     "output_type": "stream",
     "text": [
      "[[108.75971 107.6665 ]]\n"
     ]
    }
   ],
   "source": [
    "# demonstrate prediction\n",
    "x_input = array([70, 80, 90])\n",
    "x_input = x_input.reshape((1, n_steps, n_features))\n",
    "yhat = model.predict(x_input, verbose=0)\n",
    "print(yhat)"
   ]
  },
  {
   "cell_type": "code",
   "execution_count": 50,
   "id": "502ed660-566a-4555-8570-d08b45eb921a",
   "metadata": {},
   "outputs": [],
   "source": [
    "# define model\n",
    "model = Sequential()\n",
    "model.add(LSTM(50, activation='relu', input_shape=(n_steps, n_features)))\n",
    "model.add(Dense(5))\n",
    "model.compile(optimizer='adam', loss='mse')\n"
   ]
  },
  {
   "cell_type": "code",
   "execution_count": 51,
   "id": "66c64ffe-b79d-49af-960e-498577dfcac9",
   "metadata": {},
   "outputs": [
    {
     "ename": "ValueError",
     "evalue": "cannot reshape array of size 3 into shape (1,5,1)",
     "output_type": "error",
     "traceback": [
      "\u001b[1;31m---------------------------------------------------------------------------\u001b[0m",
      "\u001b[1;31mValueError\u001b[0m                                Traceback (most recent call last)",
      "\u001b[1;32mC:\\Users\\E3867~1.OLA\\AppData\\Local\\Temp/ipykernel_4784/2341224012.py\u001b[0m in \u001b[0;36m<module>\u001b[1;34m\u001b[0m\n\u001b[0;32m      3\u001b[0m \u001b[1;31m# demonstrate prediction\u001b[0m\u001b[1;33m\u001b[0m\u001b[1;33m\u001b[0m\u001b[0m\n\u001b[0;32m      4\u001b[0m \u001b[0mx_input\u001b[0m \u001b[1;33m=\u001b[0m \u001b[0marray\u001b[0m\u001b[1;33m(\u001b[0m\u001b[1;33m[\u001b[0m\u001b[1;36m70\u001b[0m\u001b[1;33m,\u001b[0m \u001b[1;36m80\u001b[0m\u001b[1;33m,\u001b[0m \u001b[1;36m90\u001b[0m\u001b[1;33m]\u001b[0m\u001b[1;33m)\u001b[0m\u001b[1;33m\u001b[0m\u001b[1;33m\u001b[0m\u001b[0m\n\u001b[1;32m----> 5\u001b[1;33m \u001b[0mx_input\u001b[0m \u001b[1;33m=\u001b[0m \u001b[0mx_input\u001b[0m\u001b[1;33m.\u001b[0m\u001b[0mreshape\u001b[0m\u001b[1;33m(\u001b[0m\u001b[1;33m(\u001b[0m\u001b[1;36m1\u001b[0m\u001b[1;33m,\u001b[0m \u001b[0mn_steps\u001b[0m\u001b[1;33m,\u001b[0m \u001b[0mn_features\u001b[0m\u001b[1;33m)\u001b[0m\u001b[1;33m)\u001b[0m\u001b[1;33m\u001b[0m\u001b[1;33m\u001b[0m\u001b[0m\n\u001b[0m\u001b[0;32m      6\u001b[0m \u001b[0myhat\u001b[0m \u001b[1;33m=\u001b[0m \u001b[0mmodel\u001b[0m\u001b[1;33m.\u001b[0m\u001b[0mpredict\u001b[0m\u001b[1;33m(\u001b[0m\u001b[0mx_input\u001b[0m\u001b[1;33m,\u001b[0m \u001b[0mverbose\u001b[0m\u001b[1;33m=\u001b[0m\u001b[1;36m0\u001b[0m\u001b[1;33m)\u001b[0m\u001b[1;33m\u001b[0m\u001b[1;33m\u001b[0m\u001b[0m\n\u001b[0;32m      7\u001b[0m \u001b[0mprint\u001b[0m\u001b[1;33m(\u001b[0m\u001b[0myhat\u001b[0m\u001b[1;33m)\u001b[0m\u001b[1;33m\u001b[0m\u001b[1;33m\u001b[0m\u001b[0m\n",
      "\u001b[1;31mValueError\u001b[0m: cannot reshape array of size 3 into shape (1,5,1)"
     ]
    }
   ],
   "source": [
    "# fit model\n",
    "model.fit(X, y, epochs=200, verbose=0)\n",
    "# demonstrate prediction\n",
    "x_input = array([70, 80, 90])\n",
    "x_input = x_input.reshape((1, n_steps, n_features))\n",
    "yhat = model.predict(x_input, verbose=0)\n",
    "print(yhat)"
   ]
  },
  {
   "cell_type": "code",
   "execution_count": 82,
   "id": "86864765-5b5a-48d3-8a5f-bc9ec1791735",
   "metadata": {},
   "outputs": [],
   "source": [
    "# split a univariate sequence into samples\n",
    "def split_sequence(sequence, n_steps):\n",
    "    X, y = list(), list()\n",
    "    for i in range(len(sequence)):\n",
    "        # find the end of this pattern\n",
    "        end_ix = i + n_steps\n",
    "        # check if we are beyond the sequence\n",
    "        if end_ix > len(sequence)-1:\n",
    "            break\n",
    "        # gather input and output parts of the pattern\n",
    "        seq_x, seq_y = sequence[i:end_ix], sequence[end_ix]\n",
    "        X.append(seq_x)\n",
    "        y.append(seq_y)\n",
    "    return array(X), array(y)"
   ]
  },
  {
   "cell_type": "code",
   "execution_count": 83,
   "id": "261b69af-c3d9-4f69-8998-21232a09ea20",
   "metadata": {},
   "outputs": [
    {
     "name": "stdout",
     "output_type": "stream",
     "text": [
      "[10 20 30] 40\n",
      "[20 30 40] 50\n",
      "[30 40 50] 60\n",
      "[40 50 60] 70\n",
      "[50 60 70] 80\n",
      "[60 70 80] 90\n"
     ]
    }
   ],
   "source": [
    "# define input sequence\n",
    "raw_seq = [10, 20, 30, 40, 50, 60, 70, 80, 90]\n",
    "# choose a number of time steps\n",
    "n_steps = 3\n",
    "# split into samples\n",
    "X, y = split_sequence(raw_seq, n_steps)\n",
    "# summarize the data\n",
    "for i in range(len(X)):\n",
    "\tprint(X[i], y[i])"
   ]
  },
  {
   "cell_type": "markdown",
   "id": "19d35dad-7a4d-46d5-b231-42a435cf7ae3",
   "metadata": {},
   "source": [
    "## Stacked LSTM\n",
    "Stacked LSTM is when multiple hidden LSTM layers can be stacked one on top of another"
   ]
  },
  {
   "cell_type": "code",
   "execution_count": 84,
   "id": "9c66dc5c-4c65-4aac-a2fb-313301b441c7",
   "metadata": {},
   "outputs": [],
   "source": [
    "# define model for stacked LSTM\n",
    "model = Sequential()\n",
    "model.add(LSTM(50, activation='relu', return_sequences=True, input_shape=(n_steps, n_features)))\n",
    "model.add(LSTM(50, activation='relu'))\n",
    "model.add(Dense(2))\n",
    "model.compile(optimizer='adam', loss='mse')\n"
   ]
  },
  {
   "cell_type": "code",
   "execution_count": 85,
   "id": "923a451c-1066-4a1b-9e70-8747463d943b",
   "metadata": {},
   "outputs": [
    {
     "data": {
      "text/plain": [
       "<keras.callbacks.History at 0x1639d658d00>"
      ]
     },
     "execution_count": 85,
     "metadata": {},
     "output_type": "execute_result"
    }
   ],
   "source": [
    "# fit model\n",
    "model.fit(X, y, epochs=200, verbose=0)"
   ]
  },
  {
   "cell_type": "code",
   "execution_count": 86,
   "id": "b2686529-670c-42bb-99cb-dadca6fff3b4",
   "metadata": {},
   "outputs": [
    {
     "name": "stdout",
     "output_type": "stream",
     "text": [
      "[[103.98747 104.03041]]\n"
     ]
    }
   ],
   "source": [
    "\n",
    "# demonstrate prediction\n",
    "x_input = array([70, 80, 90])\n",
    "x_input = x_input.reshape((1, n_steps, n_features))\n",
    "yhat = model.predict(x_input, verbose=0)\n",
    "print(yhat)"
   ]
  },
  {
   "cell_type": "markdown",
   "id": "2f27ba68-18a9-46d5-be10-07e960d24bed",
   "metadata": {
    "tags": []
   },
   "source": [
    "\n",
    "## Bidirectional LSTM\n",
    "On some sequence prediction problems, it can be beneficial to allow the LSTM model to learn the input sequence both forward and backwards and concatenate both interpretations.This is called a Bidirectional LSTM. We can implement a Bidirectional LSTM for univariate time series forecasting by wrapping the first hidden layer in a wrapper layer called Bidirectional."
   ]
  },
  {
   "cell_type": "code",
   "execution_count": 87,
   "id": "3368ace7-f1c6-4d4a-bf21-967d7600519e",
   "metadata": {},
   "outputs": [],
   "source": [
    "# define model\n",
    "model = Sequential()\n",
    "model.add(Bidirectional(LSTM(50, activation='relu'), input_shape=(n_steps, n_features)))\n",
    "model.add(Dense(5))\n",
    "model.compile(optimizer='adam', loss='mse')"
   ]
  },
  {
   "cell_type": "code",
   "execution_count": 88,
   "id": "11babac1-c30f-486e-a954-d86c65cab954",
   "metadata": {},
   "outputs": [
    {
     "data": {
      "text/plain": [
       "<keras.callbacks.History at 0x163a6418b80>"
      ]
     },
     "execution_count": 88,
     "metadata": {},
     "output_type": "execute_result"
    }
   ],
   "source": [
    "# fit model\n",
    "model.fit(X, y, epochs=200, verbose=0)"
   ]
  },
  {
   "cell_type": "code",
   "execution_count": 90,
   "id": "dd1351ba-9387-4b4a-9847-5bec5b57355a",
   "metadata": {},
   "outputs": [
    {
     "name": "stdout",
     "output_type": "stream",
     "text": [
      "[[101.44034  101.81838  101.309975 101.19398  102.4905  ]]\n"
     ]
    }
   ],
   "source": [
    "\n",
    "# demonstrate prediction\n",
    "x_input = array([70, 80, 90])\n",
    "x_input = x_input.reshape((1, n_steps, n_features))\n",
    "yhat = model.predict(x_input, verbose=0)\n",
    "print(yhat)"
   ]
  },
  {
   "cell_type": "markdown",
   "id": "850306d8-32a5-4b8f-b442-441d13b8a125",
   "metadata": {
    "tags": []
   },
   "source": [
    "## CNN LSTM\n",
    "A CNN model can be used in a hybrid model with an LSTM backend where the CNN is used to interpret subsequences of input that together are provided as a sequence to an LSTM model to interpret. \n",
    "The first step is to split the input sequences into subsequences that can be processed by the CNN model. For example, we can first split our univariate time series data into input/output samples with four steps as input and one as output. Each sample can then be split into two sub-samples, each with two time steps. The CNN can interpret each subsequence of two time steps and provide a time series of interpretations of the subsequences to the LSTM model to process as input."
   ]
  },
  {
   "cell_type": "code",
   "execution_count": 91,
   "id": "ca737328-5178-4f54-8f91-ceca97b19db4",
   "metadata": {
    "tags": []
   },
   "outputs": [],
   "source": [
    "# choose a number of time steps\n",
    "n_steps = 4\n",
    "# split into samples\n",
    "X, y = split_sequence(raw_seq, n_steps)\n",
    "# reshape from [samples, timesteps] into [samples, subsequences, timesteps, features]\n",
    "n_features = 1\n",
    "n_seq = 2\n",
    "n_steps = 2\n",
    "X = X.reshape((X.shape[0], n_seq, n_steps, n_features))"
   ]
  },
  {
   "cell_type": "code",
   "execution_count": 92,
   "id": "178b93a0-90b0-4f92-a322-85a7e053799c",
   "metadata": {
    "tags": []
   },
   "outputs": [
    {
     "data": {
      "text/plain": [
       "array([[[[10],\n",
       "         [20]],\n",
       "\n",
       "        [[30],\n",
       "         [40]]],\n",
       "\n",
       "\n",
       "       [[[20],\n",
       "         [30]],\n",
       "\n",
       "        [[40],\n",
       "         [50]]],\n",
       "\n",
       "\n",
       "       [[[30],\n",
       "         [40]],\n",
       "\n",
       "        [[50],\n",
       "         [60]]],\n",
       "\n",
       "\n",
       "       [[[40],\n",
       "         [50]],\n",
       "\n",
       "        [[60],\n",
       "         [70]]],\n",
       "\n",
       "\n",
       "       [[[50],\n",
       "         [60]],\n",
       "\n",
       "        [[70],\n",
       "         [80]]]])"
      ]
     },
     "execution_count": 92,
     "metadata": {},
     "output_type": "execute_result"
    }
   ],
   "source": [
    "X"
   ]
  },
  {
   "cell_type": "code",
   "execution_count": 96,
   "id": "acd58c22-8299-4bf9-8458-8974c7febed5",
   "metadata": {
    "tags": []
   },
   "outputs": [
    {
     "name": "stdout",
     "output_type": "stream",
     "text": [
      "[[100.4241]]\n"
     ]
    }
   ],
   "source": [
    "#The number of filters is the number of reads or interpretations of the input sequence. The kernel size is the number of time steps included of each ‘read’ operation of the input sequence.\n",
    "\n",
    "# define model\n",
    "model = Sequential()\n",
    "model.add(TimeDistributed(Conv1D(filters=64, kernel_size=1, activation='relu'), input_shape=(None, n_steps, n_features)))\n",
    "model.add(TimeDistributed(MaxPooling1D(pool_size=2)))\n",
    "model.add(TimeDistributed(Flatten()))\n",
    "model.add(LSTM(50, activation='relu'))\n",
    "model.add(Dense(1))\n",
    "model.compile(optimizer='adam', loss='mse')\n",
    "# fit model\n",
    "model.fit(X, y, epochs=500, verbose=0)\n",
    "# demonstrate prediction\n",
    "x_input = array([60, 70, 80, 90])\n",
    "x_input = x_input.reshape((1, n_seq, n_steps, n_features))\n",
    "yhat = model.predict(x_input, verbose=0)\n",
    "print(yhat)"
   ]
  },
  {
   "cell_type": "markdown",
   "id": "2617b28a-f6d6-415b-b242-00911a8741d3",
   "metadata": {
    "tags": []
   },
   "source": [
    "## ConvLSTM\n",
    "A type of LSTM related to the CNN-LSTM is the ConvLSTM, where the convolutional reading of input is built directly into each LSTM unit."
   ]
  },
  {
   "cell_type": "code",
   "execution_count": 97,
   "id": "bf97d857-6620-43a4-806f-1171a68a3d43",
   "metadata": {
    "tags": []
   },
   "outputs": [],
   "source": [
    "# choose a number of time steps\n",
    "n_steps = 4\n",
    "# split into samples\n",
    "X, y = split_sequence(raw_seq, n_steps)\n",
    "# reshape from [samples, timesteps] into [samples, timesteps, rows, columns, features]\n",
    "n_features = 1\n",
    "n_seq = 2\n",
    "n_steps = 2\n",
    "X = X.reshape((X.shape[0], n_seq, 1, n_steps, n_features))"
   ]
  },
  {
   "cell_type": "code",
   "execution_count": 100,
   "id": "3efbb063-1a20-4f73-8d4d-195daf3c9e16",
   "metadata": {
    "tags": []
   },
   "outputs": [
    {
     "name": "stdout",
     "output_type": "stream",
     "text": [
      "[[104.07634]]\n"
     ]
    }
   ],
   "source": [
    "# We can define the ConvLSTM as a single layer in terms of the number of filters and a two-dimensional kernel size in terms of (rows, columns). As we are working with a one-dimensional series, the number of rows is always fixed to 1 in the kernel.\n",
    "\n",
    "# define model\n",
    "model = Sequential()\n",
    "model.add(ConvLSTM2D(filters=64, kernel_size=(1,2), activation='relu', input_shape=(n_seq, 1, n_steps, n_features)))\n",
    "model.add(Flatten())\n",
    "model.add(Dense(1))\n",
    "model.compile(optimizer='adam', loss='mse')\n",
    "# fit model\n",
    "model.fit(X, y, epochs=500, verbose=0)\n",
    "# demonstrate prediction\n",
    "x_input = array([60, 70, 80, 90])\n",
    "x_input = x_input.reshape((1, n_seq, 1, n_steps, n_features))\n",
    "yhat = model.predict(x_input, verbose=0)\n",
    "print(yhat)\n"
   ]
  },
  {
   "cell_type": "markdown",
   "id": "05f1de9c-96a8-4094-9296-d17d33e87e6b",
   "metadata": {},
   "source": [
    "## Multivariate LSTM"
   ]
  },
  {
   "cell_type": "markdown",
   "id": "5e178761-1e27-4a11-be64-106ef96c0b43",
   "metadata": {},
   "source": [
    "The first dimension is the number of samples. The second dimension is the number of time steps per sample, the value specified to the function. Finally, the last dimension specifies the number of parallel time series or the number of variables, in this case 2 for the two parallel series.\n",
    "\n",
    "This is the exact three-dimensional structure expected by an LSTM as input"
   ]
  },
  {
   "cell_type": "code",
   "execution_count": 43,
   "id": "5e9af835-0399-42e9-91fd-b777d7afb443",
   "metadata": {},
   "outputs": [],
   "source": [
    "# define input sequence\n",
    "in_seq1 = array([10, 20, 30, 40, 50, 60, 70, 80, 90])\n",
    "in_seq2 = array([15, 25, 35, 45, 55, 65, 75, 85, 95])\n",
    "out_seq = array([in_seq1[i]+in_seq2[i] for i in range(len(in_seq1))])"
   ]
  },
  {
   "cell_type": "code",
   "execution_count": 44,
   "id": "468f8096-16d8-4e30-869c-e9115cc072b8",
   "metadata": {},
   "outputs": [
    {
     "data": {
      "text/plain": [
       "array([ 25,  45,  65,  85, 105, 125, 145, 165, 185])"
      ]
     },
     "execution_count": 44,
     "metadata": {},
     "output_type": "execute_result"
    }
   ],
   "source": [
    "out_seq"
   ]
  },
  {
   "cell_type": "markdown",
   "id": "1462f56f-c057-49ab-afd5-53a37eadda24",
   "metadata": {},
   "source": [
    "We can reshape these three arrays of data as a single dataset where each row is a time step, and each column is a separate time series"
   ]
  },
  {
   "cell_type": "code",
   "execution_count": 45,
   "id": "e6ba44dd-5c7c-4a02-8195-3892f15a047a",
   "metadata": {},
   "outputs": [
    {
     "data": {
      "text/plain": [
       "array([[10],\n",
       "       [20],\n",
       "       [30],\n",
       "       [40],\n",
       "       [50],\n",
       "       [60],\n",
       "       [70],\n",
       "       [80],\n",
       "       [90]])"
      ]
     },
     "execution_count": 45,
     "metadata": {},
     "output_type": "execute_result"
    }
   ],
   "source": [
    "in_seq1.reshape((len(in_seq1), 1))"
   ]
  },
  {
   "cell_type": "code",
   "execution_count": 46,
   "id": "2c8695c1-e4c2-42c1-acb1-0761cb5affb1",
   "metadata": {},
   "outputs": [],
   "source": [
    "from numpy import hstack"
   ]
  },
  {
   "cell_type": "code",
   "execution_count": 47,
   "id": "2cd37848-b6c8-44ac-aef8-708e3f2d47f8",
   "metadata": {},
   "outputs": [],
   "source": [
    "# convert to [rows, columns] structure\n",
    "in_seq1 = in_seq1.reshape((len(in_seq1), 1))\n",
    "in_seq2 = in_seq2.reshape((len(in_seq2), 1))\n",
    "out_seq = out_seq.reshape((len(out_seq), 1))\n",
    "# horizontally stack columns\n",
    "dataset = hstack((in_seq1, in_seq2, out_seq))"
   ]
  },
  {
   "cell_type": "code",
   "execution_count": 48,
   "id": "87e36d2f-590f-4c15-8f88-abed5677ba98",
   "metadata": {},
   "outputs": [
    {
     "data": {
      "text/plain": [
       "array([[ 10,  15,  25],\n",
       "       [ 20,  25,  45],\n",
       "       [ 30,  35,  65],\n",
       "       [ 40,  45,  85],\n",
       "       [ 50,  55, 105],\n",
       "       [ 60,  65, 125],\n",
       "       [ 70,  75, 145],\n",
       "       [ 80,  85, 165],\n",
       "       [ 90,  95, 185]])"
      ]
     },
     "execution_count": 48,
     "metadata": {},
     "output_type": "execute_result"
    }
   ],
   "source": [
    "dataset"
   ]
  },
  {
   "cell_type": "code",
   "execution_count": 49,
   "id": "3ae82e74-0565-4896-96b1-42f70530da19",
   "metadata": {},
   "outputs": [],
   "source": [
    "# split a multivariate sequence into samples\n",
    "def split_sequences(sequences, n_steps):\n",
    "    X, y = list(), list()\n",
    "    for i in range(len(sequences)):\n",
    "        # find the end of this pattern\n",
    "        end_ix = i + n_steps\n",
    "        # check if we are beyond the dataset\n",
    "        if end_ix > len(sequences):\n",
    "            break\n",
    "        # gather input and output parts of the pattern\n",
    "        seq_x, seq_y = sequences[i:end_ix, :-1], sequences[end_ix-1, -1]\n",
    "        X.append(seq_x)\n",
    "        y.append(seq_y)\n",
    "    return array(X), array(y)"
   ]
  },
  {
   "cell_type": "code",
   "execution_count": 50,
   "id": "568d94cd-f7a8-4ceb-9114-55cec644f21a",
   "metadata": {},
   "outputs": [],
   "source": [
    "# choose a number of time steps\n",
    "n_steps = 3"
   ]
  },
  {
   "cell_type": "code",
   "execution_count": 51,
   "id": "64ae75c0-2ae5-4779-a7c0-f1ca9e094776",
   "metadata": {},
   "outputs": [
    {
     "data": {
      "text/plain": [
       "array([[10],\n",
       "       [20],\n",
       "       [30],\n",
       "       [40],\n",
       "       [50],\n",
       "       [60],\n",
       "       [70],\n",
       "       [80],\n",
       "       [90]])"
      ]
     },
     "execution_count": 51,
     "metadata": {},
     "output_type": "execute_result"
    }
   ],
   "source": [
    "in_seq1"
   ]
  },
  {
   "cell_type": "code",
   "execution_count": 52,
   "id": "2d7c87f2-25a2-42e2-9c5e-d84a25b34ce1",
   "metadata": {},
   "outputs": [
    {
     "data": {
      "text/plain": [
       "array([[ 10,  15,  25],\n",
       "       [ 20,  25,  45],\n",
       "       [ 30,  35,  65],\n",
       "       [ 40,  45,  85],\n",
       "       [ 50,  55, 105],\n",
       "       [ 60,  65, 125],\n",
       "       [ 70,  75, 145],\n",
       "       [ 80,  85, 165],\n",
       "       [ 90,  95, 185]])"
      ]
     },
     "execution_count": 52,
     "metadata": {},
     "output_type": "execute_result"
    }
   ],
   "source": [
    "dataset"
   ]
  },
  {
   "cell_type": "code",
   "execution_count": 53,
   "id": "245d7d40-ba07-454e-8202-439ea3ca24c1",
   "metadata": {},
   "outputs": [],
   "source": [
    "# convert into input/output\n",
    "X, y = split_sequences(dataset, n_steps)\n",
    "# the dataset knows the number of features, e.g. 2\n",
    "n_features = X.shape[2]\n"
   ]
  },
  {
   "cell_type": "code",
   "execution_count": 54,
   "id": "ecac3e28-33e0-4985-85c3-09ed9b24ad1e",
   "metadata": {},
   "outputs": [
    {
     "data": {
      "text/plain": [
       "array([[[10, 15],\n",
       "        [20, 25],\n",
       "        [30, 35]],\n",
       "\n",
       "       [[20, 25],\n",
       "        [30, 35],\n",
       "        [40, 45]],\n",
       "\n",
       "       [[30, 35],\n",
       "        [40, 45],\n",
       "        [50, 55]],\n",
       "\n",
       "       [[40, 45],\n",
       "        [50, 55],\n",
       "        [60, 65]],\n",
       "\n",
       "       [[50, 55],\n",
       "        [60, 65],\n",
       "        [70, 75]],\n",
       "\n",
       "       [[60, 65],\n",
       "        [70, 75],\n",
       "        [80, 85]],\n",
       "\n",
       "       [[70, 75],\n",
       "        [80, 85],\n",
       "        [90, 95]]])"
      ]
     },
     "execution_count": 54,
     "metadata": {},
     "output_type": "execute_result"
    }
   ],
   "source": [
    "X"
   ]
  },
  {
   "cell_type": "code",
   "execution_count": 55,
   "id": "6daa647c-103e-42bf-ab7b-0a1b964114a7",
   "metadata": {},
   "outputs": [
    {
     "data": {
      "text/plain": [
       "array([ 65,  85, 105, 125, 145, 165, 185])"
      ]
     },
     "execution_count": 55,
     "metadata": {},
     "output_type": "execute_result"
    }
   ],
   "source": [
    "y"
   ]
  },
  {
   "cell_type": "code",
   "execution_count": 56,
   "id": "d43db5d8-5306-411c-a7c7-dc0e023a245e",
   "metadata": {},
   "outputs": [
    {
     "name": "stdout",
     "output_type": "stream",
     "text": [
      "[[10 15]\n",
      " [20 25]\n",
      " [30 35]] 65\n",
      "[[20 25]\n",
      " [30 35]\n",
      " [40 45]] 85\n",
      "[[30 35]\n",
      " [40 45]\n",
      " [50 55]] 105\n",
      "[[40 45]\n",
      " [50 55]\n",
      " [60 65]] 125\n",
      "[[50 55]\n",
      " [60 65]\n",
      " [70 75]] 145\n",
      "[[60 65]\n",
      " [70 75]\n",
      " [80 85]] 165\n",
      "[[70 75]\n",
      " [80 85]\n",
      " [90 95]] 185\n"
     ]
    }
   ],
   "source": [
    "# summarize the data\n",
    "for i in range(len(X)):\n",
    "\tprint(X[i], y[i])"
   ]
  },
  {
   "cell_type": "code",
   "execution_count": 57,
   "id": "f01e6eb5-4aab-4dc9-b847-22949a1aa943",
   "metadata": {},
   "outputs": [
    {
     "data": {
      "text/plain": [
       "(7, 3, 2)"
      ]
     },
     "execution_count": 57,
     "metadata": {},
     "output_type": "execute_result"
    }
   ],
   "source": [
    "X.shape"
   ]
  },
  {
   "cell_type": "code",
   "execution_count": 65,
   "id": "0a66f12b-0cf7-461d-a175-730d1ff82a6e",
   "metadata": {},
   "outputs": [],
   "source": [
    "# define model\n",
    "model = Sequential()\n",
    "model.add(LSTM(50, activation='relu', input_shape=(n_steps, n_features)))\n",
    "model.add(Dense(1))\n",
    "model.compile(optimizer='adam', loss='mse')"
   ]
  },
  {
   "cell_type": "code",
   "execution_count": 66,
   "id": "eaaa71ba-21aa-4bf3-a58f-12570a200634",
   "metadata": {},
   "outputs": [
    {
     "data": {
      "text/plain": [
       "<keras.callbacks.History at 0x1389bbd3a60>"
      ]
     },
     "execution_count": 66,
     "metadata": {},
     "output_type": "execute_result"
    }
   ],
   "source": [
    "# fit model\n",
    "model.fit(X, y, epochs=200, verbose=0)"
   ]
  },
  {
   "cell_type": "code",
   "execution_count": 67,
   "id": "1df0fa23-b780-4aa4-afa1-432ed12bf2a8",
   "metadata": {},
   "outputs": [
    {
     "name": "stdout",
     "output_type": "stream",
     "text": [
      "[[206.81354]]\n"
     ]
    }
   ],
   "source": [
    "\n",
    "\n",
    "# demonstrate prediction\n",
    "x_input = array([[80, 85], [90, 95], [100, 105]])\n",
    "x_input = x_input.reshape((1, n_steps, n_features))\n",
    "yhat = model.predict(x_input, verbose=0)\n",
    "print(yhat)"
   ]
  },
  {
   "cell_type": "markdown",
   "id": "569a6e60-c277-46d1-a990-cc5ac2be6ba7",
   "metadata": {
    "jp-MarkdownHeadingCollapsed": true,
    "tags": []
   },
   "source": [
    "## Multiple Parallel Series\n",
    " This is the case where there are multiple parallel time series and a value must be predicted for each."
   ]
  },
  {
   "cell_type": "code",
   "execution_count": 68,
   "id": "edea2d33-a5e8-4e16-a1b6-3ff1b1bd13ba",
   "metadata": {},
   "outputs": [],
   "source": [
    "#The split_sequences() function below will split multiple parallel time series with rows for time steps and one series per column into the required input/output shape.\n",
    "# split a multivariate sequence into samples\n",
    "def split_sequences(sequences, n_steps):\n",
    "    X, y = list(), list()\n",
    "    for i in range(len(sequences)):\n",
    "        # find the end of this pattern\n",
    "        end_ix = i + n_steps\n",
    "        # check if we are beyond the dataset\n",
    "        if end_ix > len(sequences)-1:\n",
    "            break\n",
    "        # gather input and output parts of the pattern\n",
    "        seq_x, seq_y = sequences[i:end_ix, :], sequences[end_ix, :]\n",
    "        X.append(seq_x)\n",
    "        y.append(seq_y)\n",
    "    return array(X), array(y)"
   ]
  },
  {
   "cell_type": "code",
   "execution_count": 69,
   "id": "5cf08677-56d5-473e-b9f3-517f175611e8",
   "metadata": {},
   "outputs": [],
   "source": [
    "# define input sequence\n",
    "in_seq1 = array([10, 20, 30, 40, 50, 60, 70, 80, 90])\n",
    "in_seq2 = array([15, 25, 35, 45, 55, 65, 75, 85, 95])\n",
    "out_seq = array([in_seq1[i]+in_seq2[i] for i in range(len(in_seq1))])"
   ]
  },
  {
   "cell_type": "code",
   "execution_count": 70,
   "id": "8a7d55ae-26cb-4311-9c97-41fd22903222",
   "metadata": {},
   "outputs": [],
   "source": [
    "# convert to [rows, columns] structure\n",
    "in_seq1 = in_seq1.reshape((len(in_seq1), 1))\n",
    "in_seq2 = in_seq2.reshape((len(in_seq2), 1))\n",
    "out_seq = out_seq.reshape((len(out_seq), 1))"
   ]
  },
  {
   "cell_type": "code",
   "execution_count": 71,
   "id": "6f014c4e-52ff-449b-bb82-b2d80a94195c",
   "metadata": {},
   "outputs": [],
   "source": [
    "# horizontally stack columns\n",
    "dataset = hstack((in_seq1, in_seq2, out_seq))\n",
    "# choose a number of time steps\n",
    "n_steps = 3"
   ]
  },
  {
   "cell_type": "code",
   "execution_count": 72,
   "id": "43391428-5306-4004-8857-c8443f6daca0",
   "metadata": {},
   "outputs": [
    {
     "name": "stdout",
     "output_type": "stream",
     "text": [
      "(6, 3, 3) (6, 3)\n",
      "[[10 15 25]\n",
      " [20 25 45]\n",
      " [30 35 65]] [40 45 85]\n",
      "[[20 25 45]\n",
      " [30 35 65]\n",
      " [40 45 85]] [ 50  55 105]\n",
      "[[ 30  35  65]\n",
      " [ 40  45  85]\n",
      " [ 50  55 105]] [ 60  65 125]\n",
      "[[ 40  45  85]\n",
      " [ 50  55 105]\n",
      " [ 60  65 125]] [ 70  75 145]\n",
      "[[ 50  55 105]\n",
      " [ 60  65 125]\n",
      " [ 70  75 145]] [ 80  85 165]\n",
      "[[ 60  65 125]\n",
      " [ 70  75 145]\n",
      " [ 80  85 165]] [ 90  95 185]\n"
     ]
    }
   ],
   "source": [
    "# convert into input/output\n",
    "X, y = split_sequences(dataset, n_steps)\n",
    "print(X.shape, y.shape)\n",
    "# summarize the data\n",
    "for i in range(len(X)):\n",
    "\tprint(X[i], y[i])"
   ]
  },
  {
   "cell_type": "code",
   "execution_count": 73,
   "id": "9bd5800e-7a67-442e-b427-b1b5c8b80ede",
   "metadata": {},
   "outputs": [
    {
     "data": {
      "text/plain": [
       "array([[[ 10,  15,  25],\n",
       "        [ 20,  25,  45],\n",
       "        [ 30,  35,  65]],\n",
       "\n",
       "       [[ 20,  25,  45],\n",
       "        [ 30,  35,  65],\n",
       "        [ 40,  45,  85]],\n",
       "\n",
       "       [[ 30,  35,  65],\n",
       "        [ 40,  45,  85],\n",
       "        [ 50,  55, 105]],\n",
       "\n",
       "       [[ 40,  45,  85],\n",
       "        [ 50,  55, 105],\n",
       "        [ 60,  65, 125]],\n",
       "\n",
       "       [[ 50,  55, 105],\n",
       "        [ 60,  65, 125],\n",
       "        [ 70,  75, 145]],\n",
       "\n",
       "       [[ 60,  65, 125],\n",
       "        [ 70,  75, 145],\n",
       "        [ 80,  85, 165]]])"
      ]
     },
     "execution_count": 73,
     "metadata": {},
     "output_type": "execute_result"
    }
   ],
   "source": [
    "X"
   ]
  },
  {
   "cell_type": "code",
   "execution_count": 74,
   "id": "8f45746e-2899-4fbf-90d8-198b88065032",
   "metadata": {},
   "outputs": [
    {
     "data": {
      "text/plain": [
       "array([[ 40,  45,  85],\n",
       "       [ 50,  55, 105],\n",
       "       [ 60,  65, 125],\n",
       "       [ 70,  75, 145],\n",
       "       [ 80,  85, 165],\n",
       "       [ 90,  95, 185]])"
      ]
     },
     "execution_count": 74,
     "metadata": {},
     "output_type": "execute_result"
    }
   ],
   "source": [
    "y"
   ]
  },
  {
   "cell_type": "code",
   "execution_count": 243,
   "id": "8f01d829-9c70-4ff0-8286-afacc37e0eda",
   "metadata": {},
   "outputs": [],
   "source": [
    "# define model\n",
    "model = Sequential()\n",
    "model.add(LSTM(100, activation='relu', return_sequences=True, input_shape=(n_steps, n_features)))\n",
    "model.add(LSTM(100, activation='relu'))\n",
    "model.add(Dense(n_features))\n",
    "model.compile(optimizer='adam', loss='mse')"
   ]
  },
  {
   "cell_type": "code",
   "execution_count": 244,
   "id": "9396ed99-a385-4be7-b334-dd922771162e",
   "metadata": {},
   "outputs": [
    {
     "ename": "ValueError",
     "evalue": "cannot reshape array of size 9 into shape (1,3,2)",
     "output_type": "error",
     "traceback": [
      "\u001b[1;31m---------------------------------------------------------------------------\u001b[0m",
      "\u001b[1;31mValueError\u001b[0m                                Traceback (most recent call last)",
      "\u001b[1;32mC:\\Users\\E3867~1.OLA\\AppData\\Local\\Temp/ipykernel_4784/116275389.py\u001b[0m in \u001b[0;36m<module>\u001b[1;34m\u001b[0m\n\u001b[0;32m      1\u001b[0m \u001b[1;31m# demonstrate prediction\u001b[0m\u001b[1;33m\u001b[0m\u001b[1;33m\u001b[0m\u001b[0m\n\u001b[0;32m      2\u001b[0m \u001b[0mx_input\u001b[0m \u001b[1;33m=\u001b[0m \u001b[0marray\u001b[0m\u001b[1;33m(\u001b[0m\u001b[1;33m[\u001b[0m\u001b[1;33m[\u001b[0m\u001b[1;36m70\u001b[0m\u001b[1;33m,\u001b[0m\u001b[1;36m75\u001b[0m\u001b[1;33m,\u001b[0m\u001b[1;36m145\u001b[0m\u001b[1;33m]\u001b[0m\u001b[1;33m,\u001b[0m \u001b[1;33m[\u001b[0m\u001b[1;36m80\u001b[0m\u001b[1;33m,\u001b[0m\u001b[1;36m85\u001b[0m\u001b[1;33m,\u001b[0m\u001b[1;36m165\u001b[0m\u001b[1;33m]\u001b[0m\u001b[1;33m,\u001b[0m \u001b[1;33m[\u001b[0m\u001b[1;36m90\u001b[0m\u001b[1;33m,\u001b[0m\u001b[1;36m95\u001b[0m\u001b[1;33m,\u001b[0m\u001b[1;36m185\u001b[0m\u001b[1;33m]\u001b[0m\u001b[1;33m]\u001b[0m\u001b[1;33m)\u001b[0m\u001b[1;33m\u001b[0m\u001b[1;33m\u001b[0m\u001b[0m\n\u001b[1;32m----> 3\u001b[1;33m \u001b[0mx_input\u001b[0m \u001b[1;33m=\u001b[0m \u001b[0mx_input\u001b[0m\u001b[1;33m.\u001b[0m\u001b[0mreshape\u001b[0m\u001b[1;33m(\u001b[0m\u001b[1;33m(\u001b[0m\u001b[1;36m1\u001b[0m\u001b[1;33m,\u001b[0m \u001b[0mn_steps\u001b[0m\u001b[1;33m,\u001b[0m \u001b[0mn_features\u001b[0m\u001b[1;33m)\u001b[0m\u001b[1;33m)\u001b[0m\u001b[1;33m\u001b[0m\u001b[1;33m\u001b[0m\u001b[0m\n\u001b[0m\u001b[0;32m      4\u001b[0m \u001b[0myhat\u001b[0m \u001b[1;33m=\u001b[0m \u001b[0mmodel\u001b[0m\u001b[1;33m.\u001b[0m\u001b[0mpredict\u001b[0m\u001b[1;33m(\u001b[0m\u001b[0mx_input\u001b[0m\u001b[1;33m,\u001b[0m \u001b[0mverbose\u001b[0m\u001b[1;33m=\u001b[0m\u001b[1;36m0\u001b[0m\u001b[1;33m)\u001b[0m\u001b[1;33m\u001b[0m\u001b[1;33m\u001b[0m\u001b[0m\n",
      "\u001b[1;31mValueError\u001b[0m: cannot reshape array of size 9 into shape (1,3,2)"
     ]
    }
   ],
   "source": [
    "# demonstrate prediction\n",
    "x_input = array([[70,75,145], [80,85,165], [90,95,185]])\n",
    "x_input = x_input.reshape((1, n_steps, n_features))\n",
    "yhat = model.predict(x_input, verbose=0)"
   ]
  },
  {
   "cell_type": "code",
   "execution_count": 245,
   "id": "97c63c94-d35c-45df-8875-e2d9523697dd",
   "metadata": {},
   "outputs": [
    {
     "name": "stdout",
     "output_type": "stream",
     "text": [
      "(5, 3, 3) (5, 2, 3)\n",
      "[[10 15 25]\n",
      " [20 25 45]\n",
      " [30 35 65]] [[ 40  45  85]\n",
      " [ 50  55 105]]\n",
      "[[20 25 45]\n",
      " [30 35 65]\n",
      " [40 45 85]] [[ 50  55 105]\n",
      " [ 60  65 125]]\n",
      "[[ 30  35  65]\n",
      " [ 40  45  85]\n",
      " [ 50  55 105]] [[ 60  65 125]\n",
      " [ 70  75 145]]\n",
      "[[ 40  45  85]\n",
      " [ 50  55 105]\n",
      " [ 60  65 125]] [[ 70  75 145]\n",
      " [ 80  85 165]]\n",
      "[[ 50  55 105]\n",
      " [ 60  65 125]\n",
      " [ 70  75 145]] [[ 80  85 165]\n",
      " [ 90  95 185]]\n"
     ]
    }
   ],
   "source": [
    "# split a multivariate sequence into samples\n",
    "def split_sequences(sequences, n_steps_in, n_steps_out):\n",
    "\tX, y = list(), list()\n",
    "\tfor i in range(len(sequences)):\n",
    "\t\t# find the end of this pattern\n",
    "\t\tend_ix = i + n_steps_in\n",
    "\t\tout_end_ix = end_ix + n_steps_out\n",
    "\t\t# check if we are beyond the dataset\n",
    "\t\tif out_end_ix > len(sequences):\n",
    "\t\t\tbreak\n",
    "\t\t# gather input and output parts of the pattern\n",
    "\t\tseq_x, seq_y = sequences[i:end_ix, :], sequences[end_ix:out_end_ix, :]\n",
    "\t\tX.append(seq_x)\n",
    "\t\ty.append(seq_y)\n",
    "\treturn array(X), array(y)\n",
    " \n",
    "# define input sequence\n",
    "in_seq1 = array([10, 20, 30, 40, 50, 60, 70, 80, 90])\n",
    "in_seq2 = array([15, 25, 35, 45, 55, 65, 75, 85, 95])\n",
    "out_seq = array([in_seq1[i]+in_seq2[i] for i in range(len(in_seq1))])\n",
    "# convert to [rows, columns] structure\n",
    "in_seq1 = in_seq1.reshape((len(in_seq1), 1))\n",
    "in_seq2 = in_seq2.reshape((len(in_seq2), 1))\n",
    "out_seq = out_seq.reshape((len(out_seq), 1))\n",
    "# horizontally stack columns\n",
    "dataset = hstack((in_seq1, in_seq2, out_seq))\n",
    "# choose a number of time steps\n",
    "n_steps_in, n_steps_out = 3, 2\n",
    "# covert into input/output\n",
    "X, y = split_sequences(dataset, n_steps_in, n_steps_out)\n",
    "print(X.shape, y.shape)\n",
    "# summarize the data\n",
    "for i in range(len(X)):\n",
    "\tprint(X[i], y[i])"
   ]
  },
  {
   "cell_type": "code",
   "execution_count": 247,
   "id": "171bec8d-3377-45ae-984e-16e2529d1b2f",
   "metadata": {},
   "outputs": [
    {
     "ename": "ValueError",
     "evalue": "Input 0 of layer \"lstm_49\" is incompatible with the layer: expected ndim=3, found ndim=2. Full shape received: (None, 200)",
     "output_type": "error",
     "traceback": [
      "\u001b[1;31m---------------------------------------------------------------------------\u001b[0m",
      "\u001b[1;31mValueError\u001b[0m                                Traceback (most recent call last)",
      "\u001b[1;32mC:\\Users\\E3867~1.OLA\\AppData\\Local\\Temp/ipykernel_4784/3759587238.py\u001b[0m in \u001b[0;36m<module>\u001b[1;34m\u001b[0m\n\u001b[0;32m     35\u001b[0m \u001b[0mmodel\u001b[0m\u001b[1;33m.\u001b[0m\u001b[0madd\u001b[0m\u001b[1;33m(\u001b[0m\u001b[0mLSTM\u001b[0m\u001b[1;33m(\u001b[0m\u001b[1;36m200\u001b[0m\u001b[1;33m,\u001b[0m \u001b[0mactivation\u001b[0m\u001b[1;33m=\u001b[0m\u001b[1;34m'relu'\u001b[0m\u001b[1;33m,\u001b[0m \u001b[0minput_shape\u001b[0m\u001b[1;33m=\u001b[0m\u001b[1;33m(\u001b[0m\u001b[0mn_steps_in\u001b[0m\u001b[1;33m,\u001b[0m \u001b[0mn_features\u001b[0m\u001b[1;33m)\u001b[0m\u001b[1;33m)\u001b[0m\u001b[1;33m)\u001b[0m\u001b[1;33m\u001b[0m\u001b[1;33m\u001b[0m\u001b[0m\n\u001b[0;32m     36\u001b[0m \u001b[1;31m#model.add(RepeatVector(n_steps_out))\u001b[0m\u001b[1;33m\u001b[0m\u001b[1;33m\u001b[0m\u001b[0m\n\u001b[1;32m---> 37\u001b[1;33m \u001b[0mmodel\u001b[0m\u001b[1;33m.\u001b[0m\u001b[0madd\u001b[0m\u001b[1;33m(\u001b[0m\u001b[0mLSTM\u001b[0m\u001b[1;33m(\u001b[0m\u001b[1;36m200\u001b[0m\u001b[1;33m,\u001b[0m \u001b[0mactivation\u001b[0m\u001b[1;33m=\u001b[0m\u001b[1;34m'relu'\u001b[0m\u001b[1;33m,\u001b[0m \u001b[0mreturn_sequences\u001b[0m\u001b[1;33m=\u001b[0m\u001b[1;32mTrue\u001b[0m\u001b[1;33m)\u001b[0m\u001b[1;33m)\u001b[0m\u001b[1;33m\u001b[0m\u001b[1;33m\u001b[0m\u001b[0m\n\u001b[0m\u001b[0;32m     38\u001b[0m \u001b[1;31m#model.add(TimeDistributed(Dense(n_features)))\u001b[0m\u001b[1;33m\u001b[0m\u001b[1;33m\u001b[0m\u001b[0m\n\u001b[0;32m     39\u001b[0m \u001b[0mmodel\u001b[0m\u001b[1;33m.\u001b[0m\u001b[0mcompile\u001b[0m\u001b[1;33m(\u001b[0m\u001b[0moptimizer\u001b[0m\u001b[1;33m=\u001b[0m\u001b[1;34m'adam'\u001b[0m\u001b[1;33m,\u001b[0m \u001b[0mloss\u001b[0m\u001b[1;33m=\u001b[0m\u001b[1;34m'mse'\u001b[0m\u001b[1;33m)\u001b[0m\u001b[1;33m\u001b[0m\u001b[1;33m\u001b[0m\u001b[0m\n",
      "\u001b[1;32m~\\Anaconda3\\lib\\site-packages\\tensorflow\\python\\training\\tracking\\base.py\u001b[0m in \u001b[0;36m_method_wrapper\u001b[1;34m(self, *args, **kwargs)\u001b[0m\n\u001b[0;32m    627\u001b[0m     \u001b[0mself\u001b[0m\u001b[1;33m.\u001b[0m\u001b[0m_self_setattr_tracking\u001b[0m \u001b[1;33m=\u001b[0m \u001b[1;32mFalse\u001b[0m  \u001b[1;31m# pylint: disable=protected-access\u001b[0m\u001b[1;33m\u001b[0m\u001b[1;33m\u001b[0m\u001b[0m\n\u001b[0;32m    628\u001b[0m     \u001b[1;32mtry\u001b[0m\u001b[1;33m:\u001b[0m\u001b[1;33m\u001b[0m\u001b[1;33m\u001b[0m\u001b[0m\n\u001b[1;32m--> 629\u001b[1;33m       \u001b[0mresult\u001b[0m \u001b[1;33m=\u001b[0m \u001b[0mmethod\u001b[0m\u001b[1;33m(\u001b[0m\u001b[0mself\u001b[0m\u001b[1;33m,\u001b[0m \u001b[1;33m*\u001b[0m\u001b[0margs\u001b[0m\u001b[1;33m,\u001b[0m \u001b[1;33m**\u001b[0m\u001b[0mkwargs\u001b[0m\u001b[1;33m)\u001b[0m\u001b[1;33m\u001b[0m\u001b[1;33m\u001b[0m\u001b[0m\n\u001b[0m\u001b[0;32m    630\u001b[0m     \u001b[1;32mfinally\u001b[0m\u001b[1;33m:\u001b[0m\u001b[1;33m\u001b[0m\u001b[1;33m\u001b[0m\u001b[0m\n\u001b[0;32m    631\u001b[0m       \u001b[0mself\u001b[0m\u001b[1;33m.\u001b[0m\u001b[0m_self_setattr_tracking\u001b[0m \u001b[1;33m=\u001b[0m \u001b[0mprevious_value\u001b[0m  \u001b[1;31m# pylint: disable=protected-access\u001b[0m\u001b[1;33m\u001b[0m\u001b[1;33m\u001b[0m\u001b[0m\n",
      "\u001b[1;32m~\\Anaconda3\\lib\\site-packages\\keras\\utils\\traceback_utils.py\u001b[0m in \u001b[0;36merror_handler\u001b[1;34m(*args, **kwargs)\u001b[0m\n\u001b[0;32m     65\u001b[0m     \u001b[1;32mexcept\u001b[0m \u001b[0mException\u001b[0m \u001b[1;32mas\u001b[0m \u001b[0me\u001b[0m\u001b[1;33m:\u001b[0m  \u001b[1;31m# pylint: disable=broad-except\u001b[0m\u001b[1;33m\u001b[0m\u001b[1;33m\u001b[0m\u001b[0m\n\u001b[0;32m     66\u001b[0m       \u001b[0mfiltered_tb\u001b[0m \u001b[1;33m=\u001b[0m \u001b[0m_process_traceback_frames\u001b[0m\u001b[1;33m(\u001b[0m\u001b[0me\u001b[0m\u001b[1;33m.\u001b[0m\u001b[0m__traceback__\u001b[0m\u001b[1;33m)\u001b[0m\u001b[1;33m\u001b[0m\u001b[1;33m\u001b[0m\u001b[0m\n\u001b[1;32m---> 67\u001b[1;33m       \u001b[1;32mraise\u001b[0m \u001b[0me\u001b[0m\u001b[1;33m.\u001b[0m\u001b[0mwith_traceback\u001b[0m\u001b[1;33m(\u001b[0m\u001b[0mfiltered_tb\u001b[0m\u001b[1;33m)\u001b[0m \u001b[1;32mfrom\u001b[0m \u001b[1;32mNone\u001b[0m\u001b[1;33m\u001b[0m\u001b[1;33m\u001b[0m\u001b[0m\n\u001b[0m\u001b[0;32m     68\u001b[0m     \u001b[1;32mfinally\u001b[0m\u001b[1;33m:\u001b[0m\u001b[1;33m\u001b[0m\u001b[1;33m\u001b[0m\u001b[0m\n\u001b[0;32m     69\u001b[0m       \u001b[1;32mdel\u001b[0m \u001b[0mfiltered_tb\u001b[0m\u001b[1;33m\u001b[0m\u001b[1;33m\u001b[0m\u001b[0m\n",
      "\u001b[1;32m~\\Anaconda3\\lib\\site-packages\\keras\\engine\\input_spec.py\u001b[0m in \u001b[0;36massert_input_compatibility\u001b[1;34m(input_spec, inputs, layer_name)\u001b[0m\n\u001b[0;32m    212\u001b[0m       \u001b[0mndim\u001b[0m \u001b[1;33m=\u001b[0m \u001b[0mshape\u001b[0m\u001b[1;33m.\u001b[0m\u001b[0mrank\u001b[0m\u001b[1;33m\u001b[0m\u001b[1;33m\u001b[0m\u001b[0m\n\u001b[0;32m    213\u001b[0m       \u001b[1;32mif\u001b[0m \u001b[0mndim\u001b[0m \u001b[1;33m!=\u001b[0m \u001b[0mspec\u001b[0m\u001b[1;33m.\u001b[0m\u001b[0mndim\u001b[0m\u001b[1;33m:\u001b[0m\u001b[1;33m\u001b[0m\u001b[1;33m\u001b[0m\u001b[0m\n\u001b[1;32m--> 214\u001b[1;33m         raise ValueError(f'Input {input_index} of layer \"{layer_name}\" '\n\u001b[0m\u001b[0;32m    215\u001b[0m                          \u001b[1;34m'is incompatible with the layer: '\u001b[0m\u001b[1;33m\u001b[0m\u001b[1;33m\u001b[0m\u001b[0m\n\u001b[0;32m    216\u001b[0m                          \u001b[1;34mf'expected ndim={spec.ndim}, found ndim={ndim}. '\u001b[0m\u001b[1;33m\u001b[0m\u001b[1;33m\u001b[0m\u001b[0m\n",
      "\u001b[1;31mValueError\u001b[0m: Input 0 of layer \"lstm_49\" is incompatible with the layer: expected ndim=3, found ndim=2. Full shape received: (None, 200)"
     ]
    }
   ],
   "source": [
    "# split a multivariate sequence into samples\n",
    "def split_sequences(sequences, n_steps_in, n_steps_out):\n",
    "\tX, y = list(), list()\n",
    "\tfor i in range(len(sequences)):\n",
    "\t\t# find the end of this pattern\n",
    "\t\tend_ix = i + n_steps_in\n",
    "\t\tout_end_ix = end_ix + n_steps_out\n",
    "\t\t# check if we are beyond the dataset\n",
    "\t\tif out_end_ix > len(sequences):\n",
    "\t\t\tbreak\n",
    "\t\t# gather input and output parts of the pattern\n",
    "\t\tseq_x, seq_y = sequences[i:end_ix, :], sequences[end_ix:out_end_ix, :]\n",
    "\t\tX.append(seq_x)\n",
    "\t\ty.append(seq_y)\n",
    "\treturn array(X), array(y)\n",
    " \n",
    "# define input sequence\n",
    "in_seq1 = array([10, 20, 30, 40, 50, 60, 70, 80, 90])\n",
    "in_seq2 = array([15, 25, 35, 45, 55, 65, 75, 85, 95])\n",
    "out_seq = array([in_seq1[i]+in_seq2[i] for i in range(len(in_seq1))])\n",
    "# convert to [rows, columns] structure\n",
    "in_seq1 = in_seq1.reshape((len(in_seq1), 1))\n",
    "in_seq2 = in_seq2.reshape((len(in_seq2), 1))\n",
    "out_seq = out_seq.reshape((len(out_seq), 1))\n",
    "# horizontally stack columns\n",
    "dataset = hstack((in_seq1, in_seq2, out_seq))\n",
    "# choose a number of time steps\n",
    "n_steps_in, n_steps_out = 3, 2\n",
    "# covert into input/output\n",
    "X, y = split_sequences(dataset, n_steps_in, n_steps_out)\n",
    "# the dataset knows the number of features, e.g. 2\n",
    "n_features = X.shape[2]\n",
    "# define model\n",
    "model = Sequential()\n",
    "model.add(LSTM(200, activation='relu', input_shape=(n_steps_in, n_features)))\n",
    "#model.add(RepeatVector(n_steps_out))\n",
    "model.add(LSTM(200, activation='relu', return_sequences=True))\n",
    "#model.add(TimeDistributed(Dense(n_features)))\n",
    "model.compile(optimizer='adam', loss='mse')\n",
    "# fit model\n",
    "model.fit(X, y, epochs=300, verbose=0)\n",
    "# demonstrate prediction\n",
    "x_input = array([[60, 65, 125], [70, 75, 145], [80, 85, 165]])\n",
    "x_input = x_input.reshape((1, n_steps_in, n_features))\n",
    "yhat = model.predict(x_input, verbose=0)\n",
    "print(yhat)"
   ]
  },
  {
   "cell_type": "code",
   "execution_count": null,
   "id": "18698fde-e78f-4d64-aacd-0da26189aabe",
   "metadata": {},
   "outputs": [],
   "source": []
  },
  {
   "cell_type": "code",
   "execution_count": null,
   "id": "f56516e1-9b7f-4e59-b34a-5a9b3bfce2fc",
   "metadata": {},
   "outputs": [],
   "source": []
  },
  {
   "cell_type": "code",
   "execution_count": null,
   "id": "9898f6c0-7c85-4866-9eb1-4fd940a4c382",
   "metadata": {},
   "outputs": [],
   "source": []
  },
  {
   "cell_type": "code",
   "execution_count": null,
   "id": "37ff9c50-11f4-464c-b301-0b480594b19e",
   "metadata": {},
   "outputs": [],
   "source": []
  },
  {
   "cell_type": "markdown",
   "id": "aa933f44-d922-4289-aa2b-3801b90c6915",
   "metadata": {},
   "source": [
    "# CNN"
   ]
  },
  {
   "cell_type": "code",
   "execution_count": 88,
   "id": "07eab458-83c7-4ff3-b89e-eee5eaa466d8",
   "metadata": {},
   "outputs": [],
   "source": [
    "# split a multivariate sequence into samples\n",
    "def split_sequences(sequences, n_steps):\n",
    "    X, y = list(), list()\n",
    "    for i in range(len(sequences)):\n",
    "        # find the end of this pattern\n",
    "        end_ix = i + n_steps\n",
    "        # check if we are beyond the dataset\n",
    "        if end_ix > len(sequences)-1:\n",
    "            break\n",
    "        # gather input and output parts of the pattern\n",
    "        seq_x, seq_y = sequences[i:end_ix, :], sequences[end_ix, :]\n",
    "        X.append(seq_x)\n",
    "        y.append(seq_y)\n",
    "    return np.array(X), np.array(y)\n",
    " \n"
   ]
  },
  {
   "cell_type": "code",
   "execution_count": 89,
   "id": "110236dc-ff79-4874-a2fd-eac3ed6bb994",
   "metadata": {},
   "outputs": [],
   "source": [
    "# define input sequence\n",
    "in_seq1 = np.array([10, 20, 30, 40, 50, 60, 70, 80, 90])\n",
    "in_seq2 = np.array([15, 25, 35, 45, 55, 65, 75, 85, 95])\n",
    "out_seq = np.array([in_seq1[i]+in_seq2[i] for i in range(len(in_seq1))])\n"
   ]
  },
  {
   "cell_type": "code",
   "execution_count": 90,
   "id": "e7971a98-daca-446c-b422-e452aedca168",
   "metadata": {},
   "outputs": [],
   "source": [
    "# convert to [rows, columns] structure\n",
    "in_seq1 = in_seq1.reshape((len(in_seq1), 1))\n",
    "in_seq2 = in_seq2.reshape((len(in_seq2), 1))\n",
    "out_seq = out_seq.reshape((len(out_seq), 1))\n",
    "# horizontally stack columns\n",
    "dataset = np.hstack((in_seq1, in_seq2, out_seq))\n",
    "# choose a number of time steps\n",
    "n_steps = 3\n"
   ]
  },
  {
   "cell_type": "code",
   "execution_count": 92,
   "id": "f35ea974-55f0-44ba-bae0-fe52a76ffeeb",
   "metadata": {},
   "outputs": [],
   "source": [
    "# convert into input/output\n",
    "X, y = split_sequences(dataset, n_steps)\n",
    "# the dataset knows the number of features, e.g. 2\n",
    "n_features = X.shape[2]\n",
    "\n"
   ]
  },
  {
   "cell_type": "code",
   "execution_count": 96,
   "id": "6d97a396-8284-4ea3-9843-463fe35967d5",
   "metadata": {},
   "outputs": [
    {
     "name": "stdout",
     "output_type": "stream",
     "text": [
      "[[207.89899]]\n"
     ]
    }
   ],
   "source": [
    "# split a multivariate sequence into samples\n",
    "def split_sequences(sequences, n_steps):\n",
    "\tX, y = list(), list()\n",
    "\tfor i in range(len(sequences)):\n",
    "\t\t# find the end of this pattern\n",
    "\t\tend_ix = i + n_steps\n",
    "\t\t# check if we are beyond the dataset\n",
    "\t\tif end_ix > len(sequences):\n",
    "\t\t\tbreak\n",
    "\t\t# gather input and output parts of the pattern\n",
    "\t\tseq_x, seq_y = sequences[i:end_ix, :-1], sequences[end_ix-1, -1]\n",
    "\t\tX.append(seq_x)\n",
    "\t\ty.append(seq_y)\n",
    "\treturn array(X), array(y)\n",
    " \n",
    "# define input sequence\n",
    "in_seq1 = array([10, 20, 30, 40, 50, 60, 70, 80, 90])\n",
    "in_seq2 = array([15, 25, 35, 45, 55, 65, 75, 85, 95])\n",
    "out_seq = array([in_seq1[i]+in_seq2[i] for i in range(len(in_seq1))])\n",
    "# convert to [rows, columns] structure\n",
    "in_seq1 = in_seq1.reshape((len(in_seq1), 1))\n",
    "in_seq2 = in_seq2.reshape((len(in_seq2), 1))\n",
    "out_seq = out_seq.reshape((len(out_seq), 1))\n",
    "# horizontally stack columns\n",
    "dataset = np.hstack((in_seq1, in_seq2, out_seq))\n",
    "# choose a number of time steps\n",
    "n_steps = 3\n",
    "# convert into input/output\n",
    "X, y = split_sequences(dataset, n_steps)\n",
    "# the dataset knows the number of features, e.g. 2\n",
    "n_features = X.shape[2]\n",
    "# define model\n",
    "model = Sequential()\n",
    "model.add(Conv1D(filters=64, kernel_size=2, activation='relu', input_shape=(n_steps, n_features)))\n",
    "model.add(MaxPooling1D(pool_size=2))\n",
    "model.add(Flatten())\n",
    "model.add(Dense(50, activation='relu'))\n",
    "model.add(Dense(1))\n",
    "model.compile(optimizer='adam', loss='mse')\n",
    "# fit model\n",
    "model.fit(X, y, epochs=1000, verbose=0)\n",
    "# demonstrate prediction\n",
    "x_input = array([[80, 85], [90, 95], [100, 105]])\n",
    "x_input = x_input.reshape((1, n_steps, n_features))\n",
    "yhat = model.predict(x_input, verbose=0)\n",
    "print(yhat)"
   ]
  },
  {
   "cell_type": "code",
   "execution_count": 97,
   "id": "f067d51a-e004-4b12-ac5c-1b6eebde6d30",
   "metadata": {},
   "outputs": [
    {
     "name": "stdout",
     "output_type": "stream",
     "text": [
      "Number of CPUs in the system: 8\n"
     ]
    }
   ],
   "source": [
    "import os\n",
    "print('Number of CPUs in the system: {}'.format(os.cpu_count()))"
   ]
  },
  {
   "cell_type": "code",
   "execution_count": 99,
   "id": "658d3426-0d04-416d-9a72-776438680e1e",
   "metadata": {},
   "outputs": [
    {
     "name": "stderr",
     "output_type": "stream",
     "text": [
      "'ipcluster' is not recognized as an internal or external command,\n",
      "operable program or batch file.\n"
     ]
    }
   ],
   "source": []
  },
  {
   "cell_type": "code",
   "execution_count": 100,
   "id": "9df92356-4961-46a6-b3cf-2320f4723612",
   "metadata": {},
   "outputs": [
    {
     "name": "stdout",
     "output_type": "stream",
     "text": [
      "Collecting ipyparallelNote: you may need to restart the kernel to use updated packages.\n",
      "\n",
      "  Downloading ipyparallel-8.3.0-py3-none-any.whl (296 kB)\n",
      "Requirement already satisfied: traitlets>=4.3 in c:\\users\\e.olalekan-elesin\\anaconda3\\lib\\site-packages (from ipyparallel) (5.1.0)\n",
      "Requirement already satisfied: jupyter_client in c:\\users\\e.olalekan-elesin\\anaconda3\\lib\\site-packages (from ipyparallel) (6.1.12)\n",
      "Requirement already satisfied: psutil in c:\\users\\e.olalekan-elesin\\anaconda3\\lib\\site-packages (from ipyparallel) (5.8.0)\n",
      "Requirement already satisfied: tqdm in c:\\users\\e.olalekan-elesin\\anaconda3\\lib\\site-packages (from ipyparallel) (4.62.3)\n",
      "Requirement already satisfied: ipython>=4 in c:\\users\\e.olalekan-elesin\\anaconda3\\lib\\site-packages (from ipyparallel) (7.29.0)\n",
      "Requirement already satisfied: pyzmq>=18 in c:\\users\\e.olalekan-elesin\\anaconda3\\lib\\site-packages (from ipyparallel) (22.2.1)\n",
      "Requirement already satisfied: decorator in c:\\users\\e.olalekan-elesin\\anaconda3\\lib\\site-packages (from ipyparallel) (5.1.0)\n",
      "Requirement already satisfied: ipykernel>=4.4 in c:\\users\\e.olalekan-elesin\\anaconda3\\lib\\site-packages (from ipyparallel) (6.4.1)\n",
      "Requirement already satisfied: tornado>=5.1 in c:\\users\\e.olalekan-elesin\\anaconda3\\lib\\site-packages (from ipyparallel) (6.1)\n",
      "Requirement already satisfied: entrypoints in c:\\users\\e.olalekan-elesin\\anaconda3\\lib\\site-packages (from ipyparallel) (0.3)\n",
      "Requirement already satisfied: python-dateutil>=2.1 in c:\\users\\e.olalekan-elesin\\anaconda3\\lib\\site-packages (from ipyparallel) (2.8.2)\n",
      "Requirement already satisfied: matplotlib-inline<0.2.0,>=0.1.0 in c:\\users\\e.olalekan-elesin\\anaconda3\\lib\\site-packages (from ipykernel>=4.4->ipyparallel) (0.1.2)\n",
      "Requirement already satisfied: ipython-genutils in c:\\users\\e.olalekan-elesin\\anaconda3\\lib\\site-packages (from ipykernel>=4.4->ipyparallel) (0.2.0)\n",
      "Requirement already satisfied: debugpy<2.0,>=1.0.0 in c:\\users\\e.olalekan-elesin\\anaconda3\\lib\\site-packages (from ipykernel>=4.4->ipyparallel) (1.4.1)\n",
      "Requirement already satisfied: prompt-toolkit!=3.0.0,!=3.0.1,<3.1.0,>=2.0.0 in c:\\users\\e.olalekan-elesin\\anaconda3\\lib\\site-packages (from ipython>=4->ipyparallel) (3.0.20)\n",
      "Requirement already satisfied: pygments in c:\\users\\e.olalekan-elesin\\anaconda3\\lib\\site-packages (from ipython>=4->ipyparallel) (2.10.0)\n",
      "Requirement already satisfied: setuptools>=18.5 in c:\\users\\e.olalekan-elesin\\anaconda3\\lib\\site-packages (from ipython>=4->ipyparallel) (58.0.4)\n",
      "Requirement already satisfied: pickleshare in c:\\users\\e.olalekan-elesin\\anaconda3\\lib\\site-packages (from ipython>=4->ipyparallel) (0.7.5)\n",
      "Requirement already satisfied: backcall in c:\\users\\e.olalekan-elesin\\anaconda3\\lib\\site-packages (from ipython>=4->ipyparallel) (0.2.0)\n",
      "Requirement already satisfied: colorama in c:\\users\\e.olalekan-elesin\\anaconda3\\lib\\site-packages (from ipython>=4->ipyparallel) (0.4.4)\n",
      "Requirement already satisfied: jedi>=0.16 in c:\\users\\e.olalekan-elesin\\anaconda3\\lib\\site-packages (from ipython>=4->ipyparallel) (0.18.0)\n",
      "Requirement already satisfied: parso<0.9.0,>=0.8.0 in c:\\users\\e.olalekan-elesin\\anaconda3\\lib\\site-packages (from jedi>=0.16->ipython>=4->ipyparallel) (0.8.2)\n",
      "Requirement already satisfied: jupyter-core>=4.6.0 in c:\\users\\e.olalekan-elesin\\anaconda3\\lib\\site-packages (from jupyter_client->ipyparallel) (4.8.1)\n",
      "Requirement already satisfied: pywin32>=1.0 in c:\\users\\e.olalekan-elesin\\anaconda3\\lib\\site-packages (from jupyter-core>=4.6.0->jupyter_client->ipyparallel) (228)\n",
      "Requirement already satisfied: wcwidth in c:\\users\\e.olalekan-elesin\\anaconda3\\lib\\site-packages (from prompt-toolkit!=3.0.0,!=3.0.1,<3.1.0,>=2.0.0->ipython>=4->ipyparallel) (0.2.5)\n",
      "Requirement already satisfied: six>=1.5 in c:\\users\\e.olalekan-elesin\\anaconda3\\lib\\site-packages (from python-dateutil>=2.1->ipyparallel) (1.16.0)\n",
      "Installing collected packages: ipyparallel\n",
      "Successfully installed ipyparallel-8.3.0\n"
     ]
    }
   ],
   "source": [
    "pip install ipyparallel"
   ]
  },
  {
   "cell_type": "code",
   "execution_count": null,
   "id": "1e954b61-bf59-452f-bfef-3bce5a837b91",
   "metadata": {},
   "outputs": [],
   "source": [
    "!ipcluster start -n 10"
   ]
  },
  {
   "cell_type": "code",
   "execution_count": null,
   "id": "05f56869-8451-42ea-b602-3278a0e6881e",
   "metadata": {},
   "outputs": [],
   "source": []
  },
  {
   "cell_type": "code",
   "execution_count": null,
   "id": "91857e52-c141-4963-9928-9ae623337d51",
   "metadata": {},
   "outputs": [],
   "source": []
  },
  {
   "cell_type": "code",
   "execution_count": null,
   "id": "a720bf0b-f582-41e5-90dd-52c4b21ed2b5",
   "metadata": {},
   "outputs": [],
   "source": []
  },
  {
   "cell_type": "code",
   "execution_count": null,
   "id": "aab056ab-1e79-4db8-8d7f-ece66fcbebb2",
   "metadata": {},
   "outputs": [],
   "source": []
  },
  {
   "cell_type": "code",
   "execution_count": null,
   "id": "3dc1bcb3-dd50-4e30-81c9-c7fd25de888e",
   "metadata": {},
   "outputs": [],
   "source": []
  },
  {
   "cell_type": "code",
   "execution_count": 118,
   "id": "ec432cf6-5687-4d54-8af5-6d0e2c90882f",
   "metadata": {},
   "outputs": [],
   "source": [
    "fashion_mnist = keras.datasets.fashion_mnist"
   ]
  },
  {
   "cell_type": "code",
   "execution_count": 119,
   "id": "2a811bd1-3c2e-4008-8a07-b760b106c61c",
   "metadata": {},
   "outputs": [
    {
     "data": {
      "text/plain": [
       "<module 'keras.datasets.fashion_mnist' from 'C:\\\\Users\\\\e.olalekan-elesin\\\\Anaconda3\\\\lib\\\\site-packages\\\\keras\\\\datasets\\\\fashion_mnist.py'>"
      ]
     },
     "execution_count": 119,
     "metadata": {},
     "output_type": "execute_result"
    }
   ],
   "source": [
    "fashion_mnist"
   ]
  },
  {
   "cell_type": "code",
   "execution_count": 120,
   "id": "21286958-3843-4ea7-b248-013152049580",
   "metadata": {},
   "outputs": [],
   "source": [
    "(X_train_full, y_train_full), (X_test, y_test) = fashion_mnist.load_data()"
   ]
  },
  {
   "cell_type": "code",
   "execution_count": 121,
   "id": "5286dbd1-f2da-4cec-ae7c-bd29cf417d6c",
   "metadata": {},
   "outputs": [
    {
     "data": {
      "text/plain": [
       "(60000, 28, 28)"
      ]
     },
     "execution_count": 121,
     "metadata": {},
     "output_type": "execute_result"
    }
   ],
   "source": [
    "X_train_full.shape"
   ]
  },
  {
   "cell_type": "code",
   "execution_count": 122,
   "id": "ec7de3b8-f781-4332-a6d9-a4527dde8a8a",
   "metadata": {},
   "outputs": [
    {
     "data": {
      "text/plain": [
       "dtype('uint8')"
      ]
     },
     "execution_count": 122,
     "metadata": {},
     "output_type": "execute_result"
    }
   ],
   "source": [
    "X_train_full.dtype"
   ]
  },
  {
   "cell_type": "code",
   "execution_count": 123,
   "id": "5d1ced4b-a59a-4d9c-aeb3-f27572d69e46",
   "metadata": {},
   "outputs": [
    {
     "data": {
      "text/plain": [
       "(60000,)"
      ]
     },
     "execution_count": 123,
     "metadata": {},
     "output_type": "execute_result"
    }
   ],
   "source": [
    "y_train_full.shape"
   ]
  },
  {
   "cell_type": "code",
   "execution_count": 124,
   "id": "74bcc2c0-8202-4b06-ba77-c0ff660533a1",
   "metadata": {},
   "outputs": [
    {
     "data": {
      "text/plain": [
       "(10000, 28, 28)"
      ]
     },
     "execution_count": 124,
     "metadata": {},
     "output_type": "execute_result"
    }
   ],
   "source": [
    "X_test.shape"
   ]
  },
  {
   "cell_type": "code",
   "execution_count": null,
   "id": "1c71e96e-420b-425b-97e5-cdda9ae37cb5",
   "metadata": {},
   "outputs": [],
   "source": []
  },
  {
   "cell_type": "code",
   "execution_count": null,
   "id": "7ef14bbc-dbe8-4427-9920-973afc9aee1e",
   "metadata": {},
   "outputs": [],
   "source": []
  },
  {
   "cell_type": "code",
   "execution_count": 125,
   "id": "cf533989-fc6f-4dec-bdb1-7b8de3e6d003",
   "metadata": {},
   "outputs": [],
   "source": [
    "# For validation\n",
    "\n",
    "X_valid, X_train = X_train_full[:5000] / 255.0, X_train_full[5000] / 255.0\n",
    "y_valid, y_train = y_train_full[:5000], y_train_full[5000:]"
   ]
  },
  {
   "cell_type": "code",
   "execution_count": 126,
   "id": "7ede5d07-23fa-4f06-82d3-9e0354747c50",
   "metadata": {},
   "outputs": [
    {
     "data": {
      "text/plain": [
       "(5000, 28, 28)"
      ]
     },
     "execution_count": 126,
     "metadata": {},
     "output_type": "execute_result"
    }
   ],
   "source": [
    "X_valid.shape"
   ]
  },
  {
   "cell_type": "code",
   "execution_count": 127,
   "id": "1b6883a8-07fc-4ba0-beb3-d985b5f335ff",
   "metadata": {},
   "outputs": [
    {
     "data": {
      "text/plain": [
       "array([[[0., 0., 0., ..., 0., 0., 0.],\n",
       "        [0., 0., 0., ..., 0., 0., 0.],\n",
       "        [0., 0., 0., ..., 0., 0., 0.],\n",
       "        ...,\n",
       "        [0., 0., 0., ..., 0., 0., 0.],\n",
       "        [0., 0., 0., ..., 0., 0., 0.],\n",
       "        [0., 0., 0., ..., 0., 0., 0.]],\n",
       "\n",
       "       [[0., 0., 0., ..., 0., 0., 0.],\n",
       "        [0., 0., 0., ..., 0., 0., 0.],\n",
       "        [0., 0., 0., ..., 0., 0., 0.],\n",
       "        ...,\n",
       "        [0., 0., 0., ..., 0., 0., 0.],\n",
       "        [0., 0., 0., ..., 0., 0., 0.],\n",
       "        [0., 0., 0., ..., 0., 0., 0.]],\n",
       "\n",
       "       [[0., 0., 0., ..., 0., 0., 0.],\n",
       "        [0., 0., 0., ..., 0., 0., 0.],\n",
       "        [0., 0., 0., ..., 0., 0., 0.],\n",
       "        ...,\n",
       "        [0., 0., 0., ..., 0., 0., 0.],\n",
       "        [0., 0., 0., ..., 0., 0., 0.],\n",
       "        [0., 0., 0., ..., 0., 0., 0.]],\n",
       "\n",
       "       ...,\n",
       "\n",
       "       [[0., 0., 0., ..., 0., 0., 0.],\n",
       "        [0., 0., 0., ..., 0., 0., 0.],\n",
       "        [0., 0., 0., ..., 0., 0., 0.],\n",
       "        ...,\n",
       "        [0., 0., 0., ..., 0., 0., 0.],\n",
       "        [0., 0., 0., ..., 0., 0., 0.],\n",
       "        [0., 0., 0., ..., 0., 0., 0.]],\n",
       "\n",
       "       [[0., 0., 0., ..., 0., 0., 0.],\n",
       "        [0., 0., 0., ..., 0., 0., 0.],\n",
       "        [0., 0., 0., ..., 0., 0., 0.],\n",
       "        ...,\n",
       "        [0., 0., 0., ..., 0., 0., 0.],\n",
       "        [0., 0., 0., ..., 0., 0., 0.],\n",
       "        [0., 0., 0., ..., 0., 0., 0.]],\n",
       "\n",
       "       [[0., 0., 0., ..., 0., 0., 0.],\n",
       "        [0., 0., 0., ..., 0., 0., 0.],\n",
       "        [0., 0., 0., ..., 0., 0., 0.],\n",
       "        ...,\n",
       "        [0., 0., 0., ..., 0., 0., 0.],\n",
       "        [0., 0., 0., ..., 0., 0., 0.],\n",
       "        [0., 0., 0., ..., 0., 0., 0.]]])"
      ]
     },
     "execution_count": 127,
     "metadata": {},
     "output_type": "execute_result"
    }
   ],
   "source": [
    "X_valid"
   ]
  },
  {
   "cell_type": "code",
   "execution_count": 128,
   "id": "04ab9a43-554f-4fac-896d-2ee6e7e6460f",
   "metadata": {},
   "outputs": [],
   "source": [
    "class_names = ['T-shirt', 'Trouser', 'Pullover', 'Dress', 'Coat', 'Sandal', 'Shirt', 'Sneaker', 'Bag', 'Ankle boot']"
   ]
  },
  {
   "cell_type": "code",
   "execution_count": 129,
   "id": "6cd8f19e-44a0-4439-b62d-ca209338e900",
   "metadata": {},
   "outputs": [
    {
     "data": {
      "text/plain": [
       "'Coat'"
      ]
     },
     "execution_count": 129,
     "metadata": {},
     "output_type": "execute_result"
    }
   ],
   "source": [
    "class_names[y_train[0]]"
   ]
  },
  {
   "cell_type": "code",
   "execution_count": 130,
   "id": "1c264033-b2f9-4cf5-ae2b-538b10f33ac3",
   "metadata": {},
   "outputs": [],
   "source": [
    "model = keras.models.Sequential([\n",
    "    keras.layers.Flatten(input_shape=[28,28]),\n",
    "    keras.layers.Dense(300, activation='relu'),\n",
    "    keras.layers.Dense(100, activation='relu'),\n",
    "    keras.layers.Dense(10, activation='softmax')\n",
    "])"
   ]
  },
  {
   "cell_type": "code",
   "execution_count": 131,
   "id": "9b865d26-2709-4283-83c9-27f8d5ec950d",
   "metadata": {},
   "outputs": [
    {
     "name": "stdout",
     "output_type": "stream",
     "text": [
      "Model: \"sequential_41\"\n",
      "_________________________________________________________________\n",
      " Layer (type)                Output Shape              Param #   \n",
      "=================================================================\n",
      " flatten_2 (Flatten)         (None, 784)               0         \n",
      "                                                                 \n",
      " dense_32 (Dense)            (None, 300)               235500    \n",
      "                                                                 \n",
      " dense_33 (Dense)            (None, 100)               30100     \n",
      "                                                                 \n",
      " dense_34 (Dense)            (None, 10)                1010      \n",
      "                                                                 \n",
      "=================================================================\n",
      "Total params: 266,610\n",
      "Trainable params: 266,610\n",
      "Non-trainable params: 0\n",
      "_________________________________________________________________\n"
     ]
    }
   ],
   "source": [
    "model.summary()"
   ]
  },
  {
   "cell_type": "code",
   "execution_count": 132,
   "id": "77990422-28af-4277-bcd9-eb7dbda58fd8",
   "metadata": {},
   "outputs": [
    {
     "data": {
      "text/plain": [
       "[<keras.layers.core.flatten.Flatten at 0x1fea70be850>,\n",
       " <keras.layers.core.dense.Dense at 0x1fea70bec10>,\n",
       " <keras.layers.core.dense.Dense at 0x1fea70abc10>,\n",
       " <keras.layers.core.dense.Dense at 0x1fea70a61c0>]"
      ]
     },
     "execution_count": 132,
     "metadata": {},
     "output_type": "execute_result"
    }
   ],
   "source": [
    "model.layers"
   ]
  },
  {
   "cell_type": "code",
   "execution_count": 175,
   "id": "04619923-8b45-460e-97b1-6a6c4ff177b9",
   "metadata": {},
   "outputs": [],
   "source": [
    "from sklearn.datasets import fetch_california_housing\n",
    "from sklearn.model_selection import train_test_split\n",
    "from sklearn.preprocessing import StandardScaler"
   ]
  },
  {
   "cell_type": "code",
   "execution_count": 177,
   "id": "ed930ac2-5ae6-4534-b86e-502c96bf5058",
   "metadata": {},
   "outputs": [],
   "source": [
    "housing = fetch_california_housing()"
   ]
  },
  {
   "cell_type": "code",
   "execution_count": 178,
   "id": "c9cf304d-7476-461c-aa50-f367931feaf9",
   "metadata": {},
   "outputs": [],
   "source": [
    "X_train_full, X_test, y_train_full, y_test = train_test_split(housing.data, housing.target)"
   ]
  },
  {
   "cell_type": "code",
   "execution_count": 179,
   "id": "017ac6bb-8ff8-4b53-940d-314ae228a472",
   "metadata": {},
   "outputs": [],
   "source": [
    "X_train, X_valid, y_train, y_valid = train_test_split(X_train_full, y_train_full)"
   ]
  },
  {
   "cell_type": "code",
   "execution_count": 180,
   "id": "91aa189b-7b86-4727-be49-3af45a64dc12",
   "metadata": {},
   "outputs": [],
   "source": [
    "scaler = StandardScaler()\n",
    "X_train = scaler.fit_transform(X_train)\n",
    "X_valid = scaler.transform(X_valid)\n",
    "X_test = scaler.transform(X_test)"
   ]
  },
  {
   "cell_type": "code",
   "execution_count": 181,
   "id": "e9c0493a-ef91-4887-a773-2f154ec9b21a",
   "metadata": {},
   "outputs": [
    {
     "name": "stdout",
     "output_type": "stream",
     "text": [
      "Epoch 1/20\n",
      "363/363 [==============================] - 1s 1ms/step - loss: 1.6774 - val_loss: 0.5687\n",
      "Epoch 2/20\n",
      "363/363 [==============================] - 0s 822us/step - loss: 0.5228 - val_loss: 0.4449\n",
      "Epoch 3/20\n",
      "363/363 [==============================] - 0s 941us/step - loss: 0.4691 - val_loss: 0.4051\n",
      "Epoch 4/20\n",
      "363/363 [==============================] - 0s 1ms/step - loss: 0.4454 - val_loss: 0.3926\n",
      "Epoch 5/20\n",
      "363/363 [==============================] - 0s 923us/step - loss: 0.4350 - val_loss: 0.3805\n",
      "Epoch 6/20\n",
      "363/363 [==============================] - 0s 825us/step - loss: 0.4251 - val_loss: 0.3788\n",
      "Epoch 7/20\n",
      "363/363 [==============================] - 0s 873us/step - loss: 0.4187 - val_loss: 0.3801\n",
      "Epoch 8/20\n",
      "363/363 [==============================] - 0s 861us/step - loss: 0.4158 - val_loss: 0.3705\n",
      "Epoch 9/20\n",
      "363/363 [==============================] - 0s 850us/step - loss: 0.4099 - val_loss: 0.3623\n",
      "Epoch 10/20\n",
      "363/363 [==============================] - 0s 938us/step - loss: 0.4057 - val_loss: 0.3601\n",
      "Epoch 11/20\n",
      "363/363 [==============================] - 0s 970us/step - loss: 0.4018 - val_loss: 0.3597\n",
      "Epoch 12/20\n",
      "363/363 [==============================] - 0s 933us/step - loss: 0.3989 - val_loss: 0.3524\n",
      "Epoch 13/20\n",
      "363/363 [==============================] - 0s 849us/step - loss: 0.3949 - val_loss: 0.3554\n",
      "Epoch 14/20\n",
      "363/363 [==============================] - 0s 859us/step - loss: 0.3920 - val_loss: 0.3575\n",
      "Epoch 15/20\n",
      "363/363 [==============================] - 0s 871us/step - loss: 0.3899 - val_loss: 0.3457\n",
      "Epoch 16/20\n",
      "363/363 [==============================] - 0s 886us/step - loss: 0.3856 - val_loss: 0.3443\n",
      "Epoch 17/20\n",
      "363/363 [==============================] - 0s 917us/step - loss: 0.3825 - val_loss: 0.3429\n",
      "Epoch 18/20\n",
      "363/363 [==============================] - 0s 1ms/step - loss: 0.3821 - val_loss: 0.3448\n",
      "Epoch 19/20\n",
      "363/363 [==============================] - 0s 1ms/step - loss: 0.3818 - val_loss: 0.3392\n",
      "Epoch 20/20\n",
      "363/363 [==============================] - 0s 1ms/step - loss: 0.3782 - val_loss: 0.3399\n",
      "162/162 [==============================] - 0s 872us/step - loss: 0.3797\n"
     ]
    }
   ],
   "source": [
    "model = keras.models.Sequential([\n",
    "    keras.layers.Dense(30, activation='relu', input_shape=X_train.shape[1:]),\n",
    "    keras.layers.Dense(1)\n",
    "])\n",
    "\n",
    "model.compile(loss='mean_squared_error', optimizer='sgd')\n",
    "history = model.fit(X_train, y_train, epochs = 20, validation_data=(X_valid, y_valid))\n",
    "mse_test = model.evaluate(X_test, y_test)\n",
    "X_new = X_test[:3]\n",
    "y_pred = model.predict(X_new)\n",
    "                                 "
   ]
  },
  {
   "cell_type": "code",
   "execution_count": 182,
   "id": "fccae005-09ac-4382-a434-3f9cd6a0993e",
   "metadata": {},
   "outputs": [
    {
     "data": {
      "text/plain": [
       "{'loss': [1.6773980855941772,\n",
       "  0.5228172540664673,\n",
       "  0.4690600037574768,\n",
       "  0.44538798928260803,\n",
       "  0.4349824786186218,\n",
       "  0.4250929057598114,\n",
       "  0.4187019169330597,\n",
       "  0.4158228039741516,\n",
       "  0.4098873734474182,\n",
       "  0.4056726396083832,\n",
       "  0.4017767012119293,\n",
       "  0.3988801836967468,\n",
       "  0.39489954710006714,\n",
       "  0.392037957906723,\n",
       "  0.3899012804031372,\n",
       "  0.3855985999107361,\n",
       "  0.382497102022171,\n",
       "  0.3821185529232025,\n",
       "  0.38179799914360046,\n",
       "  0.37823691964149475],\n",
       " 'val_loss': [0.5687083005905151,\n",
       "  0.4449308216571808,\n",
       "  0.40514951944351196,\n",
       "  0.3926401436328888,\n",
       "  0.38046926259994507,\n",
       "  0.3788161277770996,\n",
       "  0.3800828158855438,\n",
       "  0.3704510033130646,\n",
       "  0.3623262643814087,\n",
       "  0.3600783348083496,\n",
       "  0.3596966862678528,\n",
       "  0.3523726463317871,\n",
       "  0.35544276237487793,\n",
       "  0.3574986159801483,\n",
       "  0.34569424390792847,\n",
       "  0.3442559540271759,\n",
       "  0.34290018677711487,\n",
       "  0.34477293491363525,\n",
       "  0.3391612470149994,\n",
       "  0.33990174531936646]}"
      ]
     },
     "execution_count": 182,
     "metadata": {},
     "output_type": "execute_result"
    }
   ],
   "source": [
    "history.history"
   ]
  },
  {
   "cell_type": "code",
   "execution_count": 174,
   "id": "b481132f-b514-4faa-95e0-45b79aa9a807",
   "metadata": {},
   "outputs": [],
   "source": [
    "from sklearn.datasets import load_sample_image"
   ]
  },
  {
   "cell_type": "code",
   "execution_count": 175,
   "id": "281d5511-3e73-4777-adb6-cb9437eaa49c",
   "metadata": {},
   "outputs": [],
   "source": [
    "china = load_sample_image('china.jpg')/255\n",
    "flower = load_sample_image('flower.jpg')/255"
   ]
  },
  {
   "cell_type": "code",
   "execution_count": 176,
   "id": "284ef9f3-a336-4ca3-bd49-391f488bbe44",
   "metadata": {},
   "outputs": [],
   "source": [
    "images = np.array([china, flower])"
   ]
  },
  {
   "cell_type": "code",
   "execution_count": 178,
   "id": "6d7f035d-f535-4d8a-a565-504f4058d525",
   "metadata": {},
   "outputs": [],
   "source": [
    "batch_size, height, width, channels = images.shape"
   ]
  },
  {
   "cell_type": "code",
   "execution_count": 181,
   "id": "0ddff59b-8b13-492d-ae1e-eb26297bfebc",
   "metadata": {},
   "outputs": [],
   "source": [
    "filters = np.zeros(shape=(7,7, channels, 2), dtype=np.float32)\n",
    "filters[:, 3, :, 0] = 1\n",
    "filters[3, :, :, 1] = 1"
   ]
  },
  {
   "cell_type": "code",
   "execution_count": 182,
   "id": "b24d38ff-d900-4e64-a049-2c30dbe036c4",
   "metadata": {},
   "outputs": [],
   "source": [
    "outputs = tf.nn.conv2d(images, filters, strides=1, padding='SAME')"
   ]
  },
  {
   "cell_type": "code",
   "execution_count": 183,
   "id": "f50bec43-b8bb-49da-ad8c-769d23849d0e",
   "metadata": {},
   "outputs": [
    {
     "data": {
      "text/plain": [
       "<matplotlib.image.AxesImage at 0x2658023dc70>"
      ]
     },
     "execution_count": 183,
     "metadata": {},
     "output_type": "execute_result"
    },
    {
     "data": {
      "image/png": "[encoded data removed]",
      "text/plain": [
       "<Figure size 432x288 with 1 Axes>"
      ]
     },
     "metadata": {
      "needs_background": "light"
     },
     "output_type": "display_data"
    }
   ],
   "source": [
    "plt.imshow(outputs[0, :, :, 1], cmap='gray')"
   ]
  },
  {
   "cell_type": "code",
   "execution_count": 184,
   "id": "1fcaf7a6-cff9-4dcf-9748-78592aa5d84b",
   "metadata": {},
   "outputs": [],
   "source": [
    "plt.show()"
   ]
  },
  {
   "cell_type": "code",
   "execution_count": null,
   "id": "8f18aed4-bb17-4ffe-84ca-cfb26d32b2ee",
   "metadata": {},
   "outputs": [],
   "source": []
  },
  {
   "cell_type": "markdown",
   "id": "9bd4eb58-35c9-40d2-83bf-a50facf96b54",
   "metadata": {},
   "source": [
    "# Demo using time series dataset"
   ]
  },
  {
   "cell_type": "code",
   "execution_count": 6,
   "id": "cd81db7d-d956-4926-a80c-77a9115548c3",
   "metadata": {},
   "outputs": [],
   "source": [
    "def generate_time_series(batch_size, n_steps):\n",
    "    freq1, freq2, offsets1, offsets2 = np.random.rand(4, batch_size, 1)\n",
    "    time = np.linspace(0, 1, n_steps)\n",
    "    series = 0.5 * np.sin((time - offsets1) * (freq1 * 10 + 10)) #wave 1\n",
    "    series += 0.2 * np.sin((time - offsets2) * (freq2 * 20 + 20)) #wave 2\n",
    "    series += 0.1 * (np.random.rand(batch_size, n_steps) - 0.5) #noise\n",
    "    return series[..., np.newaxis].astype(np.float32)"
   ]
  },
  {
   "cell_type": "markdown",
   "id": "eee4e4a0-5258-498e-875a-8ae59cee6397",
   "metadata": {},
   "source": [
    "This function creates as many time series as requested (via the batch_size argument), each of length n_steps, and there is just one value per time step in each series (that is, all series are univariate). The function returns a NumPy array of shape  [batch size, time steps, 1], where each series is the sum of 2 sine waves of fixed amplitudes but random frequencies and phases with a bit of noise"
   ]
  },
  {
   "cell_type": "markdown",
   "id": "8ca1eec6-6bcc-478f-9083-0e3907ae333d",
   "metadata": {},
   "source": [
    "Time series and other sequences such as sentences have their input features represented as 3D arrays of shape (batch size, time steps, dimentionality) "
   ]
  },
  {
   "cell_type": "code",
   "execution_count": 7,
   "id": "8ead0f70-dff7-4052-9f2f-a7818a0c633c",
   "metadata": {},
   "outputs": [],
   "source": [
    "# to create training set, validation set and set test\n",
    "\n",
    "#This predicts 1 step ahead\n",
    "\n",
    "n_steps = 50\n",
    "series = generate_time_series(10000, n_steps + 1)\n",
    "X_train, y_train = series[:7000, :n_steps], series[:7000, -1]\n",
    "X_valid, y_valid = series[7000:9000:, :n_steps], series[7000:9000, -1]\n",
    "X_test, y_test = series[9000:, :n_steps], series[9000:, -1]"
   ]
  },
  {
   "cell_type": "code",
   "execution_count": 8,
   "id": "baed9d21-3162-40af-9531-2cd1a7fd2c95",
   "metadata": {
    "scrolled": true,
    "tags": []
   },
   "outputs": [
    {
     "data": {
      "text/plain": [
       "array([[[ 0.48324317],\n",
       "        [ 0.37518412],\n",
       "        [ 0.156684  ],\n",
       "        ...,\n",
       "        [ 0.5871168 ],\n",
       "        [ 0.5671267 ],\n",
       "        [ 0.35694697]],\n",
       "\n",
       "       [[-0.3567758 ],\n",
       "        [-0.22875988],\n",
       "        [ 0.02194327],\n",
       "        ...,\n",
       "        [ 0.05871842],\n",
       "        [-0.0146201 ],\n",
       "        [-0.07083055]],\n",
       "\n",
       "       [[-0.1291342 ],\n",
       "        [-0.29922932],\n",
       "        [-0.43288234],\n",
       "        ...,\n",
       "        [-0.23508753],\n",
       "        [-0.32837528],\n",
       "        [-0.33066893]],\n",
       "\n",
       "       ...,\n",
       "\n",
       "       [[ 0.03313443],\n",
       "        [ 0.12075923],\n",
       "        [ 0.28029534],\n",
       "        ...,\n",
       "        [-0.10613614],\n",
       "        [-0.20502315],\n",
       "        [-0.3411431 ]],\n",
       "\n",
       "       [[ 0.52035874],\n",
       "        [ 0.47067955],\n",
       "        [ 0.29588953],\n",
       "        ...,\n",
       "        [ 0.6126631 ],\n",
       "        [ 0.53040534],\n",
       "        [ 0.38040048]],\n",
       "\n",
       "       [[-0.10296227],\n",
       "        [-0.28068677],\n",
       "        [-0.3983089 ],\n",
       "        ...,\n",
       "        [-0.51382136],\n",
       "        [-0.3064759 ],\n",
       "        [-0.05288179]]], dtype=float32)"
      ]
     },
     "execution_count": 8,
     "metadata": {},
     "output_type": "execute_result"
    }
   ],
   "source": [
    "X_train"
   ]
  },
  {
   "cell_type": "code",
   "execution_count": 9,
   "id": "a7e62fef-3906-441f-85dc-1556cc9d74d5",
   "metadata": {
    "scrolled": true,
    "tags": []
   },
   "outputs": [
    {
     "data": {
      "text/plain": [
       "array([[ 0.14968053],\n",
       "       [-0.19940615],\n",
       "       [-0.33947176],\n",
       "       ...,\n",
       "       [-0.35346472],\n",
       "       [ 0.22054245],\n",
       "       [ 0.13743973]], dtype=float32)"
      ]
     },
     "execution_count": 9,
     "metadata": {},
     "output_type": "execute_result"
    }
   ],
   "source": [
    "y_train"
   ]
  },
  {
   "cell_type": "code",
   "execution_count": 14,
   "id": "022e19b0-1ea7-4c79-a2f0-bba8fa39a576",
   "metadata": {},
   "outputs": [
    {
     "data": {
      "text/plain": [
       "7000"
      ]
     },
     "execution_count": 14,
     "metadata": {},
     "output_type": "execute_result"
    }
   ],
   "source": [
    "len(X_train)"
   ]
  },
  {
   "cell_type": "code",
   "execution_count": 11,
   "id": "13a0e3b5-ffa5-4953-a3f9-b3c8cc692fbb",
   "metadata": {},
   "outputs": [
    {
     "data": {
      "text/plain": [
       "1"
      ]
     },
     "execution_count": 11,
     "metadata": {},
     "output_type": "execute_result"
    }
   ],
   "source": [
    "len(y_train[1])"
   ]
  },
  {
   "cell_type": "code",
   "execution_count": 12,
   "id": "c888b437-371d-48e7-b6d6-408e59848dd9",
   "metadata": {
    "scrolled": true,
    "tags": []
   },
   "outputs": [
    {
     "data": {
      "text/plain": [
       "array([[[ 0.26118985],\n",
       "        [ 0.31679103],\n",
       "        [ 0.32168707],\n",
       "        ...,\n",
       "        [-0.08630545],\n",
       "        [ 0.02916951],\n",
       "        [ 0.15316395]],\n",
       "\n",
       "       [[ 0.23445578],\n",
       "        [ 0.36575443],\n",
       "        [ 0.5668433 ],\n",
       "        ...,\n",
       "        [ 0.11348081],\n",
       "        [ 0.14787883],\n",
       "        [ 0.29362565]],\n",
       "\n",
       "       [[-0.09233636],\n",
       "        [-0.05576532],\n",
       "        [-0.04016936],\n",
       "        ...,\n",
       "        [ 0.61031604],\n",
       "        [ 0.33629158],\n",
       "        [ 0.08602136]],\n",
       "\n",
       "       ...,\n",
       "\n",
       "       [[ 0.3030281 ],\n",
       "        [ 0.46295175],\n",
       "        [ 0.43861654],\n",
       "        ...,\n",
       "        [-0.2613105 ],\n",
       "        [-0.08060499],\n",
       "        [ 0.04045949]],\n",
       "\n",
       "       [[-0.32762223],\n",
       "        [-0.5011419 ],\n",
       "        [-0.5705099 ],\n",
       "        ...,\n",
       "        [ 0.28141093],\n",
       "        [ 0.24088028],\n",
       "        [ 0.16920589]],\n",
       "\n",
       "       [[-0.17180258],\n",
       "        [-0.14607249],\n",
       "        [-0.23872532],\n",
       "        ...,\n",
       "        [ 0.26994726],\n",
       "        [ 0.33585098],\n",
       "        [ 0.24846762]]], dtype=float32)"
      ]
     },
     "execution_count": 12,
     "metadata": {},
     "output_type": "execute_result"
    }
   ],
   "source": [
    "X_test"
   ]
  },
  {
   "cell_type": "code",
   "execution_count": 13,
   "id": "9bf01945-9fdc-46cc-a4da-6ca797a4ca1c",
   "metadata": {},
   "outputs": [
    {
     "data": {
      "text/plain": [
       "1000"
      ]
     },
     "execution_count": 13,
     "metadata": {},
     "output_type": "execute_result"
    }
   ],
   "source": [
    "len(X_test)"
   ]
  },
  {
   "cell_type": "code",
   "execution_count": 15,
   "id": "4e4b21ac-61a2-4c18-9eac-c0a86820b936",
   "metadata": {
    "scrolled": true,
    "tags": []
   },
   "outputs": [
    {
     "data": {
      "text/plain": [
       "array([[ 2.32017562e-01],\n",
       "       [ 4.38822031e-01],\n",
       "       [-1.36736885e-01],\n",
       "       [-2.21853435e-01],\n",
       "       [ 1.12880290e-01],\n",
       "       [-3.15940857e-01],\n",
       "       [ 2.42649242e-01],\n",
       "       [-1.26840234e-01],\n",
       "       [-3.58654350e-01],\n",
       "       [-4.87397872e-02],\n",
       "       [ 6.84618503e-02],\n",
       "       [ 7.26060271e-01],\n",
       "       [-2.59027630e-01],\n",
       "       [-5.43237571e-03],\n",
       "       [-2.93926984e-01],\n",
       "       [ 2.91165709e-01],\n",
       "       [ 2.71535784e-01],\n",
       "       [ 1.90636758e-02],\n",
       "       [ 3.74276817e-01],\n",
       "       [ 2.59276927e-01],\n",
       "       [-5.62397718e-01],\n",
       "       [-1.47705823e-01],\n",
       "       [ 5.46912491e-01],\n",
       "       [-2.03975797e-01],\n",
       "       [-7.13862404e-02],\n",
       "       [-5.93598485e-01],\n",
       "       [-2.30790526e-01],\n",
       "       [ 6.25722349e-01],\n",
       "       [ 8.41671228e-02],\n",
       "       [-2.35229805e-01],\n",
       "       [ 2.04297349e-01],\n",
       "       [-6.05720043e-01],\n",
       "       [-5.51518872e-02],\n",
       "       [ 3.28790337e-01],\n",
       "       [ 2.90098116e-02],\n",
       "       [ 4.86472845e-01],\n",
       "       [ 9.60567147e-02],\n",
       "       [ 2.77175814e-01],\n",
       "       [ 5.12900576e-02],\n",
       "       [-3.38091344e-01],\n",
       "       [-2.86418647e-01],\n",
       "       [-1.60951503e-02],\n",
       "       [ 5.14325976e-01],\n",
       "       [-8.32371265e-02],\n",
       "       [ 2.41223559e-01],\n",
       "       [ 7.10944057e-01],\n",
       "       [ 4.68267381e-01],\n",
       "       [ 4.30622011e-01],\n",
       "       [ 9.62799489e-02],\n",
       "       [ 2.27313548e-01],\n",
       "       [-5.55316210e-01],\n",
       "       [ 3.89067203e-01],\n",
       "       [-6.51636302e-01],\n",
       "       [-6.85627222e-01],\n",
       "       [ 2.15478987e-01],\n",
       "       [-2.88926452e-01],\n",
       "       [-1.98244244e-01],\n",
       "       [ 1.36966243e-01],\n",
       "       [ 5.59148729e-01],\n",
       "       [ 3.21530312e-01],\n",
       "       [-4.27003980e-01],\n",
       "       [-2.50682663e-02],\n",
       "       [ 4.23100680e-01],\n",
       "       [ 3.00461143e-01],\n",
       "       [ 6.31880999e-01],\n",
       "       [ 4.90312338e-01],\n",
       "       [-6.91519305e-02],\n",
       "       [-4.29131567e-01],\n",
       "       [ 6.52721882e-01],\n",
       "       [ 1.19406775e-01],\n",
       "       [-3.72228831e-01],\n",
       "       [ 2.84629524e-01],\n",
       "       [ 1.07088961e-01],\n",
       "       [ 2.43594274e-01],\n",
       "       [-5.84179461e-01],\n",
       "       [-1.03992552e-01],\n",
       "       [-5.27983069e-01],\n",
       "       [-2.12352216e-01],\n",
       "       [-2.26377189e-01],\n",
       "       [ 2.11485624e-01],\n",
       "       [ 1.14299104e-01],\n",
       "       [-1.29511654e-01],\n",
       "       [ 5.77667415e-01],\n",
       "       [-3.21485162e-01],\n",
       "       [-2.36801863e-01],\n",
       "       [ 4.77251321e-01],\n",
       "       [ 3.80924016e-01],\n",
       "       [ 5.19373268e-02],\n",
       "       [ 2.87120759e-01],\n",
       "       [ 3.23014446e-02],\n",
       "       [ 1.70811638e-01],\n",
       "       [ 2.47195121e-02],\n",
       "       [ 3.46645206e-01],\n",
       "       [-5.81380308e-01],\n",
       "       [-4.07649010e-01],\n",
       "       [-3.88565779e-01],\n",
       "       [-2.71137148e-01],\n",
       "       [-5.24633646e-01],\n",
       "       [ 6.36748552e-01],\n",
       "       [-2.46018365e-01],\n",
       "       [-3.27012956e-01],\n",
       "       [ 3.48176152e-01],\n",
       "       [ 4.09254730e-01],\n",
       "       [ 1.94618627e-01],\n",
       "       [ 3.43835689e-02],\n",
       "       [-4.63352025e-01],\n",
       "       [ 5.33107221e-01],\n",
       "       [ 5.60304224e-01],\n",
       "       [-1.76478550e-01],\n",
       "       [ 3.52887452e-01],\n",
       "       [ 2.27176920e-01],\n",
       "       [-2.34075755e-01],\n",
       "       [ 1.77464172e-01],\n",
       "       [ 1.21994920e-01],\n",
       "       [ 2.04502359e-01],\n",
       "       [-3.03005874e-01],\n",
       "       [ 5.30978322e-01],\n",
       "       [ 3.63741875e-01],\n",
       "       [-4.16683078e-01],\n",
       "       [ 2.38168612e-01],\n",
       "       [ 5.43202609e-02],\n",
       "       [-4.32723671e-01],\n",
       "       [ 3.66929263e-01],\n",
       "       [-3.21314216e-01],\n",
       "       [-2.87882775e-01],\n",
       "       [-1.44881323e-01],\n",
       "       [-3.62113923e-01],\n",
       "       [ 2.81809956e-01],\n",
       "       [-1.22811161e-01],\n",
       "       [ 4.44346994e-01],\n",
       "       [-3.19856763e-01],\n",
       "       [ 3.30270410e-01],\n",
       "       [-4.63884592e-01],\n",
       "       [ 2.49159828e-01],\n",
       "       [-1.16981640e-01],\n",
       "       [ 4.06541266e-02],\n",
       "       [ 4.49693322e-01],\n",
       "       [-2.28968576e-01],\n",
       "       [ 3.44925895e-02],\n",
       "       [-3.35182160e-01],\n",
       "       [ 3.58314097e-01],\n",
       "       [ 4.88554358e-01],\n",
       "       [-3.34672481e-01],\n",
       "       [-6.51979685e-01],\n",
       "       [ 3.44700515e-01],\n",
       "       [ 4.43342328e-01],\n",
       "       [ 5.18157780e-01],\n",
       "       [ 5.60417533e-01],\n",
       "       [-2.45470136e-01],\n",
       "       [-1.39000982e-01],\n",
       "       [-1.35656431e-01],\n",
       "       [ 5.91115713e-01],\n",
       "       [-3.63392651e-01],\n",
       "       [ 1.22589953e-01],\n",
       "       [-8.89206082e-02],\n",
       "       [ 4.93569285e-01],\n",
       "       [ 1.39002427e-01],\n",
       "       [ 3.74858111e-01],\n",
       "       [ 4.93019551e-01],\n",
       "       [ 2.34513745e-01],\n",
       "       [ 3.55310380e-01],\n",
       "       [ 3.79289955e-01],\n",
       "       [-3.95105183e-01],\n",
       "       [ 3.95073593e-01],\n",
       "       [ 4.14555639e-01],\n",
       "       [-2.66812444e-01],\n",
       "       [ 5.89888215e-01],\n",
       "       [ 5.21530926e-01],\n",
       "       [ 1.77763209e-01],\n",
       "       [-2.41636354e-02],\n",
       "       [ 3.92793924e-01],\n",
       "       [ 4.11115965e-04],\n",
       "       [ 4.60434258e-01],\n",
       "       [ 4.47186559e-01],\n",
       "       [ 6.40531600e-01],\n",
       "       [ 7.13095367e-01],\n",
       "       [ 4.41686034e-01],\n",
       "       [ 4.05547887e-01],\n",
       "       [-8.09321031e-02],\n",
       "       [ 3.18904608e-01],\n",
       "       [-5.81544280e-01],\n",
       "       [-2.73113679e-02],\n",
       "       [ 4.42604661e-01],\n",
       "       [ 8.26881155e-02],\n",
       "       [-2.02254504e-01],\n",
       "       [ 1.76659614e-01],\n",
       "       [-2.04372272e-01],\n",
       "       [-3.28705549e-01],\n",
       "       [ 8.31582490e-03],\n",
       "       [-1.30658045e-01],\n",
       "       [ 2.86354393e-01],\n",
       "       [-1.84845030e-01],\n",
       "       [ 4.50033575e-01],\n",
       "       [ 3.50961357e-01],\n",
       "       [-6.78235829e-01],\n",
       "       [ 3.12728852e-01],\n",
       "       [-3.45212251e-01],\n",
       "       [ 1.97100371e-01],\n",
       "       [ 2.12981597e-01],\n",
       "       [ 4.06457841e-01],\n",
       "       [ 5.03144383e-01],\n",
       "       [ 5.61836213e-02],\n",
       "       [-4.95252818e-01],\n",
       "       [ 5.06814897e-01],\n",
       "       [-5.82114100e-01],\n",
       "       [-4.42528456e-01],\n",
       "       [ 2.57066816e-01],\n",
       "       [-6.22294903e-01],\n",
       "       [-1.64411932e-01],\n",
       "       [ 1.45695910e-01],\n",
       "       [-5.63368201e-01],\n",
       "       [ 5.33978522e-01],\n",
       "       [ 4.78460528e-02],\n",
       "       [-8.26041326e-02],\n",
       "       [ 3.22964907e-01],\n",
       "       [-5.84555805e-01],\n",
       "       [-1.86674431e-01],\n",
       "       [ 5.26204586e-01],\n",
       "       [-6.11249469e-02],\n",
       "       [-4.23839726e-02],\n",
       "       [-2.67504454e-01],\n",
       "       [ 3.85285586e-01],\n",
       "       [ 5.46549201e-01],\n",
       "       [ 5.75208545e-01],\n",
       "       [ 1.23074166e-02],\n",
       "       [ 2.04991460e-01],\n",
       "       [-1.98762640e-01],\n",
       "       [-6.98343515e-01],\n",
       "       [-5.06359994e-01],\n",
       "       [ 8.00000802e-02],\n",
       "       [ 1.69307068e-01],\n",
       "       [ 4.17523563e-01],\n",
       "       [-3.12284380e-01],\n",
       "       [-4.45823789e-01],\n",
       "       [ 4.91020501e-01],\n",
       "       [ 2.25214679e-02],\n",
       "       [ 2.44125053e-01],\n",
       "       [-6.82747483e-01],\n",
       "       [ 5.74343741e-01],\n",
       "       [ 3.48330766e-01],\n",
       "       [ 5.71040571e-01],\n",
       "       [-3.51721078e-01],\n",
       "       [ 3.35704833e-01],\n",
       "       [-3.29638124e-01],\n",
       "       [-4.70672876e-01],\n",
       "       [ 1.64712548e-01],\n",
       "       [-3.75997454e-01],\n",
       "       [ 4.34268594e-01],\n",
       "       [-4.30227220e-01],\n",
       "       [-2.72491395e-01],\n",
       "       [ 1.65510625e-01],\n",
       "       [ 5.27389705e-01],\n",
       "       [-2.30989680e-01],\n",
       "       [-6.15962207e-01],\n",
       "       [ 7.32841715e-02],\n",
       "       [ 2.26792410e-01],\n",
       "       [-5.74972749e-01],\n",
       "       [ 4.03757006e-01],\n",
       "       [ 4.13309634e-01],\n",
       "       [-5.84338188e-01],\n",
       "       [ 3.52155924e-01],\n",
       "       [-1.74521446e-01],\n",
       "       [-7.21149027e-01],\n",
       "       [-2.72355974e-01],\n",
       "       [-4.95378971e-01],\n",
       "       [-3.11604202e-01],\n",
       "       [ 4.54477966e-01],\n",
       "       [ 3.66401076e-01],\n",
       "       [ 3.56858760e-01],\n",
       "       [-7.13399708e-01],\n",
       "       [ 2.63800591e-01],\n",
       "       [ 1.57272786e-01],\n",
       "       [ 3.39170992e-01],\n",
       "       [ 4.23602343e-01],\n",
       "       [-3.71839225e-01],\n",
       "       [-2.50922769e-01],\n",
       "       [ 4.83038276e-01],\n",
       "       [-1.20052695e-01],\n",
       "       [-3.19276929e-01],\n",
       "       [ 9.52745974e-02],\n",
       "       [-4.78344768e-01],\n",
       "       [ 3.40327919e-01],\n",
       "       [-3.43234599e-01],\n",
       "       [ 3.08792830e-01],\n",
       "       [-3.28804493e-01],\n",
       "       [ 1.06547862e-01],\n",
       "       [ 9.34547633e-02],\n",
       "       [-5.19927666e-02],\n",
       "       [-2.62165815e-01],\n",
       "       [-3.09925616e-01],\n",
       "       [ 6.33786142e-01],\n",
       "       [ 2.41723835e-01],\n",
       "       [-6.72439560e-02],\n",
       "       [ 4.18347776e-01],\n",
       "       [ 5.23348868e-01],\n",
       "       [ 7.51765594e-02],\n",
       "       [-2.90095024e-02],\n",
       "       [ 3.10635686e-01],\n",
       "       [ 2.39840448e-01],\n",
       "       [ 3.38335007e-01],\n",
       "       [-3.01159974e-02],\n",
       "       [ 3.49199772e-01],\n",
       "       [ 5.08952141e-01],\n",
       "       [-1.88334044e-02],\n",
       "       [ 6.84615672e-01],\n",
       "       [-5.94381690e-01],\n",
       "       [ 2.78636158e-01],\n",
       "       [-4.19155449e-01],\n",
       "       [ 7.21897721e-01],\n",
       "       [ 5.66684783e-01],\n",
       "       [-4.48289126e-01],\n",
       "       [ 3.64021152e-01],\n",
       "       [-2.59334832e-01],\n",
       "       [-2.44770482e-01],\n",
       "       [-2.74787277e-01],\n",
       "       [ 4.24981356e-01],\n",
       "       [-1.64584756e-01],\n",
       "       [-4.29868251e-01],\n",
       "       [-4.42410707e-01],\n",
       "       [ 3.48563880e-01],\n",
       "       [ 3.35099876e-01],\n",
       "       [-2.17032842e-02],\n",
       "       [ 3.66412491e-01],\n",
       "       [ 1.17855954e-04],\n",
       "       [ 3.79978359e-01],\n",
       "       [-1.93392605e-01],\n",
       "       [-1.49978027e-01],\n",
       "       [-5.98172247e-01],\n",
       "       [ 5.66399097e-01],\n",
       "       [ 4.41889435e-01],\n",
       "       [-1.39172394e-02],\n",
       "       [-4.18909460e-01],\n",
       "       [ 5.83650880e-02],\n",
       "       [-3.36130768e-01],\n",
       "       [ 5.97516179e-01],\n",
       "       [-3.75114411e-01],\n",
       "       [ 5.22752523e-01],\n",
       "       [-4.12051320e-01],\n",
       "       [-4.66169566e-01],\n",
       "       [ 2.83374470e-02],\n",
       "       [ 2.66346633e-01],\n",
       "       [-4.55317795e-01],\n",
       "       [-2.93248892e-01],\n",
       "       [ 1.57763869e-01],\n",
       "       [ 1.59500808e-01],\n",
       "       [-3.17490250e-01],\n",
       "       [ 6.33205473e-01],\n",
       "       [ 5.46759106e-02],\n",
       "       [-6.58197403e-01],\n",
       "       [ 3.39935645e-02],\n",
       "       [-5.01371205e-01],\n",
       "       [-6.44976318e-01],\n",
       "       [ 2.85149693e-01],\n",
       "       [ 3.84162664e-01],\n",
       "       [ 4.74220693e-01],\n",
       "       [ 1.64639637e-01],\n",
       "       [ 6.22065783e-01],\n",
       "       [-5.87181747e-02],\n",
       "       [ 3.48921150e-01],\n",
       "       [-2.51981586e-01],\n",
       "       [-4.29589957e-01],\n",
       "       [ 7.28102848e-02],\n",
       "       [-2.70212680e-01],\n",
       "       [-2.17256784e-01],\n",
       "       [ 1.13373570e-01],\n",
       "       [ 5.51335871e-01],\n",
       "       [-1.82536066e-01],\n",
       "       [ 6.38378635e-02],\n",
       "       [-6.10143304e-01],\n",
       "       [ 3.37765574e-01],\n",
       "       [-6.70072973e-01],\n",
       "       [ 2.92712927e-01],\n",
       "       [-3.55888903e-01],\n",
       "       [ 2.99999923e-01],\n",
       "       [-3.00626665e-01],\n",
       "       [ 3.64559054e-01],\n",
       "       [ 5.92893839e-01],\n",
       "       [-4.87289168e-02],\n",
       "       [-5.15012741e-02],\n",
       "       [-6.35539042e-03],\n",
       "       [-4.55995381e-01],\n",
       "       [ 2.20114201e-01],\n",
       "       [ 1.53695926e-01],\n",
       "       [ 4.61770296e-01],\n",
       "       [ 2.20576331e-01],\n",
       "       [ 4.09086764e-01],\n",
       "       [ 6.49647117e-01],\n",
       "       [-4.65236217e-01],\n",
       "       [ 3.14953715e-01],\n",
       "       [-3.99411976e-01],\n",
       "       [-2.21268490e-01],\n",
       "       [-3.06062400e-01],\n",
       "       [ 1.02471434e-01],\n",
       "       [-7.13222921e-01],\n",
       "       [ 4.89413589e-01],\n",
       "       [ 5.76996692e-02],\n",
       "       [-5.75837195e-01],\n",
       "       [-2.86888897e-01],\n",
       "       [-2.66599357e-01],\n",
       "       [ 1.02069907e-01],\n",
       "       [ 4.40121174e-01],\n",
       "       [ 1.93572238e-01],\n",
       "       [ 3.17506939e-01],\n",
       "       [ 2.44970202e-01],\n",
       "       [ 2.14856178e-01],\n",
       "       [-2.93784916e-01],\n",
       "       [ 4.38116908e-01],\n",
       "       [ 2.85096079e-01],\n",
       "       [-5.15636027e-01],\n",
       "       [ 2.83974528e-01],\n",
       "       [-2.02405125e-01],\n",
       "       [-5.96145749e-01],\n",
       "       [-7.85183981e-02],\n",
       "       [ 3.08357626e-01],\n",
       "       [-1.99661866e-01],\n",
       "       [ 6.96832314e-02],\n",
       "       [ 1.23386614e-01],\n",
       "       [ 4.11375239e-02],\n",
       "       [ 6.06910661e-02],\n",
       "       [ 1.71895940e-02],\n",
       "       [ 7.46398121e-02],\n",
       "       [ 2.51868162e-02],\n",
       "       [-4.73377168e-01],\n",
       "       [-5.37307084e-01],\n",
       "       [ 3.54203194e-01],\n",
       "       [-1.58131883e-01],\n",
       "       [ 5.88830650e-01],\n",
       "       [-2.44163767e-01],\n",
       "       [-6.81856632e-01],\n",
       "       [-3.13905060e-01],\n",
       "       [ 4.46929067e-01],\n",
       "       [-3.90645623e-01],\n",
       "       [ 3.69932383e-01],\n",
       "       [-3.73169661e-01],\n",
       "       [ 3.09985131e-01],\n",
       "       [ 1.26247704e-01],\n",
       "       [-2.73792267e-01],\n",
       "       [-6.30669475e-01],\n",
       "       [-1.33289322e-01],\n",
       "       [ 2.26343777e-02],\n",
       "       [ 2.94041514e-01],\n",
       "       [-4.42738324e-01],\n",
       "       [ 3.32480930e-02],\n",
       "       [-7.06192926e-02],\n",
       "       [ 4.06680435e-01],\n",
       "       [ 2.14834395e-03],\n",
       "       [ 4.95655149e-01],\n",
       "       [ 2.89110929e-01],\n",
       "       [-2.96423256e-01],\n",
       "       [ 2.20017537e-01],\n",
       "       [-4.00252938e-01],\n",
       "       [-2.86263824e-01],\n",
       "       [ 2.14028597e-01],\n",
       "       [-2.41696581e-01],\n",
       "       [ 3.50897126e-02],\n",
       "       [-1.69734538e-01],\n",
       "       [ 2.92110980e-01],\n",
       "       [-7.42115360e-03],\n",
       "       [ 4.93124664e-01],\n",
       "       [ 1.83366448e-01],\n",
       "       [ 4.27543297e-02],\n",
       "       [-1.29597574e-01],\n",
       "       [ 2.32119694e-01],\n",
       "       [-6.84294224e-01],\n",
       "       [-1.76960200e-01],\n",
       "       [-6.51846468e-01],\n",
       "       [-3.35422397e-01],\n",
       "       [-3.90809923e-01],\n",
       "       [ 6.01723611e-01],\n",
       "       [-2.99894631e-01],\n",
       "       [ 2.35124961e-01],\n",
       "       [-4.41041589e-01],\n",
       "       [-1.32408356e-02],\n",
       "       [ 2.01303884e-01],\n",
       "       [-4.94236171e-01],\n",
       "       [-4.11083847e-01],\n",
       "       [ 1.46632001e-01],\n",
       "       [-2.46931195e-01],\n",
       "       [ 2.91460574e-01],\n",
       "       [ 3.23053151e-01],\n",
       "       [ 1.30488634e-01],\n",
       "       [ 4.32183474e-01],\n",
       "       [ 4.97632712e-01],\n",
       "       [ 2.51914412e-01],\n",
       "       [ 1.58612147e-01],\n",
       "       [ 6.10693872e-01],\n",
       "       [ 3.64992678e-01],\n",
       "       [ 1.27755150e-01],\n",
       "       [ 2.29736701e-01],\n",
       "       [-3.71299684e-01],\n",
       "       [ 1.48426294e-01],\n",
       "       [-4.38694566e-01],\n",
       "       [ 5.47795653e-01],\n",
       "       [-4.02953237e-01],\n",
       "       [ 9.84948799e-02],\n",
       "       [ 4.50002521e-01],\n",
       "       [-3.53941530e-01],\n",
       "       [-3.09676170e-01],\n",
       "       [-4.06869017e-02],\n",
       "       [-2.76481032e-01],\n",
       "       [ 1.75689533e-01],\n",
       "       [ 1.55666918e-01],\n",
       "       [-4.29858029e-01],\n",
       "       [ 2.45997772e-01],\n",
       "       [-4.41241056e-01],\n",
       "       [ 1.25241891e-01],\n",
       "       [-3.63354027e-01],\n",
       "       [-4.25961316e-01],\n",
       "       [-3.55786979e-01],\n",
       "       [-4.12431657e-01],\n",
       "       [ 3.28959316e-01],\n",
       "       [ 4.32533503e-01],\n",
       "       [-2.10347041e-01],\n",
       "       [-2.33331919e-01],\n",
       "       [-5.11814892e-01],\n",
       "       [-5.11091314e-02],\n",
       "       [ 2.94232041e-01],\n",
       "       [-6.24890812e-02],\n",
       "       [ 2.77533859e-01],\n",
       "       [-6.88383102e-01],\n",
       "       [ 3.74451578e-02],\n",
       "       [-5.49096838e-02],\n",
       "       [ 3.44061941e-01],\n",
       "       [ 5.65158248e-01],\n",
       "       [-2.83888966e-01],\n",
       "       [-3.57031100e-03],\n",
       "       [-3.20588231e-01],\n",
       "       [ 1.10048905e-01],\n",
       "       [ 4.57691222e-01],\n",
       "       [-4.15193886e-01],\n",
       "       [-2.34634459e-01],\n",
       "       [ 4.94802058e-01],\n",
       "       [-2.84500033e-01],\n",
       "       [ 5.60448468e-01],\n",
       "       [ 2.83861905e-01],\n",
       "       [ 3.35180730e-01],\n",
       "       [-1.64687932e-01],\n",
       "       [-4.80579138e-01],\n",
       "       [-4.79870945e-01],\n",
       "       [-5.61977088e-01],\n",
       "       [-4.83005583e-01],\n",
       "       [-2.92504996e-01],\n",
       "       [ 9.43419635e-02],\n",
       "       [-1.31628722e-01],\n",
       "       [ 5.34977997e-03],\n",
       "       [ 6.87101483e-01],\n",
       "       [-1.06109448e-01],\n",
       "       [-2.50329465e-01],\n",
       "       [ 4.25377280e-01],\n",
       "       [ 9.60505009e-02],\n",
       "       [-4.63276774e-01],\n",
       "       [ 3.30724925e-01],\n",
       "       [ 2.53097028e-01],\n",
       "       [-3.00231278e-01],\n",
       "       [-2.24007368e-02],\n",
       "       [ 3.12875539e-01],\n",
       "       [-2.13245511e-01],\n",
       "       [-4.36678797e-01],\n",
       "       [ 1.42846778e-02],\n",
       "       [ 5.11317074e-01],\n",
       "       [-4.04682934e-01],\n",
       "       [ 3.27574879e-01],\n",
       "       [ 1.14620671e-01],\n",
       "       [ 2.03230828e-01],\n",
       "       [-2.95627296e-01],\n",
       "       [ 6.18713081e-01],\n",
       "       [ 6.42429829e-01],\n",
       "       [-8.40565711e-02],\n",
       "       [-1.74137563e-01],\n",
       "       [ 3.25767308e-01],\n",
       "       [-2.21813351e-01],\n",
       "       [-3.87558788e-01],\n",
       "       [-7.24622682e-02],\n",
       "       [-2.06403241e-01],\n",
       "       [-2.91467994e-01],\n",
       "       [ 2.16899171e-01],\n",
       "       [-3.23387891e-01],\n",
       "       [ 3.53213459e-01],\n",
       "       [-6.13293462e-02],\n",
       "       [ 1.37296440e-02],\n",
       "       [ 5.93146861e-01],\n",
       "       [-5.51002383e-01],\n",
       "       [ 3.37207526e-01],\n",
       "       [-3.67406070e-01],\n",
       "       [ 5.75496852e-01],\n",
       "       [ 5.92911303e-01],\n",
       "       [ 7.00765193e-01],\n",
       "       [-1.33105457e-01],\n",
       "       [-7.18890503e-02],\n",
       "       [ 1.32562295e-01],\n",
       "       [-5.68574190e-01],\n",
       "       [ 3.92263591e-01],\n",
       "       [-2.67908692e-01],\n",
       "       [ 5.37854075e-01],\n",
       "       [-3.62019897e-01],\n",
       "       [ 3.05919468e-01],\n",
       "       [ 2.79217243e-01],\n",
       "       [-3.92516479e-02],\n",
       "       [-5.94759583e-01],\n",
       "       [ 5.56633592e-01],\n",
       "       [ 3.47192228e-01],\n",
       "       [ 3.05349767e-01],\n",
       "       [-1.97923616e-01],\n",
       "       [-3.64105910e-01],\n",
       "       [-2.60197282e-01],\n",
       "       [-1.51088918e-02],\n",
       "       [ 8.61901864e-02],\n",
       "       [ 6.47666216e-01],\n",
       "       [-1.60066739e-01],\n",
       "       [-2.70038396e-01],\n",
       "       [ 3.90780777e-01],\n",
       "       [ 5.77641249e-01],\n",
       "       [-5.77896416e-01],\n",
       "       [-4.46186781e-01],\n",
       "       [ 4.02248472e-01],\n",
       "       [ 2.23703738e-02],\n",
       "       [ 7.03805387e-01],\n",
       "       [-1.80800855e-01],\n",
       "       [ 1.24925273e-02],\n",
       "       [ 5.88172257e-01],\n",
       "       [ 1.52022332e-01],\n",
       "       [ 6.92088544e-01],\n",
       "       [ 2.92780489e-01],\n",
       "       [-1.66244775e-01],\n",
       "       [ 2.90054440e-01],\n",
       "       [-4.59330797e-01],\n",
       "       [-1.88912734e-01],\n",
       "       [ 1.40550584e-01],\n",
       "       [-6.17470324e-01],\n",
       "       [ 4.23378766e-01],\n",
       "       [-2.75180370e-01],\n",
       "       [ 4.41797614e-01],\n",
       "       [ 8.64150077e-02],\n",
       "       [ 7.45402798e-02],\n",
       "       [ 7.03378677e-01],\n",
       "       [-2.35538274e-01],\n",
       "       [ 5.16445518e-01],\n",
       "       [-7.63757899e-02],\n",
       "       [-6.05878174e-01],\n",
       "       [ 5.08166850e-01],\n",
       "       [-2.96056479e-01],\n",
       "       [ 5.73744416e-01],\n",
       "       [-2.42226034e-01],\n",
       "       [ 7.14161918e-02],\n",
       "       [-4.07632023e-01],\n",
       "       [ 4.90009487e-01],\n",
       "       [ 1.87041909e-01],\n",
       "       [ 6.77958906e-01],\n",
       "       [-2.06275240e-01],\n",
       "       [-3.56166065e-01],\n",
       "       [ 4.27983612e-01],\n",
       "       [-3.40717226e-01],\n",
       "       [ 4.30212080e-01],\n",
       "       [-2.73275137e-01],\n",
       "       [-6.59301460e-01],\n",
       "       [-4.59868103e-01],\n",
       "       [-3.84211272e-01],\n",
       "       [ 2.51820654e-01],\n",
       "       [ 4.93025482e-01],\n",
       "       [-3.60947251e-01],\n",
       "       [ 3.41921300e-01],\n",
       "       [ 4.18741226e-01],\n",
       "       [-1.19515575e-01],\n",
       "       [ 7.14516997e-01],\n",
       "       [ 7.02653080e-02],\n",
       "       [ 4.16029364e-01],\n",
       "       [-5.88864565e-01],\n",
       "       [ 5.80719352e-01],\n",
       "       [ 3.20649117e-01],\n",
       "       [-5.97694159e-01],\n",
       "       [ 4.58424658e-01],\n",
       "       [ 2.81250954e-01],\n",
       "       [-3.03341150e-01],\n",
       "       [ 3.05544317e-01],\n",
       "       [-4.54179108e-01],\n",
       "       [-2.78605342e-01],\n",
       "       [ 6.70515537e-01],\n",
       "       [ 4.93292779e-01],\n",
       "       [-5.39250076e-01],\n",
       "       [ 2.91844517e-01],\n",
       "       [ 3.79886001e-01],\n",
       "       [ 6.33351564e-01],\n",
       "       [-3.20791215e-01],\n",
       "       [ 3.68096352e-01],\n",
       "       [ 3.72388601e-01],\n",
       "       [-6.16691671e-02],\n",
       "       [ 6.76822960e-01],\n",
       "       [ 2.74973869e-01],\n",
       "       [ 5.84450066e-01],\n",
       "       [-3.19236815e-01],\n",
       "       [ 2.90969133e-01],\n",
       "       [ 3.93123806e-01],\n",
       "       [-3.88449878e-01],\n",
       "       [ 5.23916304e-01],\n",
       "       [ 3.08365941e-01],\n",
       "       [ 1.08295046e-01],\n",
       "       [ 1.92812502e-01],\n",
       "       [ 5.72256029e-01],\n",
       "       [ 5.63948870e-01],\n",
       "       [ 5.80764472e-01],\n",
       "       [-3.06139797e-01],\n",
       "       [-6.65824533e-01],\n",
       "       [ 4.42159086e-01],\n",
       "       [-6.63610518e-01],\n",
       "       [ 3.18094641e-01],\n",
       "       [ 4.15886611e-01],\n",
       "       [ 1.31268188e-01],\n",
       "       [ 5.22709429e-01],\n",
       "       [ 5.79793215e-01],\n",
       "       [-1.36309400e-01],\n",
       "       [ 1.34765610e-01],\n",
       "       [-2.66270518e-01],\n",
       "       [ 6.41254425e-01],\n",
       "       [ 4.29704309e-01],\n",
       "       [ 1.55594960e-01],\n",
       "       [-4.48523670e-01],\n",
       "       [-4.84740496e-01],\n",
       "       [-1.97184592e-01],\n",
       "       [ 5.55906892e-01],\n",
       "       [ 2.17946172e-01],\n",
       "       [ 3.42129797e-01],\n",
       "       [ 3.54473740e-01],\n",
       "       [-2.79482424e-01],\n",
       "       [-3.39894384e-01],\n",
       "       [-5.98202944e-01],\n",
       "       [ 6.22962952e-01],\n",
       "       [-3.01796734e-01],\n",
       "       [ 4.74331230e-01],\n",
       "       [ 3.09578627e-01],\n",
       "       [-2.49265015e-01],\n",
       "       [-3.48488510e-01],\n",
       "       [-3.80752534e-01],\n",
       "       [ 6.37091577e-01],\n",
       "       [-2.38295540e-01],\n",
       "       [-6.88657045e-01],\n",
       "       [ 4.88166541e-01],\n",
       "       [ 8.75325799e-02],\n",
       "       [ 6.60785437e-01],\n",
       "       [ 4.29142863e-01],\n",
       "       [ 9.72590968e-02],\n",
       "       [ 2.77412593e-01],\n",
       "       [-1.47471977e-02],\n",
       "       [ 3.58400315e-01],\n",
       "       [ 2.65540957e-01],\n",
       "       [ 2.51371235e-01],\n",
       "       [ 1.59003228e-01],\n",
       "       [ 1.84401065e-01],\n",
       "       [-3.30298990e-01],\n",
       "       [-5.54254949e-01],\n",
       "       [-6.52827621e-01],\n",
       "       [ 2.53347725e-01],\n",
       "       [ 4.93628323e-01],\n",
       "       [ 2.40925238e-01],\n",
       "       [-1.41996130e-01],\n",
       "       [-2.35154852e-01],\n",
       "       [-6.92325950e-01],\n",
       "       [-3.49788308e-01],\n",
       "       [-6.58514559e-01],\n",
       "       [-4.05384064e-01],\n",
       "       [ 3.75335693e-01],\n",
       "       [-1.33826017e-01],\n",
       "       [ 3.91443074e-01],\n",
       "       [ 5.54667473e-01],\n",
       "       [-6.52989149e-01],\n",
       "       [-5.55074453e-01],\n",
       "       [-3.27499360e-01],\n",
       "       [ 3.06074351e-01],\n",
       "       [-4.76694584e-01],\n",
       "       [-1.42548844e-01],\n",
       "       [ 1.68607429e-01],\n",
       "       [-5.89434505e-01],\n",
       "       [-2.36577898e-01],\n",
       "       [-5.76296262e-03],\n",
       "       [-2.02268213e-01],\n",
       "       [-1.15481749e-01],\n",
       "       [ 3.31947058e-01],\n",
       "       [-8.67411569e-02],\n",
       "       [-6.34904385e-01],\n",
       "       [ 4.53716159e-01],\n",
       "       [-1.17308080e-01],\n",
       "       [ 1.74549460e-01],\n",
       "       [-9.03142765e-02],\n",
       "       [ 6.87100291e-01],\n",
       "       [ 1.96340680e-01],\n",
       "       [-5.45400262e-01],\n",
       "       [ 2.23644152e-01],\n",
       "       [ 3.48989606e-01],\n",
       "       [ 2.22712860e-01],\n",
       "       [-4.13936228e-01],\n",
       "       [-3.73903573e-01],\n",
       "       [-4.90880579e-01],\n",
       "       [-6.36286259e-01],\n",
       "       [ 4.27024394e-01],\n",
       "       [ 6.45772219e-02],\n",
       "       [-3.28522623e-01],\n",
       "       [ 1.43437847e-01],\n",
       "       [-3.46858501e-02],\n",
       "       [ 2.50566274e-01],\n",
       "       [ 5.52444935e-01],\n",
       "       [ 8.15742388e-02],\n",
       "       [ 3.00837785e-01],\n",
       "       [ 5.89367896e-02],\n",
       "       [ 2.94149578e-01],\n",
       "       [ 5.17007530e-01],\n",
       "       [ 5.67713147e-03],\n",
       "       [-1.92618713e-01],\n",
       "       [ 3.20955187e-01],\n",
       "       [ 1.85513094e-01],\n",
       "       [-2.31425911e-01],\n",
       "       [ 4.94625196e-02],\n",
       "       [-4.22803648e-02],\n",
       "       [-4.92404103e-01],\n",
       "       [ 2.22105920e-01],\n",
       "       [ 2.60938462e-02],\n",
       "       [ 4.60789949e-02],\n",
       "       [-1.50939703e-01],\n",
       "       [ 2.91160107e-01],\n",
       "       [ 4.14647192e-01],\n",
       "       [ 4.84604508e-01],\n",
       "       [-1.84909299e-01],\n",
       "       [ 2.71899432e-01],\n",
       "       [ 5.75988591e-01],\n",
       "       [ 6.03645205e-01],\n",
       "       [ 4.33818996e-01],\n",
       "       [-2.69361645e-01],\n",
       "       [ 1.59627199e-01],\n",
       "       [ 3.09112787e-01],\n",
       "       [ 6.35525107e-01],\n",
       "       [-1.42948106e-01],\n",
       "       [-3.13882679e-01],\n",
       "       [ 5.02304971e-01],\n",
       "       [-2.35535935e-01],\n",
       "       [-4.01509047e-01],\n",
       "       [ 1.17176451e-01],\n",
       "       [-4.71814185e-01],\n",
       "       [-4.13927585e-01],\n",
       "       [ 3.28030944e-01],\n",
       "       [ 4.08953249e-01],\n",
       "       [ 1.89282492e-01],\n",
       "       [-5.57673573e-02],\n",
       "       [-7.40681440e-02],\n",
       "       [ 2.27641106e-01],\n",
       "       [-2.26068068e-02],\n",
       "       [ 1.75903872e-01],\n",
       "       [-6.42365038e-01],\n",
       "       [-3.52542587e-02],\n",
       "       [ 4.11310524e-01],\n",
       "       [ 1.10957855e-02],\n",
       "       [ 6.09076805e-02],\n",
       "       [-1.42837569e-01],\n",
       "       [-5.10776639e-01],\n",
       "       [ 2.03706443e-01],\n",
       "       [-4.26952660e-01],\n",
       "       [-5.81516623e-01],\n",
       "       [ 2.25879580e-01],\n",
       "       [ 5.82959950e-01],\n",
       "       [-5.50654769e-01],\n",
       "       [-5.19328862e-02],\n",
       "       [ 3.29206020e-01],\n",
       "       [ 1.17186410e-02],\n",
       "       [-5.61022222e-01],\n",
       "       [ 7.14689434e-01],\n",
       "       [ 3.51320505e-01],\n",
       "       [ 3.35429698e-01],\n",
       "       [ 4.14039850e-01],\n",
       "       [ 5.84946811e-01],\n",
       "       [ 3.36487383e-01],\n",
       "       [ 6.08095191e-02],\n",
       "       [-1.39685020e-01],\n",
       "       [-1.36104211e-01],\n",
       "       [ 4.50394973e-02],\n",
       "       [ 6.95329785e-01],\n",
       "       [-1.41485751e-01],\n",
       "       [ 2.59938866e-01],\n",
       "       [-6.70004308e-01],\n",
       "       [-5.26735961e-01],\n",
       "       [ 4.70156789e-01],\n",
       "       [-2.42648289e-01],\n",
       "       [ 8.16932619e-02],\n",
       "       [ 5.35694003e-01],\n",
       "       [ 3.43641311e-01],\n",
       "       [ 4.15059365e-02],\n",
       "       [ 4.19570565e-01],\n",
       "       [-4.25347649e-02],\n",
       "       [-3.25747192e-01],\n",
       "       [-8.74890909e-02],\n",
       "       [ 2.99418181e-01],\n",
       "       [ 4.40415919e-01],\n",
       "       [ 6.88472569e-01],\n",
       "       [-3.06735069e-01],\n",
       "       [-5.15854657e-01],\n",
       "       [-5.05075157e-01],\n",
       "       [ 6.72116697e-01],\n",
       "       [ 1.19517026e-02],\n",
       "       [-6.36170924e-01],\n",
       "       [ 6.21077232e-02],\n",
       "       [ 5.31677566e-02],\n",
       "       [-2.34603837e-01],\n",
       "       [-6.86187387e-01],\n",
       "       [ 2.06336081e-02],\n",
       "       [-3.19701344e-01],\n",
       "       [-7.33507425e-02],\n",
       "       [-4.01171386e-01],\n",
       "       [ 2.10440174e-01],\n",
       "       [-2.79996786e-02],\n",
       "       [ 3.74703825e-01],\n",
       "       [ 1.63633913e-01],\n",
       "       [ 6.92214727e-01],\n",
       "       [ 8.36743191e-02],\n",
       "       [-6.00008726e-01],\n",
       "       [ 4.39227343e-01],\n",
       "       [ 4.31280911e-01],\n",
       "       [-5.04132211e-01],\n",
       "       [-4.65628743e-01],\n",
       "       [-5.26606560e-01],\n",
       "       [ 2.73931742e-01],\n",
       "       [ 3.08023155e-01],\n",
       "       [ 3.20328623e-01],\n",
       "       [-1.05559066e-01],\n",
       "       [-7.17689563e-03],\n",
       "       [-4.05272394e-01],\n",
       "       [ 6.03138745e-01],\n",
       "       [-6.89464331e-01],\n",
       "       [-4.96253878e-01],\n",
       "       [ 3.85616630e-01],\n",
       "       [ 2.25603476e-01],\n",
       "       [ 3.75432402e-01],\n",
       "       [ 3.22657883e-01],\n",
       "       [-3.07186216e-01],\n",
       "       [-3.24154198e-02],\n",
       "       [-6.46559358e-01],\n",
       "       [ 7.16074526e-01],\n",
       "       [-1.52806729e-01],\n",
       "       [ 4.28037226e-01],\n",
       "       [-5.76995552e-01],\n",
       "       [ 4.13348824e-01],\n",
       "       [ 6.22528493e-01],\n",
       "       [-4.40538049e-01],\n",
       "       [-2.37605646e-01],\n",
       "       [ 2.17950776e-01],\n",
       "       [-2.82711923e-01],\n",
       "       [-1.36652607e-02],\n",
       "       [-4.98145312e-01],\n",
       "       [-5.63468449e-02],\n",
       "       [ 3.07919234e-01],\n",
       "       [ 3.07012230e-01],\n",
       "       [ 6.03153527e-01],\n",
       "       [ 4.06578034e-01],\n",
       "       [ 3.99479210e-01],\n",
       "       [-4.98662114e-01],\n",
       "       [ 4.49025929e-02],\n",
       "       [ 4.04703736e-01],\n",
       "       [-5.78586340e-01],\n",
       "       [ 1.41130894e-01],\n",
       "       [-7.66674876e-02],\n",
       "       [ 1.01478837e-01],\n",
       "       [ 1.52266592e-01],\n",
       "       [ 1.65598318e-01],\n",
       "       [ 5.37867188e-01],\n",
       "       [-3.44509333e-01],\n",
       "       [ 2.44972840e-01],\n",
       "       [ 6.98702633e-01],\n",
       "       [ 1.57213330e-01],\n",
       "       [ 3.07774246e-01],\n",
       "       [ 1.99769258e-01],\n",
       "       [ 3.32876384e-01],\n",
       "       [ 3.32049280e-01],\n",
       "       [ 5.34563959e-01],\n",
       "       [ 3.08386743e-01],\n",
       "       [ 4.09022897e-01],\n",
       "       [-5.60834765e-01],\n",
       "       [ 5.86167514e-01],\n",
       "       [ 2.26558805e-01],\n",
       "       [ 1.68752313e-01],\n",
       "       [ 4.25175756e-01],\n",
       "       [-4.38959181e-01],\n",
       "       [-1.01687036e-01],\n",
       "       [-2.58010745e-01],\n",
       "       [-3.93579334e-01],\n",
       "       [-3.53859574e-01],\n",
       "       [-3.41825992e-01],\n",
       "       [ 5.92279971e-01],\n",
       "       [ 3.10335577e-01],\n",
       "       [ 3.19276035e-01],\n",
       "       [ 4.60228063e-02],\n",
       "       [-4.46161598e-01],\n",
       "       [ 3.82290483e-01],\n",
       "       [-1.34538472e-01],\n",
       "       [ 6.05850756e-01],\n",
       "       [-3.20417881e-01],\n",
       "       [ 5.39731026e-01],\n",
       "       [-4.23206061e-01],\n",
       "       [-4.55469012e-01],\n",
       "       [-6.79937482e-01],\n",
       "       [-3.80212873e-01],\n",
       "       [ 5.10234654e-01],\n",
       "       [ 1.46650091e-01],\n",
       "       [ 9.88693163e-02],\n",
       "       [ 1.45305023e-01],\n",
       "       [ 3.05969596e-01]], dtype=float32)"
      ]
     },
     "execution_count": 15,
     "metadata": {},
     "output_type": "execute_result"
    }
   ],
   "source": [
    "y_test"
   ]
  },
  {
   "cell_type": "code",
   "execution_count": 29,
   "id": "460624a2-c131-4a62-80cf-abcdcbd3b615",
   "metadata": {},
   "outputs": [
    {
     "data": {
      "text/plain": [
       "array([-0.13673688], dtype=float32)"
      ]
     },
     "execution_count": 29,
     "metadata": {},
     "output_type": "execute_result"
    }
   ],
   "source": [
    "y_test[2]"
   ]
  },
  {
   "cell_type": "markdown",
   "id": "109a3172-70f6-4798-b7aa-6399d6684974",
   "metadata": {},
   "source": [
    "## Defining the model"
   ]
  },
  {
   "cell_type": "code",
   "execution_count": 149,
   "id": "31ccc2d9-0703-4cd1-9fc2-cfbf7cfaf6e6",
   "metadata": {},
   "outputs": [],
   "source": [
    "# W e do not need to specify the length of the input sequence since RNNs can process any number of time steps. They also use Tanh by default\n",
    "\n",
    "model = Sequential([\n",
    "    keras.layers.SimpleRNN(20, return_sequences = True, input_shape = [None, 1]), #to output 3D array (containing outputs for all time steps, include return_sequences=True)\n",
    "    keras.layers.SimpleRNN(10),\n",
    "    keras.layers.Dense(1)\n",
    "])"
   ]
  },
  {
   "cell_type": "markdown",
   "id": "03b75de5-daa9-49f3-b7fc-a94e699fdc2c",
   "metadata": {},
   "source": [
    "## compile and fit"
   ]
  },
  {
   "cell_type": "code",
   "execution_count": 150,
   "id": "908b6cc6-c009-4980-bf87-d2dcb1c20ae5",
   "metadata": {},
   "outputs": [
    {
     "data": {
      "text/plain": [
       "<keras.callbacks.History at 0x219db560910>"
      ]
     },
     "execution_count": 150,
     "metadata": {},
     "output_type": "execute_result"
    }
   ],
   "source": [
    "model.compile(optimizer='adam', loss='mse')\n",
    "# fit model\n",
    "model.fit(X_train, y_train, epochs=20, verbose=0)"
   ]
  },
  {
   "cell_type": "code",
   "execution_count": 18,
   "id": "88ca7539-6066-4155-876d-e7ed272a6964",
   "metadata": {},
   "outputs": [
    {
     "name": "stdout",
     "output_type": "stream",
     "text": [
      "219/219 [==============================] - 1s 3ms/step - loss: 0.0027\n"
     ]
    },
    {
     "data": {
      "text/plain": [
       "0.0027271579019725323"
      ]
     },
     "execution_count": 18,
     "metadata": {},
     "output_type": "execute_result"
    }
   ],
   "source": [
    "model.evaluate(X_train,y_train)"
   ]
  },
  {
   "cell_type": "code",
   "execution_count": 19,
   "id": "ca72d40a-a837-43c6-a3ce-bfb462dad514",
   "metadata": {},
   "outputs": [
    {
     "data": {
      "text/plain": [
       "1000"
      ]
     },
     "execution_count": 19,
     "metadata": {},
     "output_type": "execute_result"
    }
   ],
   "source": [
    "len(X_test)"
   ]
  },
  {
   "cell_type": "code",
   "execution_count": 20,
   "id": "3a44ec86-5045-4acb-8a25-7c053aa84417",
   "metadata": {},
   "outputs": [
    {
     "data": {
      "text/plain": [
       "50"
      ]
     },
     "execution_count": 20,
     "metadata": {},
     "output_type": "execute_result"
    }
   ],
   "source": [
    "len(X_test[1])"
   ]
  },
  {
   "cell_type": "code",
   "execution_count": 21,
   "id": "50e10b46-70d4-4b3c-b2d8-81d0b5c4d994",
   "metadata": {
    "scrolled": true,
    "tags": []
   },
   "outputs": [
    {
     "data": {
      "text/plain": [
       "array([[[ 0.23445578],\n",
       "        [ 0.36575443],\n",
       "        [ 0.5668433 ],\n",
       "        [ 0.6463531 ],\n",
       "        [ 0.6797406 ],\n",
       "        [ 0.54984516],\n",
       "        [ 0.3505073 ],\n",
       "        [ 0.15390608],\n",
       "        [-0.08814138],\n",
       "        [-0.22341107],\n",
       "        [-0.36075294],\n",
       "        [-0.29294056],\n",
       "        [-0.3094212 ],\n",
       "        [-0.31514367],\n",
       "        [-0.31838733],\n",
       "        [-0.3438936 ],\n",
       "        [-0.4183634 ],\n",
       "        [-0.5427741 ],\n",
       "        [-0.4583757 ],\n",
       "        [-0.38603938],\n",
       "        [-0.18964249],\n",
       "        [ 0.02101759],\n",
       "        [ 0.3020612 ],\n",
       "        [ 0.46731654],\n",
       "        [ 0.54119736],\n",
       "        [ 0.53589934],\n",
       "        [ 0.5183487 ],\n",
       "        [ 0.37469873],\n",
       "        [ 0.31672445],\n",
       "        [ 0.18793117],\n",
       "        [ 0.1999958 ],\n",
       "        [ 0.17062525],\n",
       "        [ 0.22404698],\n",
       "        [ 0.1717026 ],\n",
       "        [-0.01220428],\n",
       "        [-0.22329752],\n",
       "        [-0.40238008],\n",
       "        [-0.63275   ],\n",
       "        [-0.6966617 ],\n",
       "        [-0.68141437],\n",
       "        [-0.5666854 ],\n",
       "        [-0.39645082],\n",
       "        [-0.18105565],\n",
       "        [ 0.02414381],\n",
       "        [ 0.04355336],\n",
       "        [ 0.12566054],\n",
       "        [ 0.1704958 ],\n",
       "        [ 0.11348081],\n",
       "        [ 0.14787883],\n",
       "        [ 0.29362565]],\n",
       "\n",
       "       [[-0.09233636],\n",
       "        [-0.05576532],\n",
       "        [-0.04016936],\n",
       "        [ 0.04025714],\n",
       "        [ 0.13577293],\n",
       "        [ 0.26279277],\n",
       "        [ 0.41175836],\n",
       "        [ 0.5408857 ],\n",
       "        [ 0.6296706 ],\n",
       "        [ 0.53279907],\n",
       "        [ 0.3481938 ],\n",
       "        [ 0.14455535],\n",
       "        [-0.15877426],\n",
       "        [-0.38608915],\n",
       "        [-0.53114295],\n",
       "        [-0.514791  ],\n",
       "        [-0.50678015],\n",
       "        [-0.3713842 ],\n",
       "        [-0.23785305],\n",
       "        [-0.20882763],\n",
       "        [-0.11971711],\n",
       "        [-0.14620255],\n",
       "        [-0.10305085],\n",
       "        [ 0.0569219 ],\n",
       "        [ 0.2958651 ],\n",
       "        [ 0.4881427 ],\n",
       "        [ 0.64832133],\n",
       "        [ 0.67622393],\n",
       "        [ 0.59686685],\n",
       "        [ 0.3807508 ],\n",
       "        [ 0.08114254],\n",
       "        [-0.19725806],\n",
       "        [-0.35114136],\n",
       "        [-0.47771975],\n",
       "        [-0.47020143],\n",
       "        [-0.46023571],\n",
       "        [-0.3390964 ],\n",
       "        [-0.23472963],\n",
       "        [-0.23146382],\n",
       "        [-0.18356082],\n",
       "        [-0.20578693],\n",
       "        [-0.10498798],\n",
       "        [ 0.006691  ],\n",
       "        [ 0.22627817],\n",
       "        [ 0.5168581 ],\n",
       "        [ 0.6882366 ],\n",
       "        [ 0.7303368 ],\n",
       "        [ 0.61031604],\n",
       "        [ 0.33629158],\n",
       "        [ 0.08602136]]], dtype=float32)"
      ]
     },
     "execution_count": 21,
     "metadata": {},
     "output_type": "execute_result"
    }
   ],
   "source": [
    "X_test[1:3]"
   ]
  },
  {
   "cell_type": "markdown",
   "id": "7fd99bfe-dc39-4d89-9b7e-1d3fe20b7f04",
   "metadata": {},
   "source": [
    "## predict"
   ]
  },
  {
   "cell_type": "code",
   "execution_count": 22,
   "id": "92596b7e-a14f-4f2c-bd87-91b778832e39",
   "metadata": {},
   "outputs": [],
   "source": [
    "y_pred = model.predict(X_test)"
   ]
  },
  {
   "cell_type": "code",
   "execution_count": 23,
   "id": "0e5883c7-5cef-4377-b93a-80cd79e87f75",
   "metadata": {
    "scrolled": true,
    "tags": []
   },
   "outputs": [
    {
     "data": {
      "text/plain": [
       "array([[ 0.22478887],\n",
       "       [ 0.3922552 ],\n",
       "       [-0.23531719],\n",
       "       [-0.31706607],\n",
       "       [ 0.17524315],\n",
       "       [-0.26484555],\n",
       "       [ 0.22009772],\n",
       "       [-0.06971448],\n",
       "       [-0.27264923],\n",
       "       [ 0.04700462],\n",
       "       [ 0.06131447],\n",
       "       [ 0.70676017],\n",
       "       [-0.28193444],\n",
       "       [ 0.05632901],\n",
       "       [-0.32117674],\n",
       "       [ 0.28896096],\n",
       "       [ 0.37181774],\n",
       "       [ 0.0711279 ],\n",
       "       [ 0.38483942],\n",
       "       [ 0.29734987],\n",
       "       [-0.5207099 ],\n",
       "       [-0.15053624],\n",
       "       [ 0.67447114],\n",
       "       [-0.26901072],\n",
       "       [-0.08045584],\n",
       "       [-0.5202575 ],\n",
       "       [-0.2355587 ],\n",
       "       [ 0.52980286],\n",
       "       [ 0.09056868],\n",
       "       [-0.16176338],\n",
       "       [ 0.21139073],\n",
       "       [-0.5954782 ],\n",
       "       [-0.03437537],\n",
       "       [ 0.32848778],\n",
       "       [ 0.08252402],\n",
       "       [ 0.44337082],\n",
       "       [ 0.06683279],\n",
       "       [ 0.25784317],\n",
       "       [ 0.21499637],\n",
       "       [-0.29207498],\n",
       "       [-0.3234774 ],\n",
       "       [-0.03486888],\n",
       "       [ 0.48451495],\n",
       "       [-0.13161175],\n",
       "       [ 0.3009128 ],\n",
       "       [ 0.69232285],\n",
       "       [ 0.4115347 ],\n",
       "       [ 0.53370917],\n",
       "       [ 0.132885  ],\n",
       "       [ 0.2275681 ],\n",
       "       [-0.49557197],\n",
       "       [ 0.3363168 ],\n",
       "       [-0.6483449 ],\n",
       "       [-0.64873475],\n",
       "       [ 0.16789477],\n",
       "       [-0.34824958],\n",
       "       [-0.22775833],\n",
       "       [ 0.03193702],\n",
       "       [ 0.53944683],\n",
       "       [ 0.31865102],\n",
       "       [-0.41054675],\n",
       "       [ 0.02782986],\n",
       "       [ 0.4782765 ],\n",
       "       [ 0.3375066 ],\n",
       "       [ 0.60362446],\n",
       "       [ 0.5208063 ],\n",
       "       [-0.1398897 ],\n",
       "       [-0.47903022],\n",
       "       [ 0.7552906 ],\n",
       "       [ 0.14432786],\n",
       "       [-0.30432972],\n",
       "       [ 0.31147754],\n",
       "       [ 0.16825765],\n",
       "       [ 0.2203411 ],\n",
       "       [-0.5904021 ],\n",
       "       [-0.1231124 ],\n",
       "       [-0.5703306 ],\n",
       "       [-0.20002265],\n",
       "       [-0.23582324],\n",
       "       [ 0.2752546 ],\n",
       "       [ 0.08699093],\n",
       "       [-0.08600062],\n",
       "       [ 0.49998176],\n",
       "       [-0.36317435],\n",
       "       [-0.29012913],\n",
       "       [ 0.52903897],\n",
       "       [ 0.3683326 ],\n",
       "       [ 0.0132518 ],\n",
       "       [ 0.30937293],\n",
       "       [ 0.03166595],\n",
       "       [ 0.2070881 ],\n",
       "       [-0.01952898],\n",
       "       [ 0.28797138],\n",
       "       [-0.58609694],\n",
       "       [-0.3796631 ],\n",
       "       [-0.40108654],\n",
       "       [-0.34991685],\n",
       "       [-0.5318414 ],\n",
       "       [ 0.65893203],\n",
       "       [-0.16888745],\n",
       "       [-0.37673503],\n",
       "       [ 0.30423903],\n",
       "       [ 0.4249366 ],\n",
       "       [ 0.24426366],\n",
       "       [ 0.04103935],\n",
       "       [-0.3756452 ],\n",
       "       [ 0.4857074 ],\n",
       "       [ 0.632568  ],\n",
       "       [-0.21021119],\n",
       "       [ 0.39722562],\n",
       "       [ 0.15941052],\n",
       "       [-0.2527555 ],\n",
       "       [ 0.2658519 ],\n",
       "       [ 0.13381669],\n",
       "       [ 0.23645101],\n",
       "       [-0.25320274],\n",
       "       [ 0.53950524],\n",
       "       [ 0.42244056],\n",
       "       [-0.37420377],\n",
       "       [ 0.31785342],\n",
       "       [ 0.07686696],\n",
       "       [-0.4110773 ],\n",
       "       [ 0.32214245],\n",
       "       [-0.32063887],\n",
       "       [-0.38786715],\n",
       "       [-0.23596819],\n",
       "       [-0.4324504 ],\n",
       "       [ 0.16958174],\n",
       "       [-0.10014539],\n",
       "       [ 0.4556191 ],\n",
       "       [-0.29297346],\n",
       "       [ 0.27625793],\n",
       "       [-0.5037332 ],\n",
       "       [ 0.2830665 ],\n",
       "       [-0.11039175],\n",
       "       [ 0.07984994],\n",
       "       [ 0.41139397],\n",
       "       [-0.22877744],\n",
       "       [ 0.13634816],\n",
       "       [-0.35647118],\n",
       "       [ 0.30545324],\n",
       "       [ 0.42158246],\n",
       "       [-0.37088802],\n",
       "       [-0.6271089 ],\n",
       "       [ 0.4050725 ],\n",
       "       [ 0.44042024],\n",
       "       [ 0.5238553 ],\n",
       "       [ 0.54083824],\n",
       "       [-0.27745485],\n",
       "       [-0.17853689],\n",
       "       [-0.10415123],\n",
       "       [ 0.54719657],\n",
       "       [-0.30545756],\n",
       "       [ 0.16368152],\n",
       "       [-0.03303118],\n",
       "       [ 0.47966763],\n",
       "       [ 0.18116169],\n",
       "       [ 0.36293504],\n",
       "       [ 0.42438623],\n",
       "       [ 0.25481677],\n",
       "       [ 0.38858056],\n",
       "       [ 0.36391538],\n",
       "       [-0.37358043],\n",
       "       [ 0.3906208 ],\n",
       "       [ 0.3230099 ],\n",
       "       [-0.1775633 ],\n",
       "       [ 0.5162439 ],\n",
       "       [ 0.52961534],\n",
       "       [ 0.11036924],\n",
       "       [ 0.07452513],\n",
       "       [ 0.40971744],\n",
       "       [-0.01582713],\n",
       "       [ 0.46737304],\n",
       "       [ 0.38334313],\n",
       "       [ 0.6192386 ],\n",
       "       [ 0.6627592 ],\n",
       "       [ 0.4112337 ],\n",
       "       [ 0.4707789 ],\n",
       "       [-0.06825539],\n",
       "       [ 0.23459731],\n",
       "       [-0.53770804],\n",
       "       [-0.02433542],\n",
       "       [ 0.41104716],\n",
       "       [ 0.03102449],\n",
       "       [-0.25314358],\n",
       "       [ 0.11958975],\n",
       "       [-0.2960288 ],\n",
       "       [-0.35798082],\n",
       "       [-0.01977941],\n",
       "       [-0.13854383],\n",
       "       [ 0.24339351],\n",
       "       [-0.2134235 ],\n",
       "       [ 0.4298966 ],\n",
       "       [ 0.2964887 ],\n",
       "       [-0.6030062 ],\n",
       "       [ 0.30216748],\n",
       "       [-0.28220403],\n",
       "       [ 0.17778613],\n",
       "       [ 0.18990536],\n",
       "       [ 0.44439667],\n",
       "       [ 0.5508672 ],\n",
       "       [ 0.05949284],\n",
       "       [-0.46978727],\n",
       "       [ 0.5305706 ],\n",
       "       [-0.60503376],\n",
       "       [-0.44290182],\n",
       "       [ 0.29452834],\n",
       "       [-0.66050357],\n",
       "       [-0.14789422],\n",
       "       [ 0.13309656],\n",
       "       [-0.56848097],\n",
       "       [ 0.6035706 ],\n",
       "       [ 0.03611054],\n",
       "       [-0.03648331],\n",
       "       [ 0.28864402],\n",
       "       [-0.5739099 ],\n",
       "       [-0.18559805],\n",
       "       [ 0.53713083],\n",
       "       [-0.16680424],\n",
       "       [-0.03021236],\n",
       "       [-0.31086093],\n",
       "       [ 0.34101468],\n",
       "       [ 0.5824995 ],\n",
       "       [ 0.55364966],\n",
       "       [-0.05024771],\n",
       "       [ 0.24982637],\n",
       "       [-0.14115544],\n",
       "       [-0.74279326],\n",
       "       [-0.53832084],\n",
       "       [-0.02383115],\n",
       "       [ 0.17258185],\n",
       "       [ 0.29494298],\n",
       "       [-0.33999985],\n",
       "       [-0.48964778],\n",
       "       [ 0.48706633],\n",
       "       [-0.0915055 ],\n",
       "       [ 0.31900567],\n",
       "       [-0.605832  ],\n",
       "       [ 0.52277017],\n",
       "       [ 0.3794534 ],\n",
       "       [ 0.4972408 ],\n",
       "       [-0.3362679 ],\n",
       "       [ 0.41166997],\n",
       "       [-0.31512246],\n",
       "       [-0.49424714],\n",
       "       [ 0.14808778],\n",
       "       [-0.31439576],\n",
       "       [ 0.36903256],\n",
       "       [-0.47343844],\n",
       "       [-0.29269302],\n",
       "       [ 0.14362818],\n",
       "       [ 0.5493806 ],\n",
       "       [-0.26071984],\n",
       "       [-0.4983071 ],\n",
       "       [ 0.05932998],\n",
       "       [ 0.18913484],\n",
       "       [-0.60971487],\n",
       "       [ 0.29251564],\n",
       "       [ 0.36268455],\n",
       "       [-0.62926316],\n",
       "       [ 0.45178753],\n",
       "       [-0.18166173],\n",
       "       [-0.6670337 ],\n",
       "       [-0.2987457 ],\n",
       "       [-0.45981148],\n",
       "       [-0.24756716],\n",
       "       [ 0.4199544 ],\n",
       "       [ 0.36927575],\n",
       "       [ 0.39475107],\n",
       "       [-0.6448665 ],\n",
       "       [ 0.2523885 ],\n",
       "       [ 0.10855265],\n",
       "       [ 0.39174095],\n",
       "       [ 0.30406588],\n",
       "       [-0.48148695],\n",
       "       [-0.22103705],\n",
       "       [ 0.37408087],\n",
       "       [-0.14926086],\n",
       "       [-0.31754464],\n",
       "       [ 0.00130629],\n",
       "       [-0.5457441 ],\n",
       "       [ 0.26947987],\n",
       "       [-0.33871275],\n",
       "       [ 0.2728478 ],\n",
       "       [-0.19077525],\n",
       "       [ 0.01863237],\n",
       "       [ 0.11894346],\n",
       "       [-0.19508801],\n",
       "       [-0.27407804],\n",
       "       [-0.3737926 ],\n",
       "       [ 0.560199  ],\n",
       "       [ 0.21733297],\n",
       "       [-0.06498861],\n",
       "       [ 0.36412728],\n",
       "       [ 0.5432575 ],\n",
       "       [ 0.11961734],\n",
       "       [-0.06327375],\n",
       "       [ 0.357543  ],\n",
       "       [ 0.16858561],\n",
       "       [ 0.26444638],\n",
       "       [ 0.01924692],\n",
       "       [ 0.28567505],\n",
       "       [ 0.53121686],\n",
       "       [-0.02772876],\n",
       "       [ 0.6972931 ],\n",
       "       [-0.53139603],\n",
       "       [ 0.25705978],\n",
       "       [-0.44543192],\n",
       "       [ 0.67686474],\n",
       "       [ 0.5355683 ],\n",
       "       [-0.44127914],\n",
       "       [ 0.39904824],\n",
       "       [-0.29379156],\n",
       "       [-0.25032204],\n",
       "       [-0.2760657 ],\n",
       "       [ 0.38173053],\n",
       "       [-0.16486393],\n",
       "       [-0.42574835],\n",
       "       [-0.47724143],\n",
       "       [ 0.32030386],\n",
       "       [ 0.30646715],\n",
       "       [ 0.05304352],\n",
       "       [ 0.41691124],\n",
       "       [-0.09442347],\n",
       "       [ 0.32286412],\n",
       "       [-0.11763327],\n",
       "       [-0.12328747],\n",
       "       [-0.58964497],\n",
       "       [ 0.4751284 ],\n",
       "       [ 0.4497276 ],\n",
       "       [-0.07525521],\n",
       "       [-0.39374384],\n",
       "       [ 0.02666278],\n",
       "       [-0.36229703],\n",
       "       [ 0.6568545 ],\n",
       "       [-0.35985246],\n",
       "       [ 0.52468747],\n",
       "       [-0.49779743],\n",
       "       [-0.43307406],\n",
       "       [ 0.01591789],\n",
       "       [ 0.16533734],\n",
       "       [-0.48866442],\n",
       "       [-0.23230554],\n",
       "       [ 0.18638346],\n",
       "       [ 0.33014542],\n",
       "       [-0.264614  ],\n",
       "       [ 0.5809733 ],\n",
       "       [ 0.00883311],\n",
       "       [-0.5883253 ],\n",
       "       [ 0.00607066],\n",
       "       [-0.5075367 ],\n",
       "       [-0.6377116 ],\n",
       "       [ 0.34887135],\n",
       "       [ 0.3257118 ],\n",
       "       [ 0.53317535],\n",
       "       [ 0.19796373],\n",
       "       [ 0.59938025],\n",
       "       [-0.03508772],\n",
       "       [ 0.33684242],\n",
       "       [-0.2865581 ],\n",
       "       [-0.4777586 ],\n",
       "       [ 0.0729802 ],\n",
       "       [-0.25151223],\n",
       "       [-0.3161547 ],\n",
       "       [-0.0361504 ],\n",
       "       [ 0.57131356],\n",
       "       [-0.11673398],\n",
       "       [ 0.09312559],\n",
       "       [-0.6428395 ],\n",
       "       [ 0.34963167],\n",
       "       [-0.67318773],\n",
       "       [ 0.2695094 ],\n",
       "       [-0.37292892],\n",
       "       [ 0.20776281],\n",
       "       [-0.3225735 ],\n",
       "       [ 0.4048326 ],\n",
       "       [ 0.6325966 ],\n",
       "       [-0.01180792],\n",
       "       [-0.05181803],\n",
       "       [ 0.01453651],\n",
       "       [-0.3759324 ],\n",
       "       [ 0.2048543 ],\n",
       "       [ 0.1391689 ],\n",
       "       [ 0.47826862],\n",
       "       [ 0.18098484],\n",
       "       [ 0.43999174],\n",
       "       [ 0.56801987],\n",
       "       [-0.44370466],\n",
       "       [ 0.30479747],\n",
       "       [-0.44072682],\n",
       "       [-0.08775179],\n",
       "       [-0.25890166],\n",
       "       [ 0.11287093],\n",
       "       [-0.68459165],\n",
       "       [ 0.43504715],\n",
       "       [ 0.06986288],\n",
       "       [-0.6304352 ],\n",
       "       [-0.28853035],\n",
       "       [-0.32429805],\n",
       "       [ 0.08801639],\n",
       "       [ 0.4469033 ],\n",
       "       [ 0.1725644 ],\n",
       "       [ 0.31540942],\n",
       "       [ 0.3093731 ],\n",
       "       [ 0.22250786],\n",
       "       [-0.33260733],\n",
       "       [ 0.4317797 ],\n",
       "       [ 0.31869245],\n",
       "       [-0.4885558 ],\n",
       "       [ 0.28853673],\n",
       "       [-0.15282188],\n",
       "       [-0.5546052 ],\n",
       "       [-0.08955929],\n",
       "       [ 0.30631495],\n",
       "       [-0.1367528 ],\n",
       "       [ 0.07586426],\n",
       "       [ 0.10822318],\n",
       "       [ 0.05967459],\n",
       "       [ 0.05124365],\n",
       "       [ 0.05934175],\n",
       "       [ 0.01168035],\n",
       "       [ 0.01314153],\n",
       "       [-0.4775693 ],\n",
       "       [-0.6049963 ],\n",
       "       [ 0.28311715],\n",
       "       [-0.14511162],\n",
       "       [ 0.6640796 ],\n",
       "       [-0.25057742],\n",
       "       [-0.66368055],\n",
       "       [-0.3757081 ],\n",
       "       [ 0.32672906],\n",
       "       [-0.4245696 ],\n",
       "       [ 0.41348234],\n",
       "       [-0.3161088 ],\n",
       "       [ 0.31233463],\n",
       "       [ 0.11102708],\n",
       "       [-0.29461128],\n",
       "       [-0.61854947],\n",
       "       [-0.17729816],\n",
       "       [-0.04380884],\n",
       "       [ 0.30355713],\n",
       "       [-0.43723443],\n",
       "       [ 0.10286835],\n",
       "       [-0.07349444],\n",
       "       [ 0.33579507],\n",
       "       [-0.06943198],\n",
       "       [ 0.5116014 ],\n",
       "       [ 0.23851638],\n",
       "       [-0.31020883],\n",
       "       [ 0.2172905 ],\n",
       "       [-0.44830132],\n",
       "       [-0.23700969],\n",
       "       [ 0.08649932],\n",
       "       [-0.23409311],\n",
       "       [-0.07310791],\n",
       "       [-0.18804635],\n",
       "       [ 0.2025266 ],\n",
       "       [-0.11340879],\n",
       "       [ 0.58313596],\n",
       "       [ 0.12231088],\n",
       "       [ 0.06170321],\n",
       "       [-0.23805107],\n",
       "       [ 0.15938321],\n",
       "       [-0.61747545],\n",
       "       [-0.15739433],\n",
       "       [-0.6499641 ],\n",
       "       [-0.35686055],\n",
       "       [-0.24518193],\n",
       "       [ 0.5393326 ],\n",
       "       [-0.3679101 ],\n",
       "       [ 0.2397123 ],\n",
       "       [-0.52108467],\n",
       "       [-0.01961378],\n",
       "       [ 0.14255889],\n",
       "       [-0.5101661 ],\n",
       "       [-0.39228144],\n",
       "       [ 0.05083895],\n",
       "       [-0.20246282],\n",
       "       [ 0.29825592],\n",
       "       [ 0.32768813],\n",
       "       [ 0.22518778],\n",
       "       [ 0.44314578],\n",
       "       [ 0.48179382],\n",
       "       [ 0.2506068 ],\n",
       "       [ 0.16481563],\n",
       "       [ 0.6980968 ],\n",
       "       [ 0.42145267],\n",
       "       [ 0.21242858],\n",
       "       [ 0.19282232],\n",
       "       [-0.35454234],\n",
       "       [ 0.20703484],\n",
       "       [-0.40614206],\n",
       "       [ 0.5396324 ],\n",
       "       [-0.3632559 ],\n",
       "       [ 0.06998788],\n",
       "       [ 0.51775634],\n",
       "       [-0.46761444],\n",
       "       [-0.32577184],\n",
       "       [-0.10611055],\n",
       "       [-0.27238894],\n",
       "       [ 0.13440453],\n",
       "       [ 0.13786742],\n",
       "       [-0.3958549 ],\n",
       "       [ 0.22037198],\n",
       "       [-0.5011947 ],\n",
       "       [ 0.14773999],\n",
       "       [-0.3957602 ],\n",
       "       [-0.46190026],\n",
       "       [-0.44697928],\n",
       "       [-0.3955899 ],\n",
       "       [ 0.39005423],\n",
       "       [ 0.43125963],\n",
       "       [-0.28334245],\n",
       "       [-0.17868628],\n",
       "       [-0.52507037],\n",
       "       [-0.10612243],\n",
       "       [ 0.30187947],\n",
       "       [-0.1036018 ],\n",
       "       [ 0.20027766],\n",
       "       [-0.7394017 ],\n",
       "       [-0.00917244],\n",
       "       [-0.1688575 ],\n",
       "       [ 0.34917375],\n",
       "       [ 0.5460748 ],\n",
       "       [-0.3366022 ],\n",
       "       [ 0.03487496],\n",
       "       [-0.32666284],\n",
       "       [ 0.12435482],\n",
       "       [ 0.46577275],\n",
       "       [-0.46263722],\n",
       "       [-0.24688654],\n",
       "       [ 0.38847178],\n",
       "       [-0.2955789 ],\n",
       "       [ 0.60800564],\n",
       "       [ 0.24907488],\n",
       "       [ 0.2909209 ],\n",
       "       [-0.14107136],\n",
       "       [-0.46606627],\n",
       "       [-0.50061584],\n",
       "       [-0.57613945],\n",
       "       [-0.4348446 ],\n",
       "       [-0.35685858],\n",
       "       [ 0.06063499],\n",
       "       [-0.13119183],\n",
       "       [-0.01536513],\n",
       "       [ 0.71683323],\n",
       "       [-0.15488133],\n",
       "       [-0.14865996],\n",
       "       [ 0.3585383 ],\n",
       "       [ 0.1440423 ],\n",
       "       [-0.5143049 ],\n",
       "       [ 0.4169482 ],\n",
       "       [ 0.31204146],\n",
       "       [-0.2628731 ],\n",
       "       [-0.03013321],\n",
       "       [ 0.27991855],\n",
       "       [-0.27684307],\n",
       "       [-0.47644848],\n",
       "       [-0.03088803],\n",
       "       [ 0.4645203 ],\n",
       "       [-0.46651387],\n",
       "       [ 0.32230234],\n",
       "       [ 0.10822549],\n",
       "       [ 0.18574421],\n",
       "       [-0.31861234],\n",
       "       [ 0.60285336],\n",
       "       [ 0.6643211 ],\n",
       "       [-0.11463241],\n",
       "       [-0.18553382],\n",
       "       [ 0.312365  ],\n",
       "       [-0.15698886],\n",
       "       [-0.43203884],\n",
       "       [-0.19098905],\n",
       "       [-0.21449867],\n",
       "       [-0.27128708],\n",
       "       [ 0.34796843],\n",
       "       [-0.31198516],\n",
       "       [ 0.35622334],\n",
       "       [-0.10687362],\n",
       "       [ 0.03853689],\n",
       "       [ 0.56537664],\n",
       "       [-0.5709807 ],\n",
       "       [ 0.32419884],\n",
       "       [-0.41518766],\n",
       "       [ 0.51151234],\n",
       "       [ 0.52546334],\n",
       "       [ 0.6651357 ],\n",
       "       [-0.18572077],\n",
       "       [ 0.00271862],\n",
       "       [ 0.01063995],\n",
       "       [-0.5692006 ],\n",
       "       [ 0.361415  ],\n",
       "       [-0.2759561 ],\n",
       "       [ 0.5231897 ],\n",
       "       [-0.32723346],\n",
       "       [ 0.25929594],\n",
       "       [ 0.342517  ],\n",
       "       [-0.00974071],\n",
       "       [-0.5353524 ],\n",
       "       [ 0.54346323],\n",
       "       [ 0.33597538],\n",
       "       [ 0.41219652],\n",
       "       [-0.13842042],\n",
       "       [-0.41110328],\n",
       "       [-0.3491295 ],\n",
       "       [-0.16893126],\n",
       "       [ 0.07791907],\n",
       "       [ 0.6703448 ],\n",
       "       [-0.12586595],\n",
       "       [-0.16103344],\n",
       "       [ 0.45322296],\n",
       "       [ 0.56857675],\n",
       "       [-0.56448895],\n",
       "       [-0.5300613 ],\n",
       "       [ 0.4822868 ],\n",
       "       [-0.04037609],\n",
       "       [ 0.61244154],\n",
       "       [-0.18978737],\n",
       "       [-0.07104632],\n",
       "       [ 0.610225  ],\n",
       "       [ 0.07269351],\n",
       "       [ 0.6129473 ],\n",
       "       [ 0.22162922],\n",
       "       [-0.21746102],\n",
       "       [ 0.310301  ],\n",
       "       [-0.45988807],\n",
       "       [-0.26327056],\n",
       "       [ 0.17445995],\n",
       "       [-0.5914681 ],\n",
       "       [ 0.4185389 ],\n",
       "       [-0.27523443],\n",
       "       [ 0.48719192],\n",
       "       [ 0.07823086],\n",
       "       [ 0.04139803],\n",
       "       [ 0.7365969 ],\n",
       "       [-0.33587572],\n",
       "       [ 0.47992682],\n",
       "       [-0.08237776],\n",
       "       [-0.67909825],\n",
       "       [ 0.4880063 ],\n",
       "       [-0.28804123],\n",
       "       [ 0.5738213 ],\n",
       "       [-0.18841228],\n",
       "       [-0.0603508 ],\n",
       "       [-0.47598562],\n",
       "       [ 0.4308876 ],\n",
       "       [ 0.17256299],\n",
       "       [ 0.60836846],\n",
       "       [-0.26516166],\n",
       "       [-0.27530628],\n",
       "       [ 0.476334  ],\n",
       "       [-0.40225828],\n",
       "       [ 0.4215621 ],\n",
       "       [-0.28534135],\n",
       "       [-0.6056415 ],\n",
       "       [-0.45090058],\n",
       "       [-0.41909012],\n",
       "       [ 0.23425299],\n",
       "       [ 0.45441666],\n",
       "       [-0.4140203 ],\n",
       "       [ 0.31929025],\n",
       "       [ 0.39376995],\n",
       "       [-0.18331166],\n",
       "       [ 0.67801124],\n",
       "       [-0.00912565],\n",
       "       [ 0.3899113 ],\n",
       "       [-0.64666927],\n",
       "       [ 0.543446  ],\n",
       "       [ 0.37986618],\n",
       "       [-0.5819938 ],\n",
       "       [ 0.511731  ],\n",
       "       [ 0.31394127],\n",
       "       [-0.20431031],\n",
       "       [ 0.34535843],\n",
       "       [-0.5034165 ],\n",
       "       [-0.16308098],\n",
       "       [ 0.6469455 ],\n",
       "       [ 0.49362546],\n",
       "       [-0.56842476],\n",
       "       [ 0.24545188],\n",
       "       [ 0.46591064],\n",
       "       [ 0.6223213 ],\n",
       "       [-0.36136281],\n",
       "       [ 0.37847295],\n",
       "       [ 0.45337582],\n",
       "       [-0.06447795],\n",
       "       [ 0.6621336 ],\n",
       "       [ 0.25036883],\n",
       "       [ 0.5742002 ],\n",
       "       [-0.35955232],\n",
       "       [ 0.2295026 ],\n",
       "       [ 0.4335319 ],\n",
       "       [-0.45186293],\n",
       "       [ 0.42839572],\n",
       "       [ 0.1708915 ],\n",
       "       [ 0.12189939],\n",
       "       [ 0.35285097],\n",
       "       [ 0.49883407],\n",
       "       [ 0.5807181 ],\n",
       "       [ 0.6491771 ],\n",
       "       [-0.22398503],\n",
       "       [-0.6732229 ],\n",
       "       [ 0.4058956 ],\n",
       "       [-0.7104183 ],\n",
       "       [ 0.27783263],\n",
       "       [ 0.4241436 ],\n",
       "       [ 0.26516005],\n",
       "       [ 0.51606303],\n",
       "       [ 0.5606411 ],\n",
       "       [-0.14056686],\n",
       "       [ 0.15293205],\n",
       "       [-0.24678327],\n",
       "       [ 0.6842812 ],\n",
       "       [ 0.38674927],\n",
       "       [ 0.09046343],\n",
       "       [-0.46952572],\n",
       "       [-0.47955206],\n",
       "       [-0.22832721],\n",
       "       [ 0.49635002],\n",
       "       [ 0.3487515 ],\n",
       "       [ 0.20364772],\n",
       "       [ 0.3655187 ],\n",
       "       [-0.27720863],\n",
       "       [-0.2787486 ],\n",
       "       [-0.6000084 ],\n",
       "       [ 0.61721224],\n",
       "       [-0.3414203 ],\n",
       "       [ 0.4898097 ],\n",
       "       [ 0.17733318],\n",
       "       [-0.16281699],\n",
       "       [-0.30795896],\n",
       "       [-0.42515588],\n",
       "       [ 0.6384883 ],\n",
       "       [-0.22343515],\n",
       "       [-0.67425317],\n",
       "       [ 0.51039326],\n",
       "       [ 0.17976175],\n",
       "       [ 0.5806563 ],\n",
       "       [ 0.4155845 ],\n",
       "       [ 0.14362583],\n",
       "       [ 0.2580848 ],\n",
       "       [ 0.00453603],\n",
       "       [ 0.30893952],\n",
       "       [ 0.38119963],\n",
       "       [ 0.25594032],\n",
       "       [ 0.16411221],\n",
       "       [ 0.23619406],\n",
       "       [-0.30302587],\n",
       "       [-0.61329746],\n",
       "       [-0.5963607 ],\n",
       "       [ 0.30389717],\n",
       "       [ 0.51867914],\n",
       "       [ 0.29390904],\n",
       "       [-0.18242072],\n",
       "       [-0.17174047],\n",
       "       [-0.6594904 ],\n",
       "       [-0.42092434],\n",
       "       [-0.5927936 ],\n",
       "       [-0.4384329 ],\n",
       "       [ 0.31636876],\n",
       "       [-0.20514901],\n",
       "       [ 0.3143694 ],\n",
       "       [ 0.5106897 ],\n",
       "       [-0.6593919 ],\n",
       "       [-0.49454534],\n",
       "       [-0.27664062],\n",
       "       [ 0.2407794 ],\n",
       "       [-0.51179546],\n",
       "       [-0.18433027],\n",
       "       [ 0.18451978],\n",
       "       [-0.5228046 ],\n",
       "       [-0.23282334],\n",
       "       [ 0.06392948],\n",
       "       [-0.14637364],\n",
       "       [-0.16847824],\n",
       "       [ 0.41004813],\n",
       "       [-0.04726713],\n",
       "       [-0.5571171 ],\n",
       "       [ 0.52091503],\n",
       "       [-0.13540344],\n",
       "       [-0.01291976],\n",
       "       [-0.07122397],\n",
       "       [ 0.7542941 ],\n",
       "       [ 0.12617427],\n",
       "       [-0.4996698 ],\n",
       "       [ 0.1987326 ],\n",
       "       [ 0.37928578],\n",
       "       [ 0.1215452 ],\n",
       "       [-0.41941208],\n",
       "       [-0.39233622],\n",
       "       [-0.4363571 ],\n",
       "       [-0.6637797 ],\n",
       "       [ 0.4448782 ],\n",
       "       [ 0.11301848],\n",
       "       [-0.33366796],\n",
       "       [ 0.22333421],\n",
       "       [-0.03484903],\n",
       "       [ 0.22484624],\n",
       "       [ 0.55215776],\n",
       "       [ 0.13537535],\n",
       "       [ 0.2749655 ],\n",
       "       [-0.03382942],\n",
       "       [ 0.32287976],\n",
       "       [ 0.5289592 ],\n",
       "       [ 0.05946552],\n",
       "       [-0.2177279 ],\n",
       "       [ 0.31883222],\n",
       "       [ 0.21313949],\n",
       "       [-0.20863141],\n",
       "       [ 0.13527773],\n",
       "       [-0.04105904],\n",
       "       [-0.46240714],\n",
       "       [ 0.22692384],\n",
       "       [ 0.02599961],\n",
       "       [-0.00920794],\n",
       "       [-0.22349034],\n",
       "       [ 0.32624906],\n",
       "       [ 0.39208815],\n",
       "       [ 0.41172007],\n",
       "       [-0.13526641],\n",
       "       [ 0.27317727],\n",
       "       [ 0.5300074 ],\n",
       "       [ 0.6679115 ],\n",
       "       [ 0.46583116],\n",
       "       [-0.2795092 ],\n",
       "       [ 0.15985273],\n",
       "       [ 0.38959116],\n",
       "       [ 0.66584283],\n",
       "       [-0.03534674],\n",
       "       [-0.3724702 ],\n",
       "       [ 0.5557633 ],\n",
       "       [-0.16768247],\n",
       "       [-0.36058605],\n",
       "       [ 0.05834943],\n",
       "       [-0.48891872],\n",
       "       [-0.39737743],\n",
       "       [ 0.3046386 ],\n",
       "       [ 0.33127946],\n",
       "       [ 0.171997  ],\n",
       "       [-0.09533575],\n",
       "       [-0.07193666],\n",
       "       [ 0.1784452 ],\n",
       "       [ 0.06796952],\n",
       "       [ 0.09164708],\n",
       "       [-0.67719877],\n",
       "       [ 0.02411146],\n",
       "       [ 0.45478797],\n",
       "       [-0.05722566],\n",
       "       [ 0.09633506],\n",
       "       [-0.0837084 ],\n",
       "       [-0.56776536],\n",
       "       [ 0.18170854],\n",
       "       [-0.51261866],\n",
       "       [-0.5591404 ],\n",
       "       [ 0.2653375 ],\n",
       "       [ 0.59949654],\n",
       "       [-0.53987205],\n",
       "       [-0.11907591],\n",
       "       [ 0.3645054 ],\n",
       "       [ 0.07413529],\n",
       "       [-0.5336409 ],\n",
       "       [ 0.7190203 ],\n",
       "       [ 0.2910465 ],\n",
       "       [ 0.32885474],\n",
       "       [ 0.32897177],\n",
       "       [ 0.5327508 ],\n",
       "       [ 0.33063403],\n",
       "       [ 0.03863967],\n",
       "       [-0.10875709],\n",
       "       [-0.14770262],\n",
       "       [ 0.00752376],\n",
       "       [ 0.63552725],\n",
       "       [-0.15391716],\n",
       "       [ 0.2926885 ],\n",
       "       [-0.6142581 ],\n",
       "       [-0.48510495],\n",
       "       [ 0.5244068 ],\n",
       "       [-0.32237902],\n",
       "       [ 0.12066093],\n",
       "       [ 0.59521556],\n",
       "       [ 0.36896458],\n",
       "       [-0.02201315],\n",
       "       [ 0.41754338],\n",
       "       [-0.16995719],\n",
       "       [-0.41537148],\n",
       "       [-0.21541338],\n",
       "       [ 0.30988556],\n",
       "       [ 0.42097723],\n",
       "       [ 0.56832063],\n",
       "       [-0.37349272],\n",
       "       [-0.5518487 ],\n",
       "       [-0.52795976],\n",
       "       [ 0.70229626],\n",
       "       [-0.0111411 ],\n",
       "       [-0.6525245 ],\n",
       "       [ 0.09305827],\n",
       "       [ 0.10620462],\n",
       "       [-0.24911796],\n",
       "       [-0.6834555 ],\n",
       "       [-0.03185867],\n",
       "       [-0.28969604],\n",
       "       [-0.09512881],\n",
       "       [-0.3912346 ],\n",
       "       [ 0.2069075 ],\n",
       "       [ 0.01299294],\n",
       "       [ 0.35662818],\n",
       "       [ 0.10255373],\n",
       "       [ 0.63619083],\n",
       "       [ 0.13125496],\n",
       "       [-0.69878197],\n",
       "       [ 0.42006445],\n",
       "       [ 0.49491295],\n",
       "       [-0.54384065],\n",
       "       [-0.5402855 ],\n",
       "       [-0.49304312],\n",
       "       [ 0.23946667],\n",
       "       [ 0.37215474],\n",
       "       [ 0.3222214 ],\n",
       "       [-0.11466949],\n",
       "       [ 0.09132533],\n",
       "       [-0.40185657],\n",
       "       [ 0.5123    ],\n",
       "       [-0.6202676 ],\n",
       "       [-0.46297443],\n",
       "       [ 0.36702737],\n",
       "       [ 0.20583613],\n",
       "       [ 0.38671675],\n",
       "       [ 0.36559206],\n",
       "       [-0.2975735 ],\n",
       "       [-0.05398402],\n",
       "       [-0.55105835],\n",
       "       [ 0.6187096 ],\n",
       "       [-0.15302242],\n",
       "       [ 0.50343657],\n",
       "       [-0.561682  ],\n",
       "       [ 0.3527146 ],\n",
       "       [ 0.5648709 ],\n",
       "       [-0.42133683],\n",
       "       [-0.26548535],\n",
       "       [ 0.20010848],\n",
       "       [-0.27644166],\n",
       "       [ 0.03195622],\n",
       "       [-0.5416708 ],\n",
       "       [ 0.009587  ],\n",
       "       [ 0.24956958],\n",
       "       [ 0.22757138],\n",
       "       [ 0.7024916 ],\n",
       "       [ 0.4537632 ],\n",
       "       [ 0.27801353],\n",
       "       [-0.5613524 ],\n",
       "       [ 0.00921071],\n",
       "       [ 0.41958976],\n",
       "       [-0.53228164],\n",
       "       [ 0.16208722],\n",
       "       [-0.04628316],\n",
       "       [ 0.148468  ],\n",
       "       [ 0.21640097],\n",
       "       [ 0.22798188],\n",
       "       [ 0.55160236],\n",
       "       [-0.35039088],\n",
       "       [ 0.16917762],\n",
       "       [ 0.64521104],\n",
       "       [ 0.17969173],\n",
       "       [ 0.24726154],\n",
       "       [ 0.23189028],\n",
       "       [ 0.28853592],\n",
       "       [ 0.30049938],\n",
       "       [ 0.54226065],\n",
       "       [ 0.2709248 ],\n",
       "       [ 0.3373261 ],\n",
       "       [-0.6349607 ],\n",
       "       [ 0.53851837],\n",
       "       [ 0.11731351],\n",
       "       [ 0.15040937],\n",
       "       [ 0.41628718],\n",
       "       [-0.43862778],\n",
       "       [-0.08811358],\n",
       "       [-0.2760896 ],\n",
       "       [-0.41696098],\n",
       "       [-0.35073096],\n",
       "       [-0.3781743 ],\n",
       "       [ 0.5848699 ],\n",
       "       [ 0.2710529 ],\n",
       "       [ 0.25639206],\n",
       "       [ 0.12446475],\n",
       "       [-0.4428472 ],\n",
       "       [ 0.41282347],\n",
       "       [-0.2765361 ],\n",
       "       [ 0.5585334 ],\n",
       "       [-0.34234458],\n",
       "       [ 0.55406314],\n",
       "       [-0.3506128 ],\n",
       "       [-0.4618892 ],\n",
       "       [-0.58364695],\n",
       "       [-0.3693574 ],\n",
       "       [ 0.46797997],\n",
       "       [ 0.18472645],\n",
       "       [ 0.08619745],\n",
       "       [ 0.06112593],\n",
       "       [ 0.29881516]], dtype=float32)"
      ]
     },
     "execution_count": 23,
     "metadata": {},
     "output_type": "execute_result"
    }
   ],
   "source": [
    "y_pred"
   ]
  },
  {
   "cell_type": "code",
   "execution_count": 24,
   "id": "d6dc7073-9d62-4839-9b8f-72fb991db3fd",
   "metadata": {},
   "outputs": [
    {
     "data": {
      "text/plain": [
       "1000"
      ]
     },
     "execution_count": 24,
     "metadata": {},
     "output_type": "execute_result"
    }
   ],
   "source": [
    "len(y_pred)"
   ]
  },
  {
   "cell_type": "code",
   "execution_count": 25,
   "id": "1eb40db4-3971-47b0-b1c8-9b3bceb49fa4",
   "metadata": {},
   "outputs": [
    {
     "data": {
      "text/plain": [
       "array([0.22478887], dtype=float32)"
      ]
     },
     "execution_count": 25,
     "metadata": {},
     "output_type": "execute_result"
    }
   ],
   "source": [
    "y_pred[0]"
   ]
  },
  {
   "cell_type": "code",
   "execution_count": 26,
   "id": "fb2d21f9-4579-4fc2-b92b-8473836e2a43",
   "metadata": {},
   "outputs": [
    {
     "data": {
      "text/plain": [
       "array([-0.23531719], dtype=float32)"
      ]
     },
     "execution_count": 26,
     "metadata": {},
     "output_type": "execute_result"
    }
   ],
   "source": [
    "y_pred[2]"
   ]
  },
  {
   "cell_type": "code",
   "execution_count": 30,
   "id": "b2b7b7ce-7b00-4116-bc50-d9a4ec81eab4",
   "metadata": {},
   "outputs": [
    {
     "data": {
      "text/plain": [
       "0.002844816"
      ]
     },
     "execution_count": 30,
     "metadata": {},
     "output_type": "execute_result"
    }
   ],
   "source": [
    "np.mean(keras.losses.mean_squared_error(y_test, y_pred))"
   ]
  },
  {
   "cell_type": "markdown",
   "id": "771940aa-2e6c-4141-a508-5fe23b356a59",
   "metadata": {},
   "source": [
    "# Forecasting several time steps ahead"
   ]
  },
  {
   "cell_type": "code",
   "execution_count": 31,
   "id": "41bf44b1-c5e6-4627-924e-473a9b9fb34f",
   "metadata": {
    "tags": []
   },
   "outputs": [],
   "source": [
    "series = generate_time_series(1, n_steps + 10)\n",
    "X_new, Y_new = series[:, :n_steps], series[:, n_steps:]\n",
    "X = X_new\n",
    "\n",
    "for step_ahead in range(10):\n",
    "    y_pred_one = model.predict(X[:, step_ahead:])[:, np.newaxis, :]\n",
    "    X = np.concatenate([X, y_pred_one], axis = 1)"
   ]
  },
  {
   "cell_type": "code",
   "execution_count": 34,
   "id": "3956d2d2-bd3f-458d-89ff-5ff4384aeec8",
   "metadata": {},
   "outputs": [
    {
     "data": {
      "text/plain": [
       "60"
      ]
     },
     "execution_count": 34,
     "metadata": {},
     "output_type": "execute_result"
    }
   ],
   "source": [
    "len(series[0])"
   ]
  },
  {
   "cell_type": "code",
   "execution_count": 37,
   "id": "742d770b-3aed-4e79-a01e-c5a0177fe823",
   "metadata": {},
   "outputs": [
    {
     "data": {
      "text/plain": [
       "50"
      ]
     },
     "execution_count": 37,
     "metadata": {},
     "output_type": "execute_result"
    }
   ],
   "source": [
    "len(X_new[0])"
   ]
  },
  {
   "cell_type": "code",
   "execution_count": 38,
   "id": "68b4ea5a-7724-49b6-b627-c9f651bd4bfe",
   "metadata": {
    "scrolled": true,
    "tags": []
   },
   "outputs": [
    {
     "data": {
      "text/plain": [
       "array([[[-0.5695774 ],\n",
       "        [-0.38099477],\n",
       "        [-0.16373152],\n",
       "        [ 0.03001991],\n",
       "        [ 0.3510396 ],\n",
       "        [ 0.5214558 ],\n",
       "        [ 0.5188836 ],\n",
       "        [ 0.57440317],\n",
       "        [ 0.46112776],\n",
       "        [ 0.36740083],\n",
       "        [ 0.24170066],\n",
       "        [ 0.18850608],\n",
       "        [ 0.16882268],\n",
       "        [ 0.22516914],\n",
       "        [ 0.17256328],\n",
       "        [ 0.13244057],\n",
       "        [ 0.00751954],\n",
       "        [-0.21356243],\n",
       "        [-0.40912002],\n",
       "        [-0.5282538 ],\n",
       "        [-0.67679435],\n",
       "        [-0.67035145],\n",
       "        [-0.5485076 ],\n",
       "        [-0.47272384],\n",
       "        [-0.1855762 ],\n",
       "        [-0.04468944],\n",
       "        [ 0.16223449],\n",
       "        [ 0.22482458],\n",
       "        [ 0.21386917],\n",
       "        [ 0.25237548],\n",
       "        [ 0.20808461],\n",
       "        [ 0.23528358],\n",
       "        [ 0.32388702],\n",
       "        [ 0.41130972],\n",
       "        [ 0.49730736],\n",
       "        [ 0.5110459 ],\n",
       "        [ 0.48515168],\n",
       "        [ 0.28218812],\n",
       "        [ 0.07388017],\n",
       "        [-0.09332775],\n",
       "        [-0.36263186],\n",
       "        [-0.554466  ],\n",
       "        [-0.62524164],\n",
       "        [-0.6075977 ],\n",
       "        [-0.4634609 ],\n",
       "        [-0.35258183],\n",
       "        [-0.29007745],\n",
       "        [-0.16390465],\n",
       "        [-0.15094051],\n",
       "        [-0.15660457],\n",
       "        [-0.12106632],\n",
       "        [-0.06143082],\n",
       "        [ 0.05516469],\n",
       "        [ 0.20806195],\n",
       "        [ 0.3887439 ],\n",
       "        [ 0.53587687],\n",
       "        [ 0.62325215],\n",
       "        [ 0.62658393],\n",
       "        [ 0.54173213],\n",
       "        [ 0.39767948]]], dtype=float32)"
      ]
     },
     "execution_count": 38,
     "metadata": {},
     "output_type": "execute_result"
    }
   ],
   "source": [
    "X"
   ]
  },
  {
   "cell_type": "code",
   "execution_count": 40,
   "id": "607606c8-660a-4718-a49d-693da2a15a73",
   "metadata": {
    "tags": []
   },
   "outputs": [],
   "source": [
    "y_pred = X[:, n_steps:]"
   ]
  },
  {
   "cell_type": "code",
   "execution_count": 41,
   "id": "a95ce91c-f471-4915-8008-9a12b5c0b293",
   "metadata": {
    "scrolled": true,
    "tags": []
   },
   "outputs": [
    {
     "data": {
      "text/plain": [
       "array([[[-0.12106632],\n",
       "        [-0.06143082],\n",
       "        [ 0.05516469],\n",
       "        [ 0.20806195],\n",
       "        [ 0.3887439 ],\n",
       "        [ 0.53587687],\n",
       "        [ 0.62325215],\n",
       "        [ 0.62658393],\n",
       "        [ 0.54173213],\n",
       "        [ 0.39767948]]], dtype=float32)"
      ]
     },
     "execution_count": 41,
     "metadata": {},
     "output_type": "execute_result"
    }
   ],
   "source": [
    "y_pred"
   ]
  },
  {
   "cell_type": "code",
   "execution_count": 42,
   "id": "752aaf4c-1e70-437a-8cb4-e0f576886ba2",
   "metadata": {
    "tags": []
   },
   "outputs": [
    {
     "data": {
      "text/plain": [
       "1"
      ]
     },
     "execution_count": 42,
     "metadata": {},
     "output_type": "execute_result"
    }
   ],
   "source": [
    "len(y_pred)"
   ]
  },
  {
   "cell_type": "markdown",
   "id": "2bcf96ef-e967-47bf-9c0a-e984cece901f",
   "metadata": {},
   "source": [
    "## #Forecasting several steps ahead using sequence to vector which will predict 10 values at once. We change the targets to be vectors containing the next 10 values\n"
   ]
  },
  {
   "cell_type": "code",
   "execution_count": 52,
   "id": "7ea685ca-c4c9-4de7-8d75-0691b915a6b9",
   "metadata": {},
   "outputs": [],
   "source": [
    "\n",
    "series = generate_time_series(10000, n_steps + 10)\n",
    "X_train, Y_train = series[:7000, :n_steps], series[:7000, -10:, 0]\n",
    "X_valid, Y_valid = series[9000:, :n_steps], series[7000:9000, -10:, 0]\n",
    "X_test, Y_test = series[9000:, :n_steps], series[9000:, -10:, 0]"
   ]
  },
  {
   "cell_type": "code",
   "execution_count": 53,
   "id": "f3c5df2d-f998-4962-864b-7646fd35b8a6",
   "metadata": {},
   "outputs": [
    {
     "data": {
      "text/plain": [
       "60"
      ]
     },
     "execution_count": 53,
     "metadata": {},
     "output_type": "execute_result"
    }
   ],
   "source": [
    "len(series[1])"
   ]
  },
  {
   "cell_type": "code",
   "execution_count": 54,
   "id": "bd2a0257-19c0-4fa0-b275-bb469220cb0b",
   "metadata": {
    "scrolled": true,
    "tags": []
   },
   "outputs": [
    {
     "data": {
      "text/plain": [
       "array([[ 0.00280858],\n",
       "       [-0.12584022],\n",
       "       [-0.28160056],\n",
       "       [-0.4164097 ],\n",
       "       [-0.6396356 ],\n",
       "       [-0.679799  ],\n",
       "       [-0.6104205 ],\n",
       "       [-0.41581166],\n",
       "       [-0.16287628],\n",
       "       [ 0.13651082],\n",
       "       [ 0.4078412 ],\n",
       "       [ 0.5570541 ],\n",
       "       [ 0.5553008 ],\n",
       "       [ 0.52346075],\n",
       "       [ 0.38563707],\n",
       "       [ 0.24012475],\n",
       "       [ 0.09648385],\n",
       "       [ 0.01644529],\n",
       "       [ 0.02098775],\n",
       "       [-0.08378287],\n",
       "       [-0.10747279],\n",
       "       [-0.23251343],\n",
       "       [-0.37753397],\n",
       "       [-0.47485757],\n",
       "       [-0.6185279 ],\n",
       "       [-0.5667253 ],\n",
       "       [-0.46061045],\n",
       "       [-0.23448218],\n",
       "       [-0.02067875],\n",
       "       [ 0.3051825 ],\n",
       "       [ 0.5220473 ],\n",
       "       [ 0.6319044 ],\n",
       "       [ 0.6567312 ],\n",
       "       [ 0.55860204],\n",
       "       [ 0.38981533],\n",
       "       [ 0.17075436],\n",
       "       [ 0.02279919],\n",
       "       [-0.0240273 ],\n",
       "       [-0.1198948 ],\n",
       "       [-0.15816586],\n",
       "       [-0.2356753 ],\n",
       "       [-0.27681813],\n",
       "       [-0.32756704],\n",
       "       [-0.50864714],\n",
       "       [-0.5317629 ],\n",
       "       [-0.5082359 ],\n",
       "       [-0.34166956],\n",
       "       [-0.15171152],\n",
       "       [ 0.18451843],\n",
       "       [ 0.40064663],\n",
       "       [ 0.5766791 ],\n",
       "       [ 0.64439124],\n",
       "       [ 0.5889514 ],\n",
       "       [ 0.44320598],\n",
       "       [ 0.3113343 ],\n",
       "       [ 0.09810748],\n",
       "       [-0.06585409],\n",
       "       [-0.1502968 ],\n",
       "       [-0.2872898 ],\n",
       "       [-0.28148916]], dtype=float32)"
      ]
     },
     "execution_count": 54,
     "metadata": {},
     "output_type": "execute_result"
    }
   ],
   "source": [
    "series[0]"
   ]
  },
  {
   "cell_type": "code",
   "execution_count": 55,
   "id": "aede99f7-920a-47ea-8bc6-9598471c7c31",
   "metadata": {
    "scrolled": true,
    "tags": []
   },
   "outputs": [
    {
     "data": {
      "text/plain": [
       "array([[ 0.00280858],\n",
       "       [-0.12584022],\n",
       "       [-0.28160056],\n",
       "       [-0.4164097 ],\n",
       "       [-0.6396356 ],\n",
       "       [-0.679799  ],\n",
       "       [-0.6104205 ],\n",
       "       [-0.41581166],\n",
       "       [-0.16287628],\n",
       "       [ 0.13651082],\n",
       "       [ 0.4078412 ],\n",
       "       [ 0.5570541 ],\n",
       "       [ 0.5553008 ],\n",
       "       [ 0.52346075],\n",
       "       [ 0.38563707],\n",
       "       [ 0.24012475],\n",
       "       [ 0.09648385],\n",
       "       [ 0.01644529],\n",
       "       [ 0.02098775],\n",
       "       [-0.08378287],\n",
       "       [-0.10747279],\n",
       "       [-0.23251343],\n",
       "       [-0.37753397],\n",
       "       [-0.47485757],\n",
       "       [-0.6185279 ],\n",
       "       [-0.5667253 ],\n",
       "       [-0.46061045],\n",
       "       [-0.23448218],\n",
       "       [-0.02067875],\n",
       "       [ 0.3051825 ],\n",
       "       [ 0.5220473 ],\n",
       "       [ 0.6319044 ],\n",
       "       [ 0.6567312 ],\n",
       "       [ 0.55860204],\n",
       "       [ 0.38981533],\n",
       "       [ 0.17075436],\n",
       "       [ 0.02279919],\n",
       "       [-0.0240273 ],\n",
       "       [-0.1198948 ],\n",
       "       [-0.15816586],\n",
       "       [-0.2356753 ],\n",
       "       [-0.27681813],\n",
       "       [-0.32756704],\n",
       "       [-0.50864714],\n",
       "       [-0.5317629 ],\n",
       "       [-0.5082359 ],\n",
       "       [-0.34166956],\n",
       "       [-0.15171152],\n",
       "       [ 0.18451843],\n",
       "       [ 0.40064663]], dtype=float32)"
      ]
     },
     "execution_count": 55,
     "metadata": {},
     "output_type": "execute_result"
    }
   ],
   "source": [
    "X_train[0]"
   ]
  },
  {
   "cell_type": "code",
   "execution_count": 56,
   "id": "4a78216d-1f7b-484c-b396-5a8323597be3",
   "metadata": {},
   "outputs": [
    {
     "data": {
      "text/plain": [
       "(7000, 50, 1)"
      ]
     },
     "execution_count": 56,
     "metadata": {},
     "output_type": "execute_result"
    }
   ],
   "source": [
    "X_train.shape"
   ]
  },
  {
   "cell_type": "code",
   "execution_count": 57,
   "id": "9a616a9d-e12a-4795-a793-d6b0f5c6b8bd",
   "metadata": {},
   "outputs": [
    {
     "data": {
      "text/plain": [
       "(7000, 10)"
      ]
     },
     "execution_count": 57,
     "metadata": {},
     "output_type": "execute_result"
    }
   ],
   "source": [
    "Y_train.shape"
   ]
  },
  {
   "cell_type": "code",
   "execution_count": 58,
   "id": "49842c3e-a1d2-477e-905c-9e88289729cd",
   "metadata": {},
   "outputs": [
    {
     "data": {
      "text/plain": [
       "array([[ 0.7244786 ,  0.59040457,  0.41794845, ..., -0.42494458,\n",
       "        -0.5252574 , -0.48517585],\n",
       "       [ 0.04606282,  0.18160361,  0.17949845, ...,  0.35320804,\n",
       "         0.39735535,  0.4775305 ],\n",
       "       [ 0.26256037,  0.49562064,  0.63171357, ...,  0.2691886 ,\n",
       "         0.06835045, -0.13918449],\n",
       "       ...,\n",
       "       [-0.44351438, -0.39258578, -0.27588043, ..., -0.16303357,\n",
       "        -0.18024422, -0.17316876],\n",
       "       [-0.68484604, -0.7086375 , -0.687725  , ...,  0.24858944,\n",
       "         0.51757526,  0.60530216],\n",
       "       [ 0.5585058 ,  0.66484386,  0.6632247 , ...,  0.10444341,\n",
       "        -0.04733051, -0.08723141]], dtype=float32)"
      ]
     },
     "execution_count": 58,
     "metadata": {},
     "output_type": "execute_result"
    }
   ],
   "source": [
    "Y_test"
   ]
  },
  {
   "cell_type": "code",
   "execution_count": 59,
   "id": "aaa68e3e-57ce-4879-8ff2-17370fb37307",
   "metadata": {},
   "outputs": [
    {
     "data": {
      "text/plain": [
       "10"
      ]
     },
     "execution_count": 59,
     "metadata": {},
     "output_type": "execute_result"
    }
   ],
   "source": [
    "len(Y_test[1])"
   ]
  },
  {
   "cell_type": "markdown",
   "id": "e790380e-5594-4f19-978a-3ec76d103657",
   "metadata": {},
   "source": [
    "## Defining the model"
   ]
  },
  {
   "cell_type": "code",
   "execution_count": 60,
   "id": "31d355e3-b1b8-4c11-9d2f-388169e6b357",
   "metadata": {},
   "outputs": [],
   "source": [
    "model = Sequential([\n",
    "    keras.layers.SimpleRNN(20, return_sequences = True, input_shape = [None, 1]), \n",
    "    keras.layers.SimpleRNN(20, return_sequences = True),\n",
    "    keras.layers.SimpleRNN(10)\n",
    "])"
   ]
  },
  {
   "cell_type": "code",
   "execution_count": 61,
   "id": "78ae16c4-2e50-42c8-b789-57259abb3cff",
   "metadata": {},
   "outputs": [
    {
     "data": {
      "text/plain": [
       "<keras.callbacks.History at 0x219ce9c94c0>"
      ]
     },
     "execution_count": 61,
     "metadata": {},
     "output_type": "execute_result"
    }
   ],
   "source": [
    "model.compile(optimizer='adam', loss='mse')\n",
    "\n",
    "model.fit(X_train, y_train, epochs=20, verbose=0)"
   ]
  },
  {
   "cell_type": "code",
   "execution_count": 62,
   "id": "669e5e78-535b-4459-b0fb-c87cfe706192",
   "metadata": {},
   "outputs": [],
   "source": [
    "Y_pred = model.predict(X_test)"
   ]
  },
  {
   "cell_type": "code",
   "execution_count": 63,
   "id": "0c286142-316d-42ea-a0bc-e16a15bf1694",
   "metadata": {},
   "outputs": [
    {
     "data": {
      "text/plain": [
       "array([0.04281534, 0.03785443, 0.03800269, 0.04465254, 0.0467888 ,\n",
       "       0.03258369, 0.03043631, 0.03826261, 0.03658772, 0.02425447],\n",
       "      dtype=float32)"
      ]
     },
     "execution_count": 63,
     "metadata": {},
     "output_type": "execute_result"
    }
   ],
   "source": [
    "Y_pred[1]"
   ]
  },
  {
   "cell_type": "code",
   "execution_count": 66,
   "id": "ef5d0aed-7667-4fdb-8fd7-f0c72bacf088",
   "metadata": {},
   "outputs": [
    {
     "data": {
      "text/plain": [
       "array([0.04606282, 0.18160361, 0.17949845, 0.25681373, 0.24071006,\n",
       "       0.18469709, 0.27984127, 0.35320804, 0.39735535, 0.4775305 ],\n",
       "      dtype=float32)"
      ]
     },
     "execution_count": 66,
     "metadata": {},
     "output_type": "execute_result"
    }
   ],
   "source": [
    "Y_test[1]"
   ]
  },
  {
   "cell_type": "code",
   "execution_count": 67,
   "id": "52096f34-c19e-4f6d-8a77-42d6db756b94",
   "metadata": {},
   "outputs": [
    {
     "data": {
      "text/plain": [
       "array([0.0528865 , 0.0430827 , 0.04292096, 0.05541032, 0.04237924,\n",
       "       0.03257058, 0.04025126, 0.04076786, 0.03898058, 0.04033438],\n",
       "      dtype=float32)"
      ]
     },
     "execution_count": 67,
     "metadata": {},
     "output_type": "execute_result"
    }
   ],
   "source": [
    "Y_pred[2]"
   ]
  },
  {
   "cell_type": "code",
   "execution_count": 68,
   "id": "ff830d70-6893-4ca6-8e5f-c7223a1d8a6a",
   "metadata": {},
   "outputs": [
    {
     "data": {
      "text/plain": [
       "array([0.04606282, 0.18160361, 0.17949845, 0.25681373, 0.24071006,\n",
       "       0.18469709, 0.27984127, 0.35320804, 0.39735535, 0.4775305 ],\n",
       "      dtype=float32)"
      ]
     },
     "execution_count": 68,
     "metadata": {},
     "output_type": "execute_result"
    }
   ],
   "source": [
    "Y_test[1]"
   ]
  },
  {
   "cell_type": "code",
   "execution_count": 69,
   "id": "ea06c010-001a-4df4-8aad-2481d359e90b",
   "metadata": {},
   "outputs": [
    {
     "data": {
      "text/plain": [
       "1000"
      ]
     },
     "execution_count": 69,
     "metadata": {},
     "output_type": "execute_result"
    }
   ],
   "source": [
    "len(Y_pred)"
   ]
  },
  {
   "cell_type": "code",
   "execution_count": 70,
   "id": "3b65a913-e133-4d0a-b58f-ec6963399509",
   "metadata": {},
   "outputs": [
    {
     "data": {
      "text/plain": [
       "0.14632745"
      ]
     },
     "execution_count": 70,
     "metadata": {},
     "output_type": "execute_result"
    }
   ],
   "source": [
    "np.mean(keras.losses.mean_squared_error(Y_test, Y_pred))"
   ]
  },
  {
   "cell_type": "markdown",
   "id": "f8672758-705b-4d1f-9092-aea7540a32b0",
   "metadata": {},
   "source": [
    "## To forecast the next 10 values at each and every step."
   ]
  },
  {
   "cell_type": "code",
   "execution_count": 75,
   "id": "845749f4-4c9f-493e-8652-29646fef9682",
   "metadata": {
    "tags": []
   },
   "outputs": [],
   "source": [
    "Y = np.empty((10000, n_steps, 10)) #each target is a sequence of 10D vectors\n",
    "for step_ahead in range(1, 10 + 1):\n",
    "    Y[:, :, step_ahead - 1] = series[:, step_ahead:step_ahead + n_steps, 0]\n",
    "Y_train = Y[:7000]\n",
    "Y_valid = Y[7000:9000]\n",
    "Y_test = Y[9000:]"
   ]
  },
  {
   "cell_type": "code",
   "execution_count": 76,
   "id": "2e1aef13-e864-41f7-9f95-59ed0f1929ae",
   "metadata": {
    "tags": []
   },
   "outputs": [],
   "source": [
    "model = Sequential([\n",
    "    keras.layers.SimpleRNN(20, return_sequences = True, input_shape = [None, 1]), #to output 3D array (containing outputs for all time steps, include return_sequences=True\n",
    "    keras.layers.SimpleRNN(20, return_sequences=True),\n",
    "    keras.layers.Dense(10)\n",
    "])"
   ]
  },
  {
   "cell_type": "code",
   "execution_count": 77,
   "id": "1d3994bd-be58-48df-8b32-498e765e297c",
   "metadata": {
    "tags": []
   },
   "outputs": [],
   "source": [
    "def last_time_step_mse(Y_true, Y_pred):\n",
    "    return keras.metrics.mean_squared_error(Y_true[:, -1], Y_pred[:, -1])"
   ]
  },
  {
   "cell_type": "code",
   "execution_count": 78,
   "id": "d4c15353-b085-4ee7-af10-aa49ab807c5a",
   "metadata": {
    "tags": []
   },
   "outputs": [],
   "source": [
    "#optimizer = keras.optimizers.adam(lr=0.01)\n",
    "model.compile(loss='mse', optimizer = 'adam', metrics = [last_time_step_mse])"
   ]
  },
  {
   "cell_type": "code",
   "execution_count": 79,
   "id": "8845db4b-bf59-4984-b614-b131dadd1b38",
   "metadata": {
    "tags": []
   },
   "outputs": [],
   "source": [
    "y_pred = model.predict(X_test)"
   ]
  },
  {
   "cell_type": "code",
   "execution_count": 80,
   "id": "82f3f812-c3bc-4bf7-83ad-1c7a64b8998d",
   "metadata": {
    "tags": []
   },
   "outputs": [
    {
     "data": {
      "text/plain": [
       "0.34841448"
      ]
     },
     "execution_count": 80,
     "metadata": {},
     "output_type": "execute_result"
    }
   ],
   "source": [
    "np.mean(keras.losses.mean_squared_error(Y_test, y_pred))"
   ]
  },
  {
   "cell_type": "markdown",
   "id": "7e84906e-7358-4022-8a2c-9dd1a3cc172e",
   "metadata": {},
   "source": [
    "# LSTM"
   ]
  },
  {
   "cell_type": "markdown",
   "id": "d0b611b3-933c-4193-8d65-009eb2ddc331",
   "metadata": {},
   "source": [
    "This solves the transformations that the data go through when tranversing RNNs as some information are lost at each time step and so after a while, they contain virtually no trace of the first inputs."
   ]
  },
  {
   "cell_type": "code",
   "execution_count": 95,
   "id": "f6ef6c17-2832-4090-b576-8db6c0e0b90d",
   "metadata": {},
   "outputs": [],
   "source": [
    "Y = np.empty((10000, n_steps, 10)) #each target is a sequence of 10D vectors\n",
    "for step_ahead in range(1, 10 + 1):\n",
    "    Y[:, :, step_ahead - 1] = series[:, step_ahead:step_ahead + n_steps, 0]\n",
    "Y_train = Y[:7000]\n",
    "Y_valid = Y[7000:9000]\n",
    "Y_test = Y[9000:]"
   ]
  },
  {
   "cell_type": "code",
   "execution_count": 96,
   "id": "6009e286-e4df-4029-8737-6b8017522acf",
   "metadata": {},
   "outputs": [],
   "source": [
    "model = Sequential([\n",
    "    keras.layers.LSTM(20, return_sequences = True, input_shape = [None, 1]), #to output 3D array (containing outputs for all time steps, include return_sequences=True\n",
    "    keras.layers.LSTM(20, return_sequences=True),\n",
    "    keras.layers.Dense(10)\n",
    "])"
   ]
  },
  {
   "cell_type": "code",
   "execution_count": 97,
   "id": "d8aaf831-088b-4e78-9b73-99736d710521",
   "metadata": {},
   "outputs": [],
   "source": [
    "model.compile(loss='mse', optimizer = 'adam')"
   ]
  },
  {
   "cell_type": "code",
   "execution_count": 98,
   "id": "a842671b-d073-4a88-98b0-bc40ade8f421",
   "metadata": {},
   "outputs": [
    {
     "data": {
      "text/plain": [
       "<keras.callbacks.History at 0x219d5d70ac0>"
      ]
     },
     "execution_count": 98,
     "metadata": {},
     "output_type": "execute_result"
    }
   ],
   "source": [
    "model.fit(X_train, Y_train, epochs=20, verbose=0)"
   ]
  },
  {
   "cell_type": "code",
   "execution_count": 99,
   "id": "96ce4668-63c5-4365-be15-0c82ef65b659",
   "metadata": {},
   "outputs": [],
   "source": [
    "Y_pred = model.predict(X_test)"
   ]
  },
  {
   "cell_type": "code",
   "execution_count": 100,
   "id": "7d1d41a1-4cb8-49f6-a770-26d2730d48fa",
   "metadata": {},
   "outputs": [
    {
     "data": {
      "text/plain": [
       "0.0236278"
      ]
     },
     "execution_count": 100,
     "metadata": {},
     "output_type": "execute_result"
    }
   ],
   "source": [
    "np.mean(keras.losses.mean_squared_error(Y_test, Y_pred))"
   ]
  },
  {
   "cell_type": "code",
   "execution_count": null,
   "id": "f051fd18-5857-4af8-b67b-d55e82c3fd9e",
   "metadata": {},
   "outputs": [],
   "source": [
    "# LSTMs still have fairly short-term memory. One way to solve this is to shorten the input sequences"
   ]
  },
  {
   "cell_type": "code",
   "execution_count": 104,
   "id": "893d4499-336b-4cd5-9ef2-0a8c77ad173b",
   "metadata": {
    "scrolled": true,
    "tags": []
   },
   "outputs": [
    {
     "data": {
      "text/plain": [
       "50"
      ]
     },
     "execution_count": 104,
     "metadata": {},
     "output_type": "execute_result"
    }
   ],
   "source": [
    "len(Y_test[0])"
   ]
  },
  {
   "cell_type": "code",
   "execution_count": 105,
   "id": "c35e2f8d-49b0-433c-be35-f2de31f57ac7",
   "metadata": {
    "scrolled": true,
    "tags": []
   },
   "outputs": [
    {
     "data": {
      "text/plain": [
       "array([[-0.49398026, -0.45284256, -0.3201904 , -0.21106677, -0.04581986,\n",
       "         0.14840047,  0.28494436,  0.44507152,  0.52914852,  0.55795723],\n",
       "       [-0.45284256, -0.3201904 , -0.21106677, -0.04581986,  0.14840047,\n",
       "         0.28494436,  0.44507152,  0.52914852,  0.55795723,  0.57092935],\n",
       "       [-0.3201904 , -0.21106677, -0.04581986,  0.14840047,  0.28494436,\n",
       "         0.44507152,  0.52914852,  0.55795723,  0.57092935,  0.53048998],\n",
       "       [-0.21106677, -0.04581986,  0.14840047,  0.28494436,  0.44507152,\n",
       "         0.52914852,  0.55795723,  0.57092935,  0.53048998,  0.39229321],\n",
       "       [-0.04581986,  0.14840047,  0.28494436,  0.44507152,  0.52914852,\n",
       "         0.55795723,  0.57092935,  0.53048998,  0.39229321,  0.39022368],\n",
       "       [ 0.14840047,  0.28494436,  0.44507152,  0.52914852,  0.55795723,\n",
       "         0.57092935,  0.53048998,  0.39229321,  0.39022368,  0.2933428 ],\n",
       "       [ 0.28494436,  0.44507152,  0.52914852,  0.55795723,  0.57092935,\n",
       "         0.53048998,  0.39229321,  0.39022368,  0.2933428 ,  0.21165764],\n",
       "       [ 0.44507152,  0.52914852,  0.55795723,  0.57092935,  0.53048998,\n",
       "         0.39229321,  0.39022368,  0.2933428 ,  0.21165764,  0.23238933],\n",
       "       [ 0.52914852,  0.55795723,  0.57092935,  0.53048998,  0.39229321,\n",
       "         0.39022368,  0.2933428 ,  0.21165764,  0.23238933,  0.20170416],\n",
       "       [ 0.55795723,  0.57092935,  0.53048998,  0.39229321,  0.39022368,\n",
       "         0.2933428 ,  0.21165764,  0.23238933,  0.20170416,  0.30458787],\n",
       "       [ 0.57092935,  0.53048998,  0.39229321,  0.39022368,  0.2933428 ,\n",
       "         0.21165764,  0.23238933,  0.20170416,  0.30458787,  0.25172856],\n",
       "       [ 0.53048998,  0.39229321,  0.39022368,  0.2933428 ,  0.21165764,\n",
       "         0.23238933,  0.20170416,  0.30458787,  0.25172856,  0.29094902],\n",
       "       [ 0.39229321,  0.39022368,  0.2933428 ,  0.21165764,  0.23238933,\n",
       "         0.20170416,  0.30458787,  0.25172856,  0.29094902,  0.15295081],\n",
       "       [ 0.39022368,  0.2933428 ,  0.21165764,  0.23238933,  0.20170416,\n",
       "         0.30458787,  0.25172856,  0.29094902,  0.15295081,  0.06921594],\n",
       "       [ 0.2933428 ,  0.21165764,  0.23238933,  0.20170416,  0.30458787,\n",
       "         0.25172856,  0.29094902,  0.15295081,  0.06921594, -0.07012434],\n",
       "       [ 0.21165764,  0.23238933,  0.20170416,  0.30458787,  0.25172856,\n",
       "         0.29094902,  0.15295081,  0.06921594, -0.07012434, -0.23191272],\n",
       "       [ 0.23238933,  0.20170416,  0.30458787,  0.25172856,  0.29094902,\n",
       "         0.15295081,  0.06921594, -0.07012434, -0.23191272, -0.41859514],\n",
       "       [ 0.20170416,  0.30458787,  0.25172856,  0.29094902,  0.15295081,\n",
       "         0.06921594, -0.07012434, -0.23191272, -0.41859514, -0.56157315],\n",
       "       [ 0.30458787,  0.25172856,  0.29094902,  0.15295081,  0.06921594,\n",
       "        -0.07012434, -0.23191272, -0.41859514, -0.56157315, -0.65578359],\n",
       "       [ 0.25172856,  0.29094902,  0.15295081,  0.06921594, -0.07012434,\n",
       "        -0.23191272, -0.41859514, -0.56157315, -0.65578359, -0.7186445 ],\n",
       "       [ 0.29094902,  0.15295081,  0.06921594, -0.07012434, -0.23191272,\n",
       "        -0.41859514, -0.56157315, -0.65578359, -0.7186445 , -0.63712656],\n",
       "       [ 0.15295081,  0.06921594, -0.07012434, -0.23191272, -0.41859514,\n",
       "        -0.56157315, -0.65578359, -0.7186445 , -0.63712656, -0.55885524],\n",
       "       [ 0.06921594, -0.07012434, -0.23191272, -0.41859514, -0.56157315,\n",
       "        -0.65578359, -0.7186445 , -0.63712656, -0.55885524, -0.47705957],\n",
       "       [-0.07012434, -0.23191272, -0.41859514, -0.56157315, -0.65578359,\n",
       "        -0.7186445 , -0.63712656, -0.55885524, -0.47705957, -0.34510973],\n",
       "       [-0.23191272, -0.41859514, -0.56157315, -0.65578359, -0.7186445 ,\n",
       "        -0.63712656, -0.55885524, -0.47705957, -0.34510973, -0.18915318],\n",
       "       [-0.41859514, -0.56157315, -0.65578359, -0.7186445 , -0.63712656,\n",
       "        -0.55885524, -0.47705957, -0.34510973, -0.18915318, -0.08716421],\n",
       "       [-0.56157315, -0.65578359, -0.7186445 , -0.63712656, -0.55885524,\n",
       "        -0.47705957, -0.34510973, -0.18915318, -0.08716421, -0.04450017],\n",
       "       [-0.65578359, -0.7186445 , -0.63712656, -0.55885524, -0.47705957,\n",
       "        -0.34510973, -0.18915318, -0.08716421, -0.04450017,  0.00429972],\n",
       "       [-0.7186445 , -0.63712656, -0.55885524, -0.47705957, -0.34510973,\n",
       "        -0.18915318, -0.08716421, -0.04450017,  0.00429972, -0.0178545 ],\n",
       "       [-0.63712656, -0.55885524, -0.47705957, -0.34510973, -0.18915318,\n",
       "        -0.08716421, -0.04450017,  0.00429972, -0.0178545 ,  0.00285447],\n",
       "       [-0.55885524, -0.47705957, -0.34510973, -0.18915318, -0.08716421,\n",
       "        -0.04450017,  0.00429972, -0.0178545 ,  0.00285447, -0.01521611],\n",
       "       [-0.47705957, -0.34510973, -0.18915318, -0.08716421, -0.04450017,\n",
       "         0.00429972, -0.0178545 ,  0.00285447, -0.01521611,  0.0707917 ],\n",
       "       [-0.34510973, -0.18915318, -0.08716421, -0.04450017,  0.00429972,\n",
       "        -0.0178545 ,  0.00285447, -0.01521611,  0.0707917 ,  0.04630543],\n",
       "       [-0.18915318, -0.08716421, -0.04450017,  0.00429972, -0.0178545 ,\n",
       "         0.00285447, -0.01521611,  0.0707917 ,  0.04630543,  0.13793677],\n",
       "       [-0.08716421, -0.04450017,  0.00429972, -0.0178545 ,  0.00285447,\n",
       "        -0.01521611,  0.0707917 ,  0.04630543,  0.13793677,  0.33321089],\n",
       "       [-0.04450017,  0.00429972, -0.0178545 ,  0.00285447, -0.01521611,\n",
       "         0.0707917 ,  0.04630543,  0.13793677,  0.33321089,  0.49191099],\n",
       "       [ 0.00429972, -0.0178545 ,  0.00285447, -0.01521611,  0.0707917 ,\n",
       "         0.04630543,  0.13793677,  0.33321089,  0.49191099,  0.54442096],\n",
       "       [-0.0178545 ,  0.00285447, -0.01521611,  0.0707917 ,  0.04630543,\n",
       "         0.13793677,  0.33321089,  0.49191099,  0.54442096,  0.69339466],\n",
       "       [ 0.00285447, -0.01521611,  0.0707917 ,  0.04630543,  0.13793677,\n",
       "         0.33321089,  0.49191099,  0.54442096,  0.69339466,  0.72329193],\n",
       "       [-0.01521611,  0.0707917 ,  0.04630543,  0.13793677,  0.33321089,\n",
       "         0.49191099,  0.54442096,  0.69339466,  0.72329193,  0.70688295],\n",
       "       [ 0.0707917 ,  0.04630543,  0.13793677,  0.33321089,  0.49191099,\n",
       "         0.54442096,  0.69339466,  0.72329193,  0.70688295,  0.57275176],\n",
       "       [ 0.04630543,  0.13793677,  0.33321089,  0.49191099,  0.54442096,\n",
       "         0.69339466,  0.72329193,  0.70688295,  0.57275176,  0.47412914],\n",
       "       [ 0.13793677,  0.33321089,  0.49191099,  0.54442096,  0.69339466,\n",
       "         0.72329193,  0.70688295,  0.57275176,  0.47412914,  0.24621002],\n",
       "       [ 0.33321089,  0.49191099,  0.54442096,  0.69339466,  0.72329193,\n",
       "         0.70688295,  0.57275176,  0.47412914,  0.24621002,  0.1524056 ],\n",
       "       [ 0.49191099,  0.54442096,  0.69339466,  0.72329193,  0.70688295,\n",
       "         0.57275176,  0.47412914,  0.24621002,  0.1524056 , -0.02395271],\n",
       "       [ 0.54442096,  0.69339466,  0.72329193,  0.70688295,  0.57275176,\n",
       "         0.47412914,  0.24621002,  0.1524056 , -0.02395271, -0.17953487],\n",
       "       [ 0.69339466,  0.72329193,  0.70688295,  0.57275176,  0.47412914,\n",
       "         0.24621002,  0.1524056 , -0.02395271, -0.17953487, -0.18111774],\n",
       "       [ 0.72329193,  0.70688295,  0.57275176,  0.47412914,  0.24621002,\n",
       "         0.1524056 , -0.02395271, -0.17953487, -0.18111774, -0.2645742 ],\n",
       "       [ 0.70688295,  0.57275176,  0.47412914,  0.24621002,  0.1524056 ,\n",
       "        -0.02395271, -0.17953487, -0.18111774, -0.2645742 , -0.20707181],\n",
       "       [ 0.57275176,  0.47412914,  0.24621002,  0.1524056 , -0.02395271,\n",
       "        -0.17953487, -0.18111774, -0.2645742 , -0.20707181, -0.17912754]])"
      ]
     },
     "execution_count": 105,
     "metadata": {},
     "output_type": "execute_result"
    }
   ],
   "source": [
    "Y_test[0]"
   ]
  },
  {
   "cell_type": "code",
   "execution_count": 107,
   "id": "0ee73604-676c-4238-a356-e06aad5b4691",
   "metadata": {
    "scrolled": true,
    "tags": []
   },
   "outputs": [
    {
     "data": {
      "text/plain": [
       "array([[-0.24263163, -0.24546051, -0.19235677, -0.1935378 , -0.08732446,\n",
       "        -0.0356375 ,  0.02993054,  0.04568681,  0.09808579,  0.12600723],\n",
       "       [-0.25336963, -0.23300172, -0.19685543, -0.13073859, -0.05164555,\n",
       "         0.01619665,  0.0742183 ,  0.13876797,  0.17317508,  0.19365364],\n",
       "       [-0.33623925, -0.31823057, -0.255484  , -0.17058964, -0.08442357,\n",
       "         0.0162501 ,  0.10370114,  0.21031529,  0.25215134,  0.28375143],\n",
       "       [-0.3208518 , -0.26748583, -0.16700956, -0.08449168, -0.00948718,\n",
       "         0.06510265,  0.1395741 ,  0.22048801,  0.25946856,  0.27926716],\n",
       "       [-0.39267334, -0.35185057, -0.22760047, -0.15838572, -0.04263956,\n",
       "         0.05517788,  0.16538316,  0.2542358 ,  0.31078303,  0.3280087 ],\n",
       "       [-0.44235438, -0.38766134, -0.24893643, -0.16032933, -0.01734095,\n",
       "         0.09021384,  0.2129652 ,  0.29675794,  0.3536192 ,  0.35335416],\n",
       "       [-0.3958512 , -0.28886482, -0.14092213, -0.02633705,  0.10604025,\n",
       "         0.19250971,  0.2780389 ,  0.3160646 ,  0.35438696,  0.32050535],\n",
       "       [-0.37010106, -0.25055486, -0.10453676,  0.0180302 ,  0.15432617,\n",
       "         0.24806431,  0.32392237,  0.34247443,  0.36912447,  0.32298568],\n",
       "       [-0.37989023, -0.2691071 , -0.13353638,  0.00187393,  0.14992699,\n",
       "         0.2642448 ,  0.3528293 ,  0.38264316,  0.40329888,  0.36213532],\n",
       "       [-0.35126343, -0.22696513, -0.10058083,  0.05084788,  0.18975763,\n",
       "         0.29973435,  0.37620297,  0.40355033,  0.41600394,  0.37596214],\n",
       "       [-0.11718516,  0.08631404,  0.22550517,  0.35687676,  0.424247  ,\n",
       "         0.4346533 ,  0.41216847,  0.34878528,  0.32454643,  0.2428339 ],\n",
       "       [ 0.0125569 ,  0.1739765 ,  0.27900168,  0.35559544,  0.41373032,\n",
       "         0.4312778 ,  0.4106165 ,  0.34412673,  0.3165242 ,  0.2426178 ],\n",
       "       [ 0.22931397,  0.39407378,  0.4829601 ,  0.5174068 ,  0.52333903,\n",
       "         0.48039573,  0.41068798,  0.31358773,  0.25092655,  0.14834127],\n",
       "       [ 0.362868  ,  0.47897518,  0.52903736,  0.51090384,  0.48160428,\n",
       "         0.44211277,  0.34855723,  0.26102135,  0.19359073,  0.09545454],\n",
       "       [ 0.44116727,  0.49990857,  0.51701564,  0.4705191 ,  0.41845703,\n",
       "         0.3859142 ,  0.28203753,  0.21543092,  0.13401935,  0.03162488],\n",
       "       [ 0.53695977,  0.5558968 ,  0.5558866 ,  0.4778019 ,  0.397755  ,\n",
       "         0.3332471 ,  0.20065336,  0.10646048, -0.00088217, -0.12001797],\n",
       "       [ 0.6078702 ,  0.58078015,  0.5530172 ,  0.42734876,  0.3160413 ,\n",
       "         0.20859498,  0.05537905, -0.07985304, -0.18999587, -0.2919166 ],\n",
       "       [ 0.6097995 ,  0.5282146 ,  0.4459559 ,  0.29015687,  0.16185178,\n",
       "         0.03276699, -0.1073102 , -0.24099554, -0.3276998 , -0.38534567],\n",
       "       [ 0.6627817 ,  0.5631816 ,  0.43804625,  0.248548  ,  0.08262199,\n",
       "        -0.11493108, -0.2719384 , -0.42930958, -0.49900025, -0.5127572 ],\n",
       "       [ 0.5618876 ,  0.42261946,  0.23246862,  0.04501006, -0.12584883,\n",
       "        -0.28778416, -0.40712127, -0.4834184 , -0.49250618, -0.43794444],\n",
       "       [ 0.40087506,  0.22097956,  0.01530106, -0.14773288, -0.29204068,\n",
       "        -0.38535184, -0.43708983, -0.41864565, -0.39595637, -0.31202763],\n",
       "       [ 0.2177594 ,  0.00740981, -0.16545178, -0.30522025, -0.39695206,\n",
       "        -0.4203448 , -0.40993705, -0.337573  , -0.30649805, -0.22622094],\n",
       "       [ 0.13453777, -0.05564499, -0.16573505, -0.28674358, -0.34514436,\n",
       "        -0.36966527, -0.3638062 , -0.32778883, -0.3289959 , -0.29104957],\n",
       "       [-0.00920336, -0.17883655, -0.24531855, -0.33983713, -0.3669575 ,\n",
       "        -0.36776516, -0.3650824 , -0.33276558, -0.33783704, -0.30870727],\n",
       "       [-0.11238961, -0.24970587, -0.27468193, -0.3485353 , -0.3575754 ,\n",
       "        -0.36239403, -0.37105057, -0.35700956, -0.36984095, -0.34690154],\n",
       "       [-0.17107101, -0.27060205, -0.2681311 , -0.33402857, -0.3437142 ,\n",
       "        -0.3710549 , -0.39738134, -0.40615824, -0.41678178, -0.38569632],\n",
       "       [-0.22416773, -0.30614895, -0.30005682, -0.3659292 , -0.37827376,\n",
       "        -0.4179543 , -0.43806046, -0.44296274, -0.4344824 , -0.37261334],\n",
       "       [-0.2532434 , -0.3309806 , -0.3363211 , -0.40446433, -0.41938412,\n",
       "        -0.46528783, -0.464462  , -0.4531633 , -0.42319167, -0.33211815],\n",
       "       [-0.20987849, -0.27433673, -0.29131353, -0.3735375 , -0.41234   ,\n",
       "        -0.48360357, -0.48980278, -0.4852711 , -0.44238767, -0.33795238],\n",
       "       [-0.20272474, -0.27669293, -0.324654  , -0.41666383, -0.4737797 ,\n",
       "        -0.5336005 , -0.53216606, -0.49818018, -0.4243975 , -0.286273  ],\n",
       "       [-0.215358  , -0.30130696, -0.37684035, -0.4654746 , -0.52674603,\n",
       "        -0.55454415, -0.5395005 , -0.46767002, -0.36576307, -0.20796527],\n",
       "       [-0.32250345, -0.42368305, -0.52506846, -0.5728346 , -0.59779376,\n",
       "        -0.5405681 , -0.4809598 , -0.3391571 , -0.20100255, -0.03345156],\n",
       "       [-0.30503026, -0.3747685 , -0.4346585 , -0.47227913, -0.48899132,\n",
       "        -0.43682024, -0.40561008, -0.29205704, -0.16658854, -0.032969  ],\n",
       "       [-0.34328777, -0.39513838, -0.43824473, -0.4741905 , -0.49554133,\n",
       "        -0.42564312, -0.4106026 , -0.29207706, -0.13504265,  0.03032358],\n",
       "       [-0.45876884, -0.5149601 , -0.56205964, -0.5510441 , -0.5136906 ,\n",
       "        -0.3738102 , -0.28156036, -0.10877623,  0.08073097,  0.25309744],\n",
       "       [-0.47058207, -0.50513035, -0.49345112, -0.4438458 , -0.34112182,\n",
       "        -0.20018153, -0.05812334,  0.09607661,  0.24401143,  0.35646108],\n",
       "       [-0.37932402, -0.3629856 , -0.2777664 , -0.23453046, -0.1290468 ,\n",
       "        -0.05302885,  0.0618056 ,  0.14770895,  0.2520612 ,  0.32598376],\n",
       "       [-0.41332158, -0.38918835, -0.31411883, -0.23489681, -0.09860844,\n",
       "         0.01536907,  0.18374704,  0.30270535,  0.425338  ,  0.5076882 ],\n",
       "       [-0.47470048, -0.4457137 , -0.359351  , -0.21031182, -0.02484579,\n",
       "         0.1523725 ,  0.37988624,  0.5396391 ,  0.6401553 ,  0.7003869 ],\n",
       "       [-0.40174222, -0.32355958, -0.1709238 , -0.0011908 ,  0.18036193,\n",
       "         0.342143  ,  0.5152568 ,  0.6152878 ,  0.6509634 ,  0.66433537],\n",
       "       [-0.30869853, -0.19696315, -0.02196881,  0.14469114,  0.31307352,\n",
       "         0.46027055,  0.57389   ,  0.6107701 ,  0.6130945 ,  0.6040621 ],\n",
       "       [-0.19856839, -0.06894973,  0.1028481 ,  0.26155594,  0.41120136,\n",
       "         0.5328407 ,  0.5996743 ,  0.591164  ,  0.5647331 ,  0.53481036],\n",
       "       [-0.05510573,  0.09062076,  0.24473199,  0.38726637,  0.5023938 ,\n",
       "         0.57559645,  0.5958035 ,  0.55720186,  0.5068015 ,  0.4507273 ],\n",
       "       [ 0.08068138,  0.22660618,  0.3450911 ,  0.46383485,  0.5421501 ,\n",
       "         0.57589024,  0.5654845 ,  0.5214409 ,  0.4664025 ,  0.3975371 ],\n",
       "       [ 0.24266249,  0.38390136,  0.47022343,  0.5471196 ,  0.57814676,\n",
       "         0.56156266,  0.5105928 ,  0.45393932,  0.39612752,  0.3154361 ],\n",
       "       [ 0.3755479 ,  0.48815364,  0.5320396 ,  0.55985844,  0.5483187 ,\n",
       "         0.5004691 ,  0.4252676 ,  0.36922625,  0.32283434,  0.24742721],\n",
       "       [ 0.5002037 ,  0.57202476,  0.5772283 ,  0.5534476 ,  0.5032133 ,\n",
       "         0.42257646,  0.33283257,  0.2711249 ,  0.22904187,  0.15384907],\n",
       "       [ 0.5860262 ,  0.6053745 ,  0.56890696,  0.5002222 ,  0.4243585 ,\n",
       "         0.323859  ,  0.24081436,  0.1748108 ,  0.13709894,  0.06240732],\n",
       "       [ 0.6186422 ,  0.5854667 ,  0.5101665 ,  0.4134107 ,  0.32867157,\n",
       "         0.22784719,  0.16527013,  0.09928903,  0.06318115, -0.01623257],\n",
       "       [ 0.63046575,  0.5626304 ,  0.4659623 ,  0.3450656 ,  0.25041407,\n",
       "         0.14675312,  0.08501884, -0.00094809, -0.04273306, -0.12903361]],\n",
       "      dtype=float32)"
      ]
     },
     "execution_count": 107,
     "metadata": {},
     "output_type": "execute_result"
    }
   ],
   "source": [
    "Y_pred[1]"
   ]
  },
  {
   "cell_type": "code",
   "execution_count": 108,
   "id": "c3793680-e050-4d2a-bdf7-b956b9854fa0",
   "metadata": {},
   "outputs": [
    {
     "data": {
      "text/plain": [
       "0.0236278"
      ]
     },
     "execution_count": 108,
     "metadata": {},
     "output_type": "execute_result"
    }
   ],
   "source": [
    "np.mean(keras.losses.mean_squared_error(Y_test, Y_pred))"
   ]
  },
  {
   "cell_type": "markdown",
   "id": "71eed1c4-7c66-4b8f-9bdb-dd560e86e0d2",
   "metadata": {},
   "source": [
    "# CNN"
   ]
  },
  {
   "cell_type": "markdown",
   "id": "a0cbef7b-e574-4869-8a43-ab34ec155788",
   "metadata": {},
   "source": [
    "Stride is the shift from one receptive field to the next, filters are neurons weights, padding is either set to SAME(then there is zero padding) or VALID(the layer ignores some rows and columns of the input i.e every neuron's receptive field lies strictly within the valid position inside thhe input)."
   ]
  },
  {
   "cell_type": "code",
   "execution_count": 112,
   "id": "c3e5d002-9771-446b-ad0f-9c29d57f0917",
   "metadata": {},
   "outputs": [],
   "source": [
    "series = generate_time_series(10000, n_steps + 10)\n",
    "X_train, Y_train = series[:7000, :n_steps], series[:7000, -10:, 0]\n",
    "X_valid, Y_valid = series[9000:, :n_steps], series[7000:9000, -10:, 0]\n",
    "X_test, Y_test = series[9000:, :n_steps], series[9000:, -10:, 0]"
   ]
  },
  {
   "cell_type": "code",
   "execution_count": 113,
   "id": "b078667f-1cb1-40b3-80c9-2d9a37b45255",
   "metadata": {},
   "outputs": [],
   "source": [
    "model = Sequential([\n",
    "    keras.layers.Conv1D(filters=20,  kernel_size=4, strides=2, padding='valid', input_shape = [None, 1], activation = 'relu'), #to output 3D array (containing outputs for all time steps, include return_sequences=True\n",
    "    keras.layers.Dense(10)\n",
    "])"
   ]
  },
  {
   "cell_type": "code",
   "execution_count": 114,
   "id": "8550b3ec-e6cf-479d-ab02-99c52c93902c",
   "metadata": {},
   "outputs": [],
   "source": [
    "model.compile(loss='mse', optimizer = 'adam')"
   ]
  },
  {
   "cell_type": "code",
   "execution_count": 115,
   "id": "62073380-8b3c-41a1-8b9d-8ecb513f28af",
   "metadata": {},
   "outputs": [
    {
     "ename": "InvalidArgumentError",
     "evalue": "Graph execution error:\n\nDetected at node 'mean_squared_error/SquaredDifference' defined at (most recent call last):\n    File \"C:\\Users\\e.olalekan-elesin\\Anaconda3\\lib\\runpy.py\", line 197, in _run_module_as_main\n      return _run_code(code, main_globals, None,\n    File \"C:\\Users\\e.olalekan-elesin\\Anaconda3\\lib\\runpy.py\", line 87, in _run_code\n      exec(code, run_globals)\n    File \"C:\\Users\\e.olalekan-elesin\\Anaconda3\\lib\\site-packages\\ipykernel_launcher.py\", line 16, in <module>\n      app.launch_new_instance()\n    File \"C:\\Users\\e.olalekan-elesin\\Anaconda3\\lib\\site-packages\\traitlets\\config\\application.py\", line 846, in launch_instance\n      app.start()\n    File \"C:\\Users\\e.olalekan-elesin\\Anaconda3\\lib\\site-packages\\ipykernel\\kernelapp.py\", line 677, in start\n      self.io_loop.start()\n    File \"C:\\Users\\e.olalekan-elesin\\Anaconda3\\lib\\site-packages\\tornado\\platform\\asyncio.py\", line 199, in start\n      self.asyncio_loop.run_forever()\n    File \"C:\\Users\\e.olalekan-elesin\\Anaconda3\\lib\\asyncio\\base_events.py\", line 596, in run_forever\n      self._run_once()\n    File \"C:\\Users\\e.olalekan-elesin\\Anaconda3\\lib\\asyncio\\base_events.py\", line 1890, in _run_once\n      handle._run()\n    File \"C:\\Users\\e.olalekan-elesin\\Anaconda3\\lib\\asyncio\\events.py\", line 80, in _run\n      self._context.run(self._callback, *self._args)\n    File \"C:\\Users\\e.olalekan-elesin\\Anaconda3\\lib\\site-packages\\ipykernel\\kernelbase.py\", line 457, in dispatch_queue\n      await self.process_one()\n    File \"C:\\Users\\e.olalekan-elesin\\Anaconda3\\lib\\site-packages\\ipykernel\\kernelbase.py\", line 446, in process_one\n      await dispatch(*args)\n    File \"C:\\Users\\e.olalekan-elesin\\Anaconda3\\lib\\site-packages\\ipykernel\\kernelbase.py\", line 353, in dispatch_shell\n      await result\n    File \"C:\\Users\\e.olalekan-elesin\\Anaconda3\\lib\\site-packages\\ipykernel\\kernelbase.py\", line 648, in execute_request\n      reply_content = await reply_content\n    File \"C:\\Users\\e.olalekan-elesin\\Anaconda3\\lib\\site-packages\\ipykernel\\ipkernel.py\", line 353, in do_execute\n      res = shell.run_cell(code, store_history=store_history, silent=silent)\n    File \"C:\\Users\\e.olalekan-elesin\\Anaconda3\\lib\\site-packages\\ipykernel\\zmqshell.py\", line 533, in run_cell\n      return super(ZMQInteractiveShell, self).run_cell(*args, **kwargs)\n    File \"C:\\Users\\e.olalekan-elesin\\Anaconda3\\lib\\site-packages\\IPython\\core\\interactiveshell.py\", line 2901, in run_cell\n      result = self._run_cell(\n    File \"C:\\Users\\e.olalekan-elesin\\Anaconda3\\lib\\site-packages\\IPython\\core\\interactiveshell.py\", line 2947, in _run_cell\n      return runner(coro)\n    File \"C:\\Users\\e.olalekan-elesin\\Anaconda3\\lib\\site-packages\\IPython\\core\\async_helpers.py\", line 68, in _pseudo_sync_runner\n      coro.send(None)\n    File \"C:\\Users\\e.olalekan-elesin\\Anaconda3\\lib\\site-packages\\IPython\\core\\interactiveshell.py\", line 3172, in run_cell_async\n      has_raised = await self.run_ast_nodes(code_ast.body, cell_name,\n    File \"C:\\Users\\e.olalekan-elesin\\Anaconda3\\lib\\site-packages\\IPython\\core\\interactiveshell.py\", line 3364, in run_ast_nodes\n      if (await self.run_code(code, result,  async_=asy)):\n    File \"C:\\Users\\e.olalekan-elesin\\Anaconda3\\lib\\site-packages\\IPython\\core\\interactiveshell.py\", line 3444, in run_code\n      exec(code_obj, self.user_global_ns, self.user_ns)\n    File \"C:\\Users\\E3867~1.OLA\\AppData\\Local\\Temp/ipykernel_20912/813590747.py\", line 1, in <module>\n      model.fit(X_train, Y_train, epochs=20, verbose=0)\n    File \"C:\\Users\\e.olalekan-elesin\\Anaconda3\\lib\\site-packages\\keras\\utils\\traceback_utils.py\", line 64, in error_handler\n      return fn(*args, **kwargs)\n    File \"C:\\Users\\e.olalekan-elesin\\Anaconda3\\lib\\site-packages\\keras\\engine\\training.py\", line 1384, in fit\n      tmp_logs = self.train_function(iterator)\n    File \"C:\\Users\\e.olalekan-elesin\\Anaconda3\\lib\\site-packages\\keras\\engine\\training.py\", line 1021, in train_function\n      return step_function(self, iterator)\n    File \"C:\\Users\\e.olalekan-elesin\\Anaconda3\\lib\\site-packages\\keras\\engine\\training.py\", line 1010, in step_function\n      outputs = model.distribute_strategy.run(run_step, args=(data,))\n    File \"C:\\Users\\e.olalekan-elesin\\Anaconda3\\lib\\site-packages\\keras\\engine\\training.py\", line 1000, in run_step\n      outputs = model.train_step(data)\n    File \"C:\\Users\\e.olalekan-elesin\\Anaconda3\\lib\\site-packages\\keras\\engine\\training.py\", line 860, in train_step\n      loss = self.compute_loss(x, y, y_pred, sample_weight)\n    File \"C:\\Users\\e.olalekan-elesin\\Anaconda3\\lib\\site-packages\\keras\\engine\\training.py\", line 918, in compute_loss\n      return self.compiled_loss(\n    File \"C:\\Users\\e.olalekan-elesin\\Anaconda3\\lib\\site-packages\\keras\\engine\\compile_utils.py\", line 201, in __call__\n      loss_value = loss_obj(y_t, y_p, sample_weight=sw)\n    File \"C:\\Users\\e.olalekan-elesin\\Anaconda3\\lib\\site-packages\\keras\\losses.py\", line 141, in __call__\n      losses = call_fn(y_true, y_pred)\n    File \"C:\\Users\\e.olalekan-elesin\\Anaconda3\\lib\\site-packages\\keras\\losses.py\", line 245, in call\n      return ag_fn(y_true, y_pred, **self._fn_kwargs)\n    File \"C:\\Users\\e.olalekan-elesin\\Anaconda3\\lib\\site-packages\\keras\\losses.py\", line 1329, in mean_squared_error\n      return backend.mean(tf.math.squared_difference(y_pred, y_true), axis=-1)\nNode: 'mean_squared_error/SquaredDifference'\nIncompatible shapes: [32,10] vs. [32,24,10]\n\t [[{{node mean_squared_error/SquaredDifference}}]] [Op:__inference_train_function_76928]",
     "output_type": "error",
     "traceback": [
      "\u001b[1;31m---------------------------------------------------------------------------\u001b[0m",
      "\u001b[1;31mInvalidArgumentError\u001b[0m                      Traceback (most recent call last)",
      "\u001b[1;32mC:\\Users\\E3867~1.OLA\\AppData\\Local\\Temp/ipykernel_20912/813590747.py\u001b[0m in \u001b[0;36m<module>\u001b[1;34m\u001b[0m\n\u001b[1;32m----> 1\u001b[1;33m \u001b[0mmodel\u001b[0m\u001b[1;33m.\u001b[0m\u001b[0mfit\u001b[0m\u001b[1;33m(\u001b[0m\u001b[0mX_train\u001b[0m\u001b[1;33m,\u001b[0m \u001b[0mY_train\u001b[0m\u001b[1;33m,\u001b[0m \u001b[0mepochs\u001b[0m\u001b[1;33m=\u001b[0m\u001b[1;36m20\u001b[0m\u001b[1;33m,\u001b[0m \u001b[0mverbose\u001b[0m\u001b[1;33m=\u001b[0m\u001b[1;36m0\u001b[0m\u001b[1;33m)\u001b[0m\u001b[1;33m\u001b[0m\u001b[1;33m\u001b[0m\u001b[0m\n\u001b[0m",
      "\u001b[1;32m~\\Anaconda3\\lib\\site-packages\\keras\\utils\\traceback_utils.py\u001b[0m in \u001b[0;36merror_handler\u001b[1;34m(*args, **kwargs)\u001b[0m\n\u001b[0;32m     65\u001b[0m     \u001b[1;32mexcept\u001b[0m \u001b[0mException\u001b[0m \u001b[1;32mas\u001b[0m \u001b[0me\u001b[0m\u001b[1;33m:\u001b[0m  \u001b[1;31m# pylint: disable=broad-except\u001b[0m\u001b[1;33m\u001b[0m\u001b[1;33m\u001b[0m\u001b[0m\n\u001b[0;32m     66\u001b[0m       \u001b[0mfiltered_tb\u001b[0m \u001b[1;33m=\u001b[0m \u001b[0m_process_traceback_frames\u001b[0m\u001b[1;33m(\u001b[0m\u001b[0me\u001b[0m\u001b[1;33m.\u001b[0m\u001b[0m__traceback__\u001b[0m\u001b[1;33m)\u001b[0m\u001b[1;33m\u001b[0m\u001b[1;33m\u001b[0m\u001b[0m\n\u001b[1;32m---> 67\u001b[1;33m       \u001b[1;32mraise\u001b[0m \u001b[0me\u001b[0m\u001b[1;33m.\u001b[0m\u001b[0mwith_traceback\u001b[0m\u001b[1;33m(\u001b[0m\u001b[0mfiltered_tb\u001b[0m\u001b[1;33m)\u001b[0m \u001b[1;32mfrom\u001b[0m \u001b[1;32mNone\u001b[0m\u001b[1;33m\u001b[0m\u001b[1;33m\u001b[0m\u001b[0m\n\u001b[0m\u001b[0;32m     68\u001b[0m     \u001b[1;32mfinally\u001b[0m\u001b[1;33m:\u001b[0m\u001b[1;33m\u001b[0m\u001b[1;33m\u001b[0m\u001b[0m\n\u001b[0;32m     69\u001b[0m       \u001b[1;32mdel\u001b[0m \u001b[0mfiltered_tb\u001b[0m\u001b[1;33m\u001b[0m\u001b[1;33m\u001b[0m\u001b[0m\n",
      "\u001b[1;32m~\\Anaconda3\\lib\\site-packages\\tensorflow\\python\\eager\\execute.py\u001b[0m in \u001b[0;36mquick_execute\u001b[1;34m(op_name, num_outputs, inputs, attrs, ctx, name)\u001b[0m\n\u001b[0;32m     52\u001b[0m   \u001b[1;32mtry\u001b[0m\u001b[1;33m:\u001b[0m\u001b[1;33m\u001b[0m\u001b[1;33m\u001b[0m\u001b[0m\n\u001b[0;32m     53\u001b[0m     \u001b[0mctx\u001b[0m\u001b[1;33m.\u001b[0m\u001b[0mensure_initialized\u001b[0m\u001b[1;33m(\u001b[0m\u001b[1;33m)\u001b[0m\u001b[1;33m\u001b[0m\u001b[1;33m\u001b[0m\u001b[0m\n\u001b[1;32m---> 54\u001b[1;33m     tensors = pywrap_tfe.TFE_Py_Execute(ctx._handle, device_name, op_name,\n\u001b[0m\u001b[0;32m     55\u001b[0m                                         inputs, attrs, num_outputs)\n\u001b[0;32m     56\u001b[0m   \u001b[1;32mexcept\u001b[0m \u001b[0mcore\u001b[0m\u001b[1;33m.\u001b[0m\u001b[0m_NotOkStatusException\u001b[0m \u001b[1;32mas\u001b[0m \u001b[0me\u001b[0m\u001b[1;33m:\u001b[0m\u001b[1;33m\u001b[0m\u001b[1;33m\u001b[0m\u001b[0m\n",
      "\u001b[1;31mInvalidArgumentError\u001b[0m: Graph execution error:\n\nDetected at node 'mean_squared_error/SquaredDifference' defined at (most recent call last):\n    File \"C:\\Users\\e.olalekan-elesin\\Anaconda3\\lib\\runpy.py\", line 197, in _run_module_as_main\n      return _run_code(code, main_globals, None,\n    File \"C:\\Users\\e.olalekan-elesin\\Anaconda3\\lib\\runpy.py\", line 87, in _run_code\n      exec(code, run_globals)\n    File \"C:\\Users\\e.olalekan-elesin\\Anaconda3\\lib\\site-packages\\ipykernel_launcher.py\", line 16, in <module>\n      app.launch_new_instance()\n    File \"C:\\Users\\e.olalekan-elesin\\Anaconda3\\lib\\site-packages\\traitlets\\config\\application.py\", line 846, in launch_instance\n      app.start()\n    File \"C:\\Users\\e.olalekan-elesin\\Anaconda3\\lib\\site-packages\\ipykernel\\kernelapp.py\", line 677, in start\n      self.io_loop.start()\n    File \"C:\\Users\\e.olalekan-elesin\\Anaconda3\\lib\\site-packages\\tornado\\platform\\asyncio.py\", line 199, in start\n      self.asyncio_loop.run_forever()\n    File \"C:\\Users\\e.olalekan-elesin\\Anaconda3\\lib\\asyncio\\base_events.py\", line 596, in run_forever\n      self._run_once()\n    File \"C:\\Users\\e.olalekan-elesin\\Anaconda3\\lib\\asyncio\\base_events.py\", line 1890, in _run_once\n      handle._run()\n    File \"C:\\Users\\e.olalekan-elesin\\Anaconda3\\lib\\asyncio\\events.py\", line 80, in _run\n      self._context.run(self._callback, *self._args)\n    File \"C:\\Users\\e.olalekan-elesin\\Anaconda3\\lib\\site-packages\\ipykernel\\kernelbase.py\", line 457, in dispatch_queue\n      await self.process_one()\n    File \"C:\\Users\\e.olalekan-elesin\\Anaconda3\\lib\\site-packages\\ipykernel\\kernelbase.py\", line 446, in process_one\n      await dispatch(*args)\n    File \"C:\\Users\\e.olalekan-elesin\\Anaconda3\\lib\\site-packages\\ipykernel\\kernelbase.py\", line 353, in dispatch_shell\n      await result\n    File \"C:\\Users\\e.olalekan-elesin\\Anaconda3\\lib\\site-packages\\ipykernel\\kernelbase.py\", line 648, in execute_request\n      reply_content = await reply_content\n    File \"C:\\Users\\e.olalekan-elesin\\Anaconda3\\lib\\site-packages\\ipykernel\\ipkernel.py\", line 353, in do_execute\n      res = shell.run_cell(code, store_history=store_history, silent=silent)\n    File \"C:\\Users\\e.olalekan-elesin\\Anaconda3\\lib\\site-packages\\ipykernel\\zmqshell.py\", line 533, in run_cell\n      return super(ZMQInteractiveShell, self).run_cell(*args, **kwargs)\n    File \"C:\\Users\\e.olalekan-elesin\\Anaconda3\\lib\\site-packages\\IPython\\core\\interactiveshell.py\", line 2901, in run_cell\n      result = self._run_cell(\n    File \"C:\\Users\\e.olalekan-elesin\\Anaconda3\\lib\\site-packages\\IPython\\core\\interactiveshell.py\", line 2947, in _run_cell\n      return runner(coro)\n    File \"C:\\Users\\e.olalekan-elesin\\Anaconda3\\lib\\site-packages\\IPython\\core\\async_helpers.py\", line 68, in _pseudo_sync_runner\n      coro.send(None)\n    File \"C:\\Users\\e.olalekan-elesin\\Anaconda3\\lib\\site-packages\\IPython\\core\\interactiveshell.py\", line 3172, in run_cell_async\n      has_raised = await self.run_ast_nodes(code_ast.body, cell_name,\n    File \"C:\\Users\\e.olalekan-elesin\\Anaconda3\\lib\\site-packages\\IPython\\core\\interactiveshell.py\", line 3364, in run_ast_nodes\n      if (await self.run_code(code, result,  async_=asy)):\n    File \"C:\\Users\\e.olalekan-elesin\\Anaconda3\\lib\\site-packages\\IPython\\core\\interactiveshell.py\", line 3444, in run_code\n      exec(code_obj, self.user_global_ns, self.user_ns)\n    File \"C:\\Users\\E3867~1.OLA\\AppData\\Local\\Temp/ipykernel_20912/813590747.py\", line 1, in <module>\n      model.fit(X_train, Y_train, epochs=20, verbose=0)\n    File \"C:\\Users\\e.olalekan-elesin\\Anaconda3\\lib\\site-packages\\keras\\utils\\traceback_utils.py\", line 64, in error_handler\n      return fn(*args, **kwargs)\n    File \"C:\\Users\\e.olalekan-elesin\\Anaconda3\\lib\\site-packages\\keras\\engine\\training.py\", line 1384, in fit\n      tmp_logs = self.train_function(iterator)\n    File \"C:\\Users\\e.olalekan-elesin\\Anaconda3\\lib\\site-packages\\keras\\engine\\training.py\", line 1021, in train_function\n      return step_function(self, iterator)\n    File \"C:\\Users\\e.olalekan-elesin\\Anaconda3\\lib\\site-packages\\keras\\engine\\training.py\", line 1010, in step_function\n      outputs = model.distribute_strategy.run(run_step, args=(data,))\n    File \"C:\\Users\\e.olalekan-elesin\\Anaconda3\\lib\\site-packages\\keras\\engine\\training.py\", line 1000, in run_step\n      outputs = model.train_step(data)\n    File \"C:\\Users\\e.olalekan-elesin\\Anaconda3\\lib\\site-packages\\keras\\engine\\training.py\", line 860, in train_step\n      loss = self.compute_loss(x, y, y_pred, sample_weight)\n    File \"C:\\Users\\e.olalekan-elesin\\Anaconda3\\lib\\site-packages\\keras\\engine\\training.py\", line 918, in compute_loss\n      return self.compiled_loss(\n    File \"C:\\Users\\e.olalekan-elesin\\Anaconda3\\lib\\site-packages\\keras\\engine\\compile_utils.py\", line 201, in __call__\n      loss_value = loss_obj(y_t, y_p, sample_weight=sw)\n    File \"C:\\Users\\e.olalekan-elesin\\Anaconda3\\lib\\site-packages\\keras\\losses.py\", line 141, in __call__\n      losses = call_fn(y_true, y_pred)\n    File \"C:\\Users\\e.olalekan-elesin\\Anaconda3\\lib\\site-packages\\keras\\losses.py\", line 245, in call\n      return ag_fn(y_true, y_pred, **self._fn_kwargs)\n    File \"C:\\Users\\e.olalekan-elesin\\Anaconda3\\lib\\site-packages\\keras\\losses.py\", line 1329, in mean_squared_error\n      return backend.mean(tf.math.squared_difference(y_pred, y_true), axis=-1)\nNode: 'mean_squared_error/SquaredDifference'\nIncompatible shapes: [32,10] vs. [32,24,10]\n\t [[{{node mean_squared_error/SquaredDifference}}]] [Op:__inference_train_function_76928]"
     ]
    }
   ],
   "source": [
    "model.fit(X_train, Y_train, epochs=20, verbose=0)"
   ]
  },
  {
   "cell_type": "code",
   "execution_count": 38,
   "id": "d7af6be3-a087-4cd8-96ed-03871a90a19a",
   "metadata": {},
   "outputs": [],
   "source": [
    "y_pred = model.predict(X_test)"
   ]
  },
  {
   "cell_type": "code",
   "execution_count": 39,
   "id": "bd68a151-4200-47c9-a289-1f8616aa08c5",
   "metadata": {},
   "outputs": [
    {
     "ename": "InvalidArgumentError",
     "evalue": "Incompatible shapes: [1000,24,10] vs. [1000,10] [Op:SquaredDifference]",
     "output_type": "error",
     "traceback": [
      "\u001b[1;31m---------------------------------------------------------------------------\u001b[0m",
      "\u001b[1;31mInvalidArgumentError\u001b[0m                      Traceback (most recent call last)",
      "\u001b[1;32mC:\\Users\\E3867~1.OLA\\AppData\\Local\\Temp/ipykernel_26024/1141435387.py\u001b[0m in \u001b[0;36m<module>\u001b[1;34m\u001b[0m\n\u001b[1;32m----> 1\u001b[1;33m \u001b[0mnp\u001b[0m\u001b[1;33m.\u001b[0m\u001b[0mmean\u001b[0m\u001b[1;33m(\u001b[0m\u001b[0mkeras\u001b[0m\u001b[1;33m.\u001b[0m\u001b[0mlosses\u001b[0m\u001b[1;33m.\u001b[0m\u001b[0mmean_squared_error\u001b[0m\u001b[1;33m(\u001b[0m\u001b[0mY_test\u001b[0m\u001b[1;33m,\u001b[0m \u001b[0my_pred\u001b[0m\u001b[1;33m)\u001b[0m\u001b[1;33m)\u001b[0m\u001b[1;33m\u001b[0m\u001b[1;33m\u001b[0m\u001b[0m\n\u001b[0m",
      "\u001b[1;32m~\\Anaconda3\\lib\\site-packages\\tensorflow\\python\\util\\traceback_utils.py\u001b[0m in \u001b[0;36merror_handler\u001b[1;34m(*args, **kwargs)\u001b[0m\n\u001b[0;32m    151\u001b[0m     \u001b[1;32mexcept\u001b[0m \u001b[0mException\u001b[0m \u001b[1;32mas\u001b[0m \u001b[0me\u001b[0m\u001b[1;33m:\u001b[0m\u001b[1;33m\u001b[0m\u001b[1;33m\u001b[0m\u001b[0m\n\u001b[0;32m    152\u001b[0m       \u001b[0mfiltered_tb\u001b[0m \u001b[1;33m=\u001b[0m \u001b[0m_process_traceback_frames\u001b[0m\u001b[1;33m(\u001b[0m\u001b[0me\u001b[0m\u001b[1;33m.\u001b[0m\u001b[0m__traceback__\u001b[0m\u001b[1;33m)\u001b[0m\u001b[1;33m\u001b[0m\u001b[1;33m\u001b[0m\u001b[0m\n\u001b[1;32m--> 153\u001b[1;33m       \u001b[1;32mraise\u001b[0m \u001b[0me\u001b[0m\u001b[1;33m.\u001b[0m\u001b[0mwith_traceback\u001b[0m\u001b[1;33m(\u001b[0m\u001b[0mfiltered_tb\u001b[0m\u001b[1;33m)\u001b[0m \u001b[1;32mfrom\u001b[0m \u001b[1;32mNone\u001b[0m\u001b[1;33m\u001b[0m\u001b[1;33m\u001b[0m\u001b[0m\n\u001b[0m\u001b[0;32m    154\u001b[0m     \u001b[1;32mfinally\u001b[0m\u001b[1;33m:\u001b[0m\u001b[1;33m\u001b[0m\u001b[1;33m\u001b[0m\u001b[0m\n\u001b[0;32m    155\u001b[0m       \u001b[1;32mdel\u001b[0m \u001b[0mfiltered_tb\u001b[0m\u001b[1;33m\u001b[0m\u001b[1;33m\u001b[0m\u001b[0m\n",
      "\u001b[1;32m~\\Anaconda3\\lib\\site-packages\\keras\\losses.py\u001b[0m in \u001b[0;36mmean_squared_error\u001b[1;34m(y_true, y_pred)\u001b[0m\n\u001b[0;32m   1327\u001b[0m   \u001b[0my_pred\u001b[0m \u001b[1;33m=\u001b[0m \u001b[0mtf\u001b[0m\u001b[1;33m.\u001b[0m\u001b[0mconvert_to_tensor\u001b[0m\u001b[1;33m(\u001b[0m\u001b[0my_pred\u001b[0m\u001b[1;33m)\u001b[0m\u001b[1;33m\u001b[0m\u001b[1;33m\u001b[0m\u001b[0m\n\u001b[0;32m   1328\u001b[0m   \u001b[0my_true\u001b[0m \u001b[1;33m=\u001b[0m \u001b[0mtf\u001b[0m\u001b[1;33m.\u001b[0m\u001b[0mcast\u001b[0m\u001b[1;33m(\u001b[0m\u001b[0my_true\u001b[0m\u001b[1;33m,\u001b[0m \u001b[0my_pred\u001b[0m\u001b[1;33m.\u001b[0m\u001b[0mdtype\u001b[0m\u001b[1;33m)\u001b[0m\u001b[1;33m\u001b[0m\u001b[1;33m\u001b[0m\u001b[0m\n\u001b[1;32m-> 1329\u001b[1;33m   \u001b[1;32mreturn\u001b[0m \u001b[0mbackend\u001b[0m\u001b[1;33m.\u001b[0m\u001b[0mmean\u001b[0m\u001b[1;33m(\u001b[0m\u001b[0mtf\u001b[0m\u001b[1;33m.\u001b[0m\u001b[0mmath\u001b[0m\u001b[1;33m.\u001b[0m\u001b[0msquared_difference\u001b[0m\u001b[1;33m(\u001b[0m\u001b[0my_pred\u001b[0m\u001b[1;33m,\u001b[0m \u001b[0my_true\u001b[0m\u001b[1;33m)\u001b[0m\u001b[1;33m,\u001b[0m \u001b[0maxis\u001b[0m\u001b[1;33m=\u001b[0m\u001b[1;33m-\u001b[0m\u001b[1;36m1\u001b[0m\u001b[1;33m)\u001b[0m\u001b[1;33m\u001b[0m\u001b[1;33m\u001b[0m\u001b[0m\n\u001b[0m\u001b[0;32m   1330\u001b[0m \u001b[1;33m\u001b[0m\u001b[0m\n\u001b[0;32m   1331\u001b[0m \u001b[1;33m\u001b[0m\u001b[0m\n",
      "\u001b[1;31mInvalidArgumentError\u001b[0m: Incompatible shapes: [1000,24,10] vs. [1000,10] [Op:SquaredDifference]"
     ]
    }
   ],
   "source": [
    "np.mean(keras.losses.mean_squared_error(Y_test, y_pred))"
   ]
  },
  {
   "cell_type": "code",
   "execution_count": 40,
   "id": "ca2b6299-d91a-402a-b9da-e66b7ab804a8",
   "metadata": {
    "scrolled": true,
    "tags": []
   },
   "outputs": [
    {
     "data": {
      "text/plain": [
       "array([[[-0.18585892,  0.00716328,  0.11722723, ..., -0.10716018,\n",
       "         -0.11233817, -0.27277634],\n",
       "        [-0.22764555,  0.06562891,  0.14231177, ..., -0.16431594,\n",
       "         -0.20384206, -0.35388947],\n",
       "        [-0.1446421 ,  0.23476233,  0.06705365, ..., -0.13312913,\n",
       "         -0.2703976 , -0.3387366 ],\n",
       "        ...,\n",
       "        [ 0.03378169, -0.33435968,  0.0217927 , ...,  0.0679271 ,\n",
       "          0.2678892 ,  0.24626635],\n",
       "        [-0.03929896, -0.14987369,  0.04506952, ..., -0.01314755,\n",
       "          0.07140928,  0.0390516 ],\n",
       "        [-0.05851668, -0.01488295,  0.03880037, ..., -0.03366779,\n",
       "         -0.02699501, -0.07427187]],\n",
       "\n",
       "       [[-0.19169864, -0.23667608,  0.1539764 , ..., -0.08007633,\n",
       "          0.0611162 , -0.13444175],\n",
       "        [-0.26232535, -0.0082928 ,  0.1699977 , ..., -0.1714867 ,\n",
       "         -0.17465702, -0.36085263],\n",
       "        [-0.16640714,  0.2199886 ,  0.07559612, ..., -0.13631405,\n",
       "         -0.27705133, -0.36456227],\n",
       "        ...,\n",
       "        [ 0.1356767 , -0.0638831 , -0.08208816, ...,  0.09681569,\n",
       "          0.13174608,  0.22842233],\n",
       "        [ 0.01684053, -0.18857902,  0.01150884, ...,  0.04997772,\n",
       "          0.16449106,  0.12835331],\n",
       "        [-0.1672422 , -0.2116195 ,  0.13132364, ..., -0.06101504,\n",
       "          0.06128512, -0.11850007]],\n",
       "\n",
       "       [[-0.12241252,  0.15290104,  0.06044126, ..., -0.10041218,\n",
       "         -0.19128363, -0.26262212],\n",
       "        [-0.0791859 ,  0.145508  ,  0.03430233, ..., -0.071072  ,\n",
       "         -0.15466316, -0.19798714],\n",
       "        [ 0.0220947 ,  0.15828766, -0.03379608, ..., -0.01321285,\n",
       "         -0.10750293, -0.06000041],\n",
       "        ...,\n",
       "        [-0.24744861,  0.00651669,  0.16053106, ..., -0.15774919,\n",
       "         -0.16178042, -0.35279268],\n",
       "        [-0.19263266,  0.1844456 ,  0.09877454, ..., -0.14780359,\n",
       "         -0.2641058 , -0.38075787],\n",
       "        [-0.12823203,  0.1976304 ,  0.05753338, ..., -0.10880132,\n",
       "         -0.22749473, -0.29817486]],\n",
       "\n",
       "       ...,\n",
       "\n",
       "       [[ 0.08068585,  0.24671686, -0.08094314, ...,  0.01527964,\n",
       "         -0.12419249, -0.03249794],\n",
       "        [ 0.17692481,  0.08648857, -0.12703937, ...,  0.10842797,\n",
       "          0.06032438,  0.19320391],\n",
       "        [ 0.15151347, -0.11319591, -0.08227899, ...,  0.11161881,\n",
       "          0.1830326 ,  0.2807262 ],\n",
       "        ...,\n",
       "        [ 0.02600446,  0.09447545, -0.02841029, ...,  0.00187916,\n",
       "         -0.05329805, -0.01873263],\n",
       "        [ 0.08993623,  0.05603908, -0.06502228, ...,  0.04666259,\n",
       "          0.01405658,  0.09488797],\n",
       "        [ 0.181289  ,  0.0265375 , -0.1224205 , ...,  0.10927828,\n",
       "          0.0909817 ,  0.24112672]],\n",
       "\n",
       "       [[-0.11160441,  0.03702671,  0.0661033 , ..., -0.06763887,\n",
       "         -0.08967949, -0.18398681],\n",
       "        [-0.11478264,  0.05538547,  0.06541207, ..., -0.07860365,\n",
       "         -0.11564182, -0.1955192 ],\n",
       "        [-0.1796892 ,  0.02996703,  0.11310592, ..., -0.11163432,\n",
       "         -0.12674944, -0.2749728 ],\n",
       "        ...,\n",
       "        [-0.07618278, -0.21494249,  0.07871401, ..., -0.01736792,\n",
       "          0.11351088,  0.01952982],\n",
       "        [-0.12044875, -0.03558866,  0.08267955, ..., -0.07693843,\n",
       "         -0.05971098, -0.14532232],\n",
       "        [-0.11975175,  0.0704367 ,  0.06851628, ..., -0.08545312,\n",
       "         -0.12828597, -0.21079662]],\n",
       "\n",
       "       [[-0.22311579, -0.10360132,  0.1592809 , ..., -0.13000886,\n",
       "         -0.06928742, -0.2513095 ],\n",
       "        [-0.22795269,  0.11128239,  0.13426927, ..., -0.16540249,\n",
       "         -0.23441505, -0.38433865],\n",
       "        [-0.12078036,  0.24744107,  0.0480862 , ..., -0.11965876,\n",
       "         -0.2682573 , -0.31241786],\n",
       "        ...,\n",
       "        [-0.07529669,  0.29252833,  0.01138613, ..., -0.09026387,\n",
       "         -0.26480785, -0.27895623],\n",
       "        [ 0.14588095,  0.2687646 , -0.13150781, ...,  0.0514873 ,\n",
       "         -0.11345668,  0.04834691],\n",
       "        [ 0.26186368,  0.06158468, -0.17610332, ...,  0.15415478,\n",
       "          0.12185629,  0.33417243]]], dtype=float32)"
      ]
     },
     "execution_count": 40,
     "metadata": {},
     "output_type": "execute_result"
    }
   ],
   "source": [
    "y_pred"
   ]
  },
  {
   "cell_type": "markdown",
   "id": "8241ec72-6952-4361-aadc-a89640992447",
   "metadata": {},
   "source": [
    "# Difference between Sequential and Functional APIs"
   ]
  },
  {
   "cell_type": "markdown",
   "id": "4b941364-9f53-4467-bff2-c01bdbfc0ecc",
   "metadata": {},
   "source": [
    "Sequential API allows you to create models layer-by-layer by stacking them. It is limited in that it does not allow you to create models that share layers or have multiple inputs or outputs."
   ]
  },
  {
   "cell_type": "code",
   "execution_count": 129,
   "id": "c42d60b3-bc4d-485e-bca5-06628de96ea8",
   "metadata": {},
   "outputs": [],
   "source": [
    "from tensorflow.keras.layers import Input,Dense"
   ]
  },
  {
   "cell_type": "code",
   "execution_count": 116,
   "id": "605c07a9-6e92-4a55-a466-aab269d9c5ac",
   "metadata": {},
   "outputs": [
    {
     "name": "stdout",
     "output_type": "stream",
     "text": [
      "Model: \"sequential_12\"\n",
      "_________________________________________________________________\n",
      " Layer (type)                Output Shape              Param #   \n",
      "=================================================================\n",
      " dense_11 (Dense)            (None, 10, 4)             12        \n",
      "                                                                 \n",
      " dense_12 (Dense)            (None, 10, 4)             20        \n",
      "                                                                 \n",
      " dense_13 (Dense)            (None, 10, 1)             5         \n",
      "                                                                 \n",
      "=================================================================\n",
      "Total params: 37\n",
      "Trainable params: 37\n",
      "Non-trainable params: 0\n",
      "_________________________________________________________________\n"
     ]
    }
   ],
   "source": [
    "from tensorflow.keras import Sequential, Model\n",
    "from tensorflow.keras import layers\n",
    "\n",
    "seq_model = Sequential()\n",
    "seq_model.add(layers.Dense(4, input_shape=(10,2)))\n",
    "seq_model.add(layers.Dense(4))\n",
    "seq_model.add(layers.Dense(1))\n",
    "seq_model.summary()"
   ]
  },
  {
   "cell_type": "code",
   "execution_count": 121,
   "id": "cd693112-70c7-4a9f-b50d-469b7d91e0f2",
   "metadata": {},
   "outputs": [
    {
     "name": "stdout",
     "output_type": "stream",
     "text": [
      "You must install pydot (`pip install pydot`) and install graphviz (see instructions at https://graphviz.gitlab.io/download/) for plot_model/model_to_dot to work.\n"
     ]
    }
   ],
   "source": [
    "tf.keras.utils.plot_model(seq_model, show_shapes = True)"
   ]
  },
  {
   "cell_type": "code",
   "execution_count": 118,
   "id": "1d00ac82-0793-406f-989a-1b8a564ff36d",
   "metadata": {},
   "outputs": [
    {
     "name": "stdout",
     "output_type": "stream",
     "text": [
      "Collecting pydotNote: you may need to restart the kernel to use updated packages.\n",
      "  Downloading pydot-1.4.2-py2.py3-none-any.whl (21 kB)\n",
      "Requirement already satisfied: pyparsing>=2.1.4 in c:\\users\\e.olalekan-elesin\\anaconda3\\lib\\site-packages (from pydot) (3.0.4)\n",
      "Installing collected packages: pydot\n",
      "Successfully installed pydot-1.4.2\n",
      "\n"
     ]
    }
   ],
   "source": [
    "pip install pydot"
   ]
  },
  {
   "cell_type": "code",
   "execution_count": 120,
   "id": "8326115e-0812-4f11-a52a-00d438cb0bc6",
   "metadata": {},
   "outputs": [
    {
     "name": "stdout",
     "output_type": "stream",
     "text": [
      "Collecting graphviz\n",
      "  Downloading graphviz-0.20-py3-none-any.whl (46 kB)\n",
      "Installing collected packages: graphviz\n",
      "Successfully installed graphviz-0.20\n",
      "Note: you may need to restart the kernel to use updated packages.\n"
     ]
    }
   ],
   "source": [
    "pip install graphviz "
   ]
  },
  {
   "cell_type": "markdown",
   "id": "8d46d8f1-dd7e-4e20-a1bd-e11125383374",
   "metadata": {},
   "source": [
    "Keras functional API provides a more flexibility as you can easily defines models where layers connect to more than just the previous and next layers, and you can connect layers to any other layers. As a result, you can create complex network such as Residual Network. The functional API can handle models with non-linear topology, shared layers, and even multiple inputs or outputs. In the functional API, models are created by specifying their inputs and outputs in a graph of layers. That means that a single graph of layers can be used to generate multiple models. You can treat any model as if it were a layer by invoking it on an Input or on the output of another layer. By calling a model you aren't just reusing the architecture of the model, you're also reusing its weights. The functional API makes it easy to manipulate non-linear connectivity topologies -- these are models with layers that are not connected sequentially, which the Sequential API cannot handle"
   ]
  },
  {
   "cell_type": "markdown",
   "id": "5f128e96-8f36-49b1-9f07-775b8c8fe603",
   "metadata": {},
   "source": [
    "Create a new node in the graph of layers by calling a layer on this inputs object"
   ]
  },
  {
   "cell_type": "code",
   "execution_count": 131,
   "id": "b55ef105-ff16-4ce5-b5a2-d208fff6f717",
   "metadata": {},
   "outputs": [
    {
     "name": "stdout",
     "output_type": "stream",
     "text": [
      "Model: \"model\"\n",
      "__________________________________________________________________________________________________\n",
      " Layer (type)                   Output Shape         Param #     Connected to                     \n",
      "==================================================================================================\n",
      " input_2 (InputLayer)           [(None, 10, 2)]      0           []                               \n",
      "                                                                                                  \n",
      " dense_19 (Dense)               (None, 10, 4)        12          ['input_2[0][0]']                \n",
      "                                                                                                  \n",
      " dense_20 (Dense)               (None, 10, 4)        20          ['dense_19[0][0]']               \n",
      "                                                                                                  \n",
      " dense_21 (Dense)               (None, 10, 1)        5           ['dense_20[0][0]']               \n",
      "                                                                                                  \n",
      " dense_22 (Dense)               (None, 10, 1)        5           ['dense_20[0][0]']               \n",
      "                                                                                                  \n",
      "==================================================================================================\n",
      "Total params: 42\n",
      "Trainable params: 42\n",
      "Non-trainable params: 0\n",
      "__________________________________________________________________________________________________\n"
     ]
    }
   ],
   "source": [
    "input1 = Input(shape=(10,2))\n",
    "lay1 = layers.Dense(4, input_shape=(10,2))(input1)\n",
    "lay2 = layers.Dense(4)(lay1)\n",
    "out1 = layers.Dense(1)(lay2)\n",
    "out2 = layers.Dense(1)(lay2)\n",
    "func_model = Model(inputs=input1, outputs=[out1, out2])\n",
    "func_model.summary()"
   ]
  },
  {
   "cell_type": "code",
   "execution_count": 142,
   "id": "aeaa29f2-3166-46ee-8c6c-789efe4c4d86",
   "metadata": {},
   "outputs": [],
   "source": [
    "inputs = keras.Input(shape=(784,))"
   ]
  },
  {
   "cell_type": "code",
   "execution_count": 143,
   "id": "c26f36f8-f230-4592-99f8-4e38636892d9",
   "metadata": {},
   "outputs": [
    {
     "data": {
      "text/plain": [
       "TensorShape([None, 784])"
      ]
     },
     "execution_count": 143,
     "metadata": {},
     "output_type": "execute_result"
    }
   ],
   "source": [
    "inputs.shape"
   ]
  },
  {
   "cell_type": "code",
   "execution_count": 146,
   "id": "d7b8a858-e5cd-4726-9df1-a8a4a30bae27",
   "metadata": {},
   "outputs": [],
   "source": [
    "dense = layers.Dense(64, activation=\"relu\")\n"
   ]
  },
  {
   "cell_type": "code",
   "execution_count": 147,
   "id": "9c1ce8e9-6eb0-4f19-ac57-eb6c8ab65079",
   "metadata": {},
   "outputs": [
    {
     "name": "stdout",
     "output_type": "stream",
     "text": [
      "Model: \"mnist_model\"\n",
      "_________________________________________________________________\n",
      " Layer (type)                Output Shape              Param #   \n",
      "=================================================================\n",
      " input_6 (InputLayer)        [(None, 784)]             0         \n",
      "                                                                 \n",
      " dense_32 (Dense)            (None, 64)                50240     \n",
      "                                                                 \n",
      " dense_33 (Dense)            (None, 64)                4160      \n",
      "                                                                 \n",
      " dense_36 (Dense)            (None, 64)                4160      \n",
      "                                                                 \n",
      " dense_37 (Dense)            (None, 10)                650       \n",
      "                                                                 \n",
      "=================================================================\n",
      "Total params: 59,210\n",
      "Trainable params: 59,210\n",
      "Non-trainable params: 0\n",
      "_________________________________________________________________\n"
     ]
    }
   ],
   "source": [
    "x = layers.Dense(64, activation=\"relu\")(x)\n",
    "outputs = layers.Dense(10)(x)\n",
    "model = keras.Model(inputs=inputs, outputs=outputs, name=\"mnist_model\")\n",
    "model.summary()"
   ]
  },
  {
   "cell_type": "code",
   "execution_count": null,
   "id": "eabba8fe-1432-440f-a487-c9f8bb6eb135",
   "metadata": {},
   "outputs": [],
   "source": []
  }
 ],
 "metadata": {
  "kernelspec": {
   "display_name": "Python 3 (ipykernel)",
   "language": "python",
   "name": "python3"
  },
  "language_info": {
   "codemirror_mode": {
    "name": "ipython",
    "version": 3
   },
   "file_extension": ".py",
   "mimetype": "text/x-python",
   "name": "python",
   "nbconvert_exporter": "python",
   "pygments_lexer": "ipython3",
   "version": "3.9.7"
  }
 },
 "nbformat": 4,
 "nbformat_minor": 5
}
